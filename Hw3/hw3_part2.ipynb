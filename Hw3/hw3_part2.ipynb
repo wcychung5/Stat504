{
 "cells": [
  {
   "cell_type": "markdown",
   "metadata": {},
   "source": [
    "<h2> Stat504 HW 3 </h2>\n",
    "<h3> Part 2 </h3><br>\n",
    "<b> University of Idhao </b><br>\n",
    "<b> Fall 2015 </b> <br>\n",
    "<b> Chung Yan Wan </b> <br>\n",
    "<br> <br>\n",
    "Data Set #2:  reviews_Musical_Instruments. The response variables is the reviewer’s rating in \"overall\": 5.0 versus 1.0 (ignore the other in-between ratings of 4.0, 3.0, and 2.0)\n",
    "<br> \n",
    "Data Set #2 source: www.webpages.uidaho.edu/~stevel/504/reviews_Musical_Instruments.json\n",
    "<br><br>\n",
    "The common goal for both data sets is to successfully develop a model to predict the response variable given the other explanatory variables/features. Conduct a data analysis for the above Data Sets using all you have learned in the semester to cleanup, build, and  compare/contrast the performance (10-CV with AUC- measure) of various models (including variables/features selections, Null, 1) NB, 2) knn, 3) logistic regression, 4) SVM Polynomial kernel, 5) SVM Gaussian kernel, 6) Tree, 7) Bagging, 8) Random Forest, 9) Noisy Replications Ensembling, 10) plus one feasible model of your choice which was not covered in class). Overlay all model ROC curves in one figure for the same data set, with a legend key. Discuss your modeling process, interesting findings, and conclusions."
   ]
  },
  {
   "cell_type": "markdown",
   "metadata": {},
   "source": [
    "<b> Import and clean up the data"
   ]
  },
  {
   "cell_type": "code",
   "execution_count": 26,
   "metadata": {
    "collapsed": false
   },
   "outputs": [],
   "source": [
    "import pandas as pd\n",
    "import numpy as np\n",
    "from sklearn.feature_selection import SelectKBest\n",
    "from sklearn.feature_selection import chi2\n",
    "from sklearn.feature_selection import f_classif\n",
    "from sklearn.cross_validation import train_test_split\n",
    "from sklearn.naive_bayes import GaussianNB\n",
    "from sklearn.cross_validation import cross_val_score\n",
    "from sklearn.neighbors import KNeighborsClassifier\n",
    "from sklearn import metrics\n",
    "import time\n",
    "import matplotlib.pyplot as plt\n",
    "from sklearn.linear_model import LogisticRegression\n",
    "from sklearn import svm\n",
    "from sklearn.tree import DecisionTreeClassifier\n",
    "import matplotlib.pyplot as plt\n",
    "from sklearn.ensemble import BaggingClassifier\n",
    "from sklearn.ensemble import RandomForestClassifier\n",
    "from sklearn.cross_validation import KFold\n",
    "import json\n",
    "from pprint import pprint\n",
    "import StringIO\n",
    "from IPython.display import Image\n",
    "from sklearn.feature_extraction.text import CountVectorizer\n",
    "#this module cannot be imported on a Mac, so model 8 Voting Classifier can only be reproduced on Windows or Linux\n",
    "from sklearn.ensemble import VotingClassifier\n",
    "import urllib\n",
    "from sklearn.naive_bayes import BernoulliNB\n",
    "from astropy.table import Table, Column"
   ]
  },
  {
   "cell_type": "code",
   "execution_count": 3,
   "metadata": {
    "collapsed": false
   },
   "outputs": [],
   "source": [
    "#urllib.urlretrieve('http://www.webpages.uidaho.edu/erichs/music.json', 'C:\\Users\\Joanne Wan\\Desktop\\hw3\\music.json')\n",
    "with open('C:\\Users\\Joanne Wan\\Desktop\\hw3\\music.json', 'rU') as f:\n",
    "    data = [json.loads(row) for row in f]\n",
    "    dataset2 = pd.DataFrame(data)\n",
    "#we only consider onservations that their overall rating = 1 and 5\n",
    "music_best_worst = dataset2[(dataset2.overall==1) | (dataset2.overall==5)]"
   ]
  },
  {
   "cell_type": "code",
   "execution_count": 4,
   "metadata": {
    "collapsed": false
   },
   "outputs": [
    {
     "name": "stdout",
     "output_type": "stream",
     "text": [
      "(131960, 9)\n"
     ]
    },
    {
     "data": {
      "text/html": [
       "<div>\n",
       "<table border=\"1\" class=\"dataframe\">\n",
       "  <thead>\n",
       "    <tr style=\"text-align: right;\">\n",
       "      <th></th>\n",
       "      <th>asin</th>\n",
       "      <th>helpful</th>\n",
       "      <th>overall</th>\n",
       "      <th>reviewText</th>\n",
       "      <th>reviewTime</th>\n",
       "      <th>reviewerID</th>\n",
       "      <th>reviewerName</th>\n",
       "      <th>summary</th>\n",
       "      <th>unixReviewTime</th>\n",
       "    </tr>\n",
       "  </thead>\n",
       "  <tbody>\n",
       "    <tr>\n",
       "      <th>1</th>\n",
       "      <td>0014072149</td>\n",
       "      <td>[0, 0]</td>\n",
       "      <td>5</td>\n",
       "      <td>If you are a serious violin student on a budge...</td>\n",
       "      <td>06 6, 2013</td>\n",
       "      <td>A3TS466QBAWB9D</td>\n",
       "      <td>Silver Pencil</td>\n",
       "      <td>Perform it with a friend, today!</td>\n",
       "      <td>1370476800</td>\n",
       "    </tr>\n",
       "    <tr>\n",
       "      <th>2</th>\n",
       "      <td>0041291905</td>\n",
       "      <td>[0, 0]</td>\n",
       "      <td>5</td>\n",
       "      <td>This is and excellent edition and perfectly tr...</td>\n",
       "      <td>10 14, 2013</td>\n",
       "      <td>A3BUDYITWUSIS7</td>\n",
       "      <td>joyce gabriel cornett</td>\n",
       "      <td>Vivalldi's Four Seasons</td>\n",
       "      <td>1381708800</td>\n",
       "    </tr>\n",
       "    <tr>\n",
       "      <th>3</th>\n",
       "      <td>0041913574</td>\n",
       "      <td>[0, 0]</td>\n",
       "      <td>5</td>\n",
       "      <td>Perfect for someone who is an opera fan or a w...</td>\n",
       "      <td>09 23, 2010</td>\n",
       "      <td>A19K10Z0D2NTZK</td>\n",
       "      <td>TexasCowboy</td>\n",
       "      <td>Full score: voice and orchestra</td>\n",
       "      <td>1285200000</td>\n",
       "    </tr>\n",
       "    <tr>\n",
       "      <th>4</th>\n",
       "      <td>0201891859</td>\n",
       "      <td>[0, 1]</td>\n",
       "      <td>1</td>\n",
       "      <td>How many Nocturnes does it contain? All of the...</td>\n",
       "      <td>10 17, 2012</td>\n",
       "      <td>A14X336IB4JD89</td>\n",
       "      <td>dfjm53</td>\n",
       "      <td>Unable to determine contents</td>\n",
       "      <td>1350432000</td>\n",
       "    </tr>\n",
       "    <tr>\n",
       "      <th>5</th>\n",
       "      <td>0577088726</td>\n",
       "      <td>[0, 0]</td>\n",
       "      <td>5</td>\n",
       "      <td>this was written for Carin Levine in 2008, but...</td>\n",
       "      <td>06 14, 2013</td>\n",
       "      <td>A2HR0IL3TC4CKL</td>\n",
       "      <td>scarecrow \"scarecrow\"</td>\n",
       "      <td>arduous indeed!</td>\n",
       "      <td>1371168000</td>\n",
       "    </tr>\n",
       "  </tbody>\n",
       "</table>\n",
       "</div>"
      ],
      "text/plain": [
       "         asin helpful  overall  \\\n",
       "1  0014072149  [0, 0]        5   \n",
       "2  0041291905  [0, 0]        5   \n",
       "3  0041913574  [0, 0]        5   \n",
       "4  0201891859  [0, 1]        1   \n",
       "5  0577088726  [0, 0]        5   \n",
       "\n",
       "                                          reviewText   reviewTime  \\\n",
       "1  If you are a serious violin student on a budge...   06 6, 2013   \n",
       "2  This is and excellent edition and perfectly tr...  10 14, 2013   \n",
       "3  Perfect for someone who is an opera fan or a w...  09 23, 2010   \n",
       "4  How many Nocturnes does it contain? All of the...  10 17, 2012   \n",
       "5  this was written for Carin Levine in 2008, but...  06 14, 2013   \n",
       "\n",
       "       reviewerID           reviewerName                           summary  \\\n",
       "1  A3TS466QBAWB9D          Silver Pencil  Perform it with a friend, today!   \n",
       "2  A3BUDYITWUSIS7  joyce gabriel cornett           Vivalldi's Four Seasons   \n",
       "3  A19K10Z0D2NTZK            TexasCowboy   Full score: voice and orchestra   \n",
       "4  A14X336IB4JD89                 dfjm53      Unable to determine contents   \n",
       "5  A2HR0IL3TC4CKL  scarecrow \"scarecrow\"                   arduous indeed!   \n",
       "\n",
       "   unixReviewTime  \n",
       "1      1370476800  \n",
       "2      1381708800  \n",
       "3      1285200000  \n",
       "4      1350432000  \n",
       "5      1371168000  "
      ]
     },
     "execution_count": 4,
     "metadata": {},
     "output_type": "execute_result"
    }
   ],
   "source": [
    "print music_best_worst.shape\n",
    "music_best_worst.head()"
   ]
  },
  {
   "cell_type": "markdown",
   "metadata": {},
   "source": [
    "<b> set up subsets X and y, and convert all values in y to binary</b>"
   ]
  },
  {
   "cell_type": "code",
   "execution_count": 5,
   "metadata": {
    "collapsed": false
   },
   "outputs": [
    {
     "name": "stdout",
     "output_type": "stream",
     "text": [
      "(131960L,)\n",
      "(131960L,)\n",
      "1     If you are a serious violin student on a budge...\n",
      "2     This is and excellent edition and perfectly tr...\n",
      "3     Perfect for someone who is an opera fan or a w...\n",
      "4     How many Nocturnes does it contain? All of the...\n",
      "5     this was written for Carin Levine in 2008, but...\n",
      "8     I was looking for a concert, not instructions ...\n",
      "9     If you are an unabashed EC fan (as I am), you ...\n",
      "12    Unless you are someone who dosen't have a clue...\n",
      "13    I've played guitar for over 40 years, but it's...\n",
      "16    THIS IS NOT A CLAPTON CONCERT!!! IT'S AN INSTR...\n",
      "Name: reviewText, dtype: object\n",
      "[1 1 1 0 1 0 1 1 1 0]\n"
     ]
    }
   ],
   "source": [
    "#feat_cols = [\"helpful\",\"reviewText\",\"reviewTime\",\"summary\",\"unixReviewTime\"] \n",
    "X = music_best_worst.reviewText\n",
    "y_original = music_best_worst.overall.astype(int)\n",
    "y = np.where(y_original==5, 1, 0)\n",
    "print X.shape\n",
    "print y.shape\n",
    "print X[0:10]\n",
    "print y[0:10]"
   ]
  },
  {
   "cell_type": "markdown",
   "metadata": {},
   "source": [
    "<b> Split X and y into training and testing sets</b>"
   ]
  },
  {
   "cell_type": "code",
   "execution_count": 6,
   "metadata": {
    "collapsed": false
   },
   "outputs": [],
   "source": [
    "X_train, X_test, y_train, y_test = train_test_split(X, y, random_state=1234567)\n",
    "#use only the first 100 features\n",
    "vect = CountVectorizer(max_features=100)"
   ]
  },
  {
   "cell_type": "markdown",
   "metadata": {},
   "source": [
    "<b> Use CountVectorizer to create document-term matrices from X_train and X_test </b>"
   ]
  },
  {
   "cell_type": "code",
   "execution_count": 7,
   "metadata": {
    "collapsed": false
   },
   "outputs": [],
   "source": [
    "train_dtm = vect.fit_transform(X_train)\n",
    "test_dtm = vect.transform(X_test)\n",
    "dtm = vect.transform(X)"
   ]
  },
  {
   "cell_type": "markdown",
   "metadata": {},
   "source": [
    "<h3>Null Model</h3>"
   ]
  },
  {
   "cell_type": "code",
   "execution_count": 60,
   "metadata": {
    "collapsed": false
   },
   "outputs": [
    {
     "name": "stdout",
     "output_type": "stream",
     "text": [
      "119739\n",
      "Null model accuracy: 0.907389\n",
      "Null model AUC: 0.500000\n"
     ]
    }
   ],
   "source": [
    "#null model and its accuracy\n",
    "overall_5 = np.count_nonzero(y)\n",
    "print overall_5\n",
    "# total observation is 131960, and overall_5=119739, so the null model is all one's. \n",
    "ypred = np.ones(131960)\n",
    "null_score = 119739.0/131960.0\n",
    "print ('Null model accuracy: %f' %null_score)\n",
    "null_auc = metrics.roc_auc_score(y, ypred)\n",
    "print ('Null model AUC: %f' %null_auc)"
   ]
  },
  {
   "cell_type": "markdown",
   "metadata": {},
   "source": [
    "<h3>Model 1: Bernoulli Naive Bayes</h3>"
   ]
  },
  {
   "cell_type": "markdown",
   "metadata": {},
   "source": [
    "<b> Find the average accuracy and AUC with 10-fold cross-validation for this model </b>"
   ]
  },
  {
   "cell_type": "code",
   "execution_count": 74,
   "metadata": {
    "collapsed": false
   },
   "outputs": [
    {
     "name": "stdout",
     "output_type": "stream",
     "text": [
      "Bernoulli NB average accracy: 0.887330\n",
      "Bernoulli NB AUC: 0.833571\n",
      "Computational time (in second): 3.493272\n"
     ]
    }
   ],
   "source": [
    "# 10-fold cross-validation for GaussianNB \n",
    "start = time.time()\n",
    "bnb = BernoulliNB()\n",
    "bnb_scores = cross_val_score(bnb, dtm, y, cv=10, scoring='accuracy')\n",
    "# use average accuracy as an estimate of out-of-sample accuracy\n",
    "print (\"Bernoulli NB average accracy: %f\" %bnb_scores.mean())\n",
    "bnb_auc = cross_val_score(bnb, dtm, y, cv=10, scoring='roc_auc')\n",
    "print (\"Bernoulli NB AUC: %f\" %bnb_auc.mean())\n",
    "end = time.time()\n",
    "bnb_time = end - start \n",
    "print (\"Computational time (in second): %f\"\n",
    "      % bnb_time)"
   ]
  },
  {
   "cell_type": "markdown",
   "metadata": {},
   "source": [
    "<h3>Model 2: K Nearest Neighbors </h3>"
   ]
  },
  {
   "cell_type": "markdown",
   "metadata": {},
   "source": [
    "<b> Find the average accuracy and AUC with 10-fold cross-validation for this model </b><br>\n",
    "note: this model has not been computed, becuase it cuased memory error on my computer"
   ]
  },
  {
   "cell_type": "code",
   "execution_count": null,
   "metadata": {
    "collapsed": false
   },
   "outputs": [],
   "source": [
    "# 10-fold cross-validation for KNN \n",
    "start = time.time()\n",
    "knn = KNeighborsClassifier()\n",
    "knn_scores = cross_val_score(knn, dtm, y, cv=10, scoring='accuracy')\n",
    "# use average accuracy as an estimate of out-of-sample accuracy\n",
    "print (\"Knn average accuracy: %f\" %knn_scores.mean())\n",
    "knn_auc = cross_val_score(knn, X_dtm, y, cv=10, scoring='roc_auc')\n",
    "print (\"knn AUC: %f\" %knn_auc.mean())\n",
    "end = time.time()\n",
    "knn_time = end - start \n",
    "print (\"Computational time (in second): %f\"\n",
    "      % knn_time)"
   ]
  },
  {
   "cell_type": "markdown",
   "metadata": {},
   "source": [
    "<h3> Model 3: Logistcl Regression </h3>\n",
    "<b> Find the average accuracy and AUC with 10-fold cross-validation for this model </b><br>"
   ]
  },
  {
   "cell_type": "code",
   "execution_count": 24,
   "metadata": {
    "collapsed": false
   },
   "outputs": [
    {
     "name": "stdout",
     "output_type": "stream",
     "text": [
      "Logistic regression average score: 0.919188\n",
      "Logistic regression average AUC: 0.872948\n",
      "Computational time (in second): 36.177000\n"
     ]
    }
   ],
   "source": [
    "#10-fold cross-validation for logreg\n",
    "start = time.time()\n",
    "logreg = LogisticRegression(C=1e9)\n",
    "logreg_scores = cross_val_score(logreg, dtm, y, cv=10, scoring='accuracy')\n",
    "# use average accuracy as an estimate of out-of-sample accuracy\n",
    "print (\"Logistic regression average score: %f\" %logreg_scores.mean())\n",
    "logreg_auc = cross_val_score(logreg, dtm, y, cv=10, scoring='roc_auc')\n",
    "print (\"Logistic regression average AUC: %f\" %logreg_auc.mean())\n",
    "end = time.time()\n",
    "logreg_time = end - start \n",
    "print (\"Computational time (in second): %f\" % logreg_time)"
   ]
  },
  {
   "cell_type": "markdown",
   "metadata": {},
   "source": [
    "<h3> Model 4: SVM Polynomial kernel </h3>"
   ]
  },
  {
   "cell_type": "markdown",
   "metadata": {},
   "source": [
    "<b> Find the average accuracy and AUC with 10-fold cross-validation for this model </b><br>\n",
    "note: the SVM take an extremely long time to compute, so I dont have the results of them"
   ]
  },
  {
   "cell_type": "code",
   "execution_count": null,
   "metadata": {
    "collapsed": true
   },
   "outputs": [],
   "source": [
    "#10-fold cross-validation for SVM poly\n",
    "start = time.time()\n",
    "svm_poly = svm.SVC(kernel='poly')\n",
    "svm1_scores = cross_val_score(svm_poly, dtm, y, cv=10, scoring='accuracy')\n",
    "# use average accuracy as an estimate of out-of-sample accuracy\n",
    "print (\"SVM Polynomial average score: %f\" %svm1_scores.mean())\n",
    "svm1_auc = cross_val_score(svm_poly, dtm, y, cv=10, scoring='roc_auc')\n",
    "print (\"SVM Polynomial average AUC: %f\" %svm1_auc.mean())\n",
    "end = time.time()\n",
    "svm1_time = end - start \n",
    "print (\"Computational time (in second): %f\" % svm1_time)"
   ]
  },
  {
   "cell_type": "markdown",
   "metadata": {},
   "source": [
    "<h3> Model 5: SVM Gaussian kernel </h3>"
   ]
  },
  {
   "cell_type": "markdown",
   "metadata": {},
   "source": [
    "<b> Find the average accuracy and AUC with 10-fold cross-validation for this model </b>"
   ]
  },
  {
   "cell_type": "code",
   "execution_count": null,
   "metadata": {
    "collapsed": true
   },
   "outputs": [],
   "source": [
    "#10-fold cross-validation for SVM Gaussian\n",
    "start = time.time()\n",
    "svm_rbf = svm.SVC(kernel='rbf')\n",
    "svm2_scores = cross_val_score(svm_rbf, dtm, y, cv=10, scoring='accuracy')\n",
    "# use average accuracy as an estimate of out-of-sample accuracy\n",
    "print (\"SVM Gaussian average score: %f\" %svm2_scores.mean())\n",
    "svm2_auc = cross_val_score(svm_rbf, dtm, y, cv=10, scoring='roc_auc')\n",
    "print (\"SVM Gaussian average score: %f\" %svm2_auc.mean())\n",
    "end = time.time()\n",
    "svm2_time = end - start \n",
    "print (\"Computational time (in second): %f\" % svm2_time)"
   ]
  },
  {
   "cell_type": "markdown",
   "metadata": {},
   "source": [
    "<h3> Model 6: Decision Tree Classifier </h3>"
   ]
  },
  {
   "cell_type": "code",
   "execution_count": 14,
   "metadata": {
    "collapsed": false
   },
   "outputs": [
    {
     "name": "stdout",
     "output_type": "stream",
     "text": [
      "Decision Tree average scores: 0.861360\n",
      "Decision Tree AUC: 0.620443\n",
      "Computational time (in second): 605.914000\n"
     ]
    }
   ],
   "source": [
    "#decision cannot be compute, it caused memory error only computer \n",
    "# 10-fold cross-validation for Decision Tree \n",
    "start = time.time()\n",
    "treeclf = DecisionTreeClassifier()\n",
    "treeclf_scores = cross_val_score(treeclf, dtm, y, cv=10, scoring='accuracy').mean()\n",
    "# use average accuracy as an estimate of out-of-sample accuracy\n",
    "print (\"Decision Tree average scores: %f\" % treeclf_scores.mean())\n",
    "treeclf_auc = cross_val_score(treeclf, dtm, y, cv=10, scoring='roc_auc')\n",
    "print (\"Decision Tree AUC: %f\" % treeclf_auc.mean())\n",
    "end = time.time()\n",
    "treeclf_time = end - start\n",
    "print (\"Computational time (in second): %f\"\n",
    "      % treeclf_time)"
   ]
  },
  {
   "cell_type": "markdown",
   "metadata": {},
   "source": [
    "<h3> Model 7: Ensemble Bagging </h3>"
   ]
  },
  {
   "cell_type": "markdown",
   "metadata": {},
   "source": [
    "<b> Find the average accuracy and AUC with 10-fold cross-validation for this model </b>"
   ]
  },
  {
   "cell_type": "code",
   "execution_count": 79,
   "metadata": {
    "collapsed": false
   },
   "outputs": [
    {
     "name": "stdout",
     "output_type": "stream",
     "text": [
      "Bagging average scores: 0.907298\n",
      "Bagging AUC: 0.585169\n",
      "Computational time (in second): 85.335378\n"
     ]
    }
   ],
   "source": [
    "# 10-fold cross-validation for Bagging\n",
    "start = time.time()\n",
    "bag = BaggingClassifier(n_estimators=33, max_samples=9, max_features=1.0)\n",
    "bag_scores = cross_val_score(bag, dtm, y, cv=10, scoring='accuracy').mean()\n",
    "# use average accuracy as an estimate of out-of-sample accuracy\n",
    "print (\"Bagging average scores: %f\" % bag_scores.mean())\n",
    "bag_auc = cross_val_score(bag, dtm, y, cv=10, scoring='roc_auc')\n",
    "print (\"Bagging AUC: %f\" % bag_auc.mean())\n",
    "end = time.time()\n",
    "bag_time = end - start\n",
    "print (\"Computational time (in second): %f\"\n",
    "      % bag_time)"
   ]
  },
  {
   "cell_type": "markdown",
   "metadata": {},
   "source": [
    "<h3> Model 8: Ensemble Random Forest </h3>"
   ]
  },
  {
   "cell_type": "markdown",
   "metadata": {},
   "source": [
    "<b> Find the average accuracy and AUC with 10-fold cross-validation for this model </b>"
   ]
  },
  {
   "cell_type": "code",
   "execution_count": 81,
   "metadata": {
    "collapsed": false
   },
   "outputs": [
    {
     "name": "stdout",
     "output_type": "stream",
     "text": [
      "Rondom Forest Classifier average scores: 0.907396\n",
      "Rondom Forest Classifier AUC: 0.832019\n",
      "Computational time (in second): 54.474295\n"
     ]
    }
   ],
   "source": [
    "# 10-fold cross-validation for Random Forest Classifier \n",
    "start = time.time()\n",
    "rfc = RandomForestClassifier(n_estimators=12, max_depth=7)\n",
    "rfc_scores = cross_val_score(rfc, dtm, y, cv=10, scoring='accuracy').mean()\n",
    "# use average accuracy as an estimate of out-of-sample accuracy\n",
    "print (\"Rondom Forest Classifier average scores: %f\" % rfc_scores.mean())\n",
    "rfc_auc = cross_val_score(rfc, dtm, y, cv=10, scoring='roc_auc')\n",
    "print (\"Rondom Forest Classifier AUC: %f\" % rfc_auc.mean())\n",
    "end = time.time()\n",
    "rfc_time = end - start\n",
    "print (\"Computational time (in second): %f\"\n",
    "      % rfc_time)"
   ]
  },
  {
   "cell_type": "markdown",
   "metadata": {},
   "source": [
    "<h3> Model 9: Voting Classifier </h3>\n",
    "<b> Find the average accuracy and AUC with 10-fold cross-validation for this model </b>    "
   ]
  },
  {
   "cell_type": "code",
   "execution_count": 18,
   "metadata": {
    "collapsed": false
   },
   "outputs": [
    {
     "name": "stdout",
     "output_type": "stream",
     "text": [
      "Voting Classifier average scores: 0.917604\n",
      "Voting Classifier AUC: 0.866488\n",
      "Computational time (in second): 704.763000\n"
     ]
    }
   ],
   "source": [
    "# 10-fold cross-validation for Voting Classifier \n",
    "start = time.time()\n",
    "clf1 = LogisticRegression(random_state=1)\n",
    "clf2 = RandomForestClassifier(random_state=1)\n",
    "clf3 = BernoulliNB()\n",
    "eclf = VotingClassifier(estimators=[('lr', clf1), ('rf', clf2), ('bnb', clf3)], voting='soft')\n",
    "vc_scores = cross_val_score(eclf, dtm, y, cv=10, scoring='accuracy').mean()\n",
    "# use average accuracy as an estimate of out-of-sample accuracy\n",
    "print (\"Voting Classifier average scores: %f\" % vc_scores.mean())\n",
    "vc_auc = cross_val_score(eclf, dtm, y, cv=10, scoring='roc_auc')\n",
    "print (\"Voting Classifier AUC: %f\" % vc_auc.mean())\n",
    "end = time.time()\n",
    "vc_time = end - start\n",
    "print (\"Computational time (in second): %f\"\n",
    "      % vc_time)"
   ]
  },
  {
   "cell_type": "markdown",
   "metadata": {},
   "source": [
    "<h3>AUC, Computation Time, and ROC </h3>"
   ]
  },
  {
   "cell_type": "code",
   "execution_count": 8,
   "metadata": {
    "collapsed": false
   },
   "outputs": [
    {
     "name": "stdout",
     "output_type": "stream",
     "text": [
      "Bernoulli Naive Bayes AUC:  0.836333816563\n",
      "Computational time: 0.109000\n"
     ]
    }
   ],
   "source": [
    "start1 = time.time()\n",
    "bnb = BernoulliNB()\n",
    "bnb.fit(train_dtm,y_train)\n",
    "bnb_y_pred_prob = bnb.predict_proba(test_dtm)[:, 1]\n",
    "bnb_fpr, bnb_tpr, bnb_thresholds = metrics.roc_curve(y_test, bnb_y_pred_prob)\n",
    "print 'Bernoulli Naive Bayes AUC: ', metrics.roc_auc_score(y_test, bnb_y_pred_prob)\n",
    "end1 = time.time()\n",
    "run1 = end1 - start1\n",
    "print (\"Computational time: %f\" %run1 )"
   ]
  },
  {
   "cell_type": "code",
   "execution_count": 9,
   "metadata": {
    "collapsed": false
   },
   "outputs": [
    {
     "name": "stdout",
     "output_type": "stream",
     "text": [
      "Logistic Regression AUC:  0.875620561047\n",
      "Computational time: 1.619000\n"
     ]
    }
   ],
   "source": [
    "start2 = time.time()\n",
    "logreg = LogisticRegression(C=1e9)\n",
    "logreg.fit(train_dtm,y_train)\n",
    "lr_y_pred_prob = logreg.predict_proba(test_dtm)[:, 1]\n",
    "lr_fpr, lr_tpr, lr_thresholds = metrics.roc_curve(y_test, lr_y_pred_prob)\n",
    "print 'Logistic Regression AUC: ', metrics.roc_auc_score(y_test, lr_y_pred_prob)\n",
    "end2 = time.time()\n",
    "print ('Computational time: %f' %(end2-start2))"
   ]
  },
  {
   "cell_type": "code",
   "execution_count": null,
   "metadata": {
    "collapsed": true
   },
   "outputs": [],
   "source": [
    "#decision cannot be compute, it caused memory error only computer \n",
    "start3 = time.time()\n",
    "knn = KNeighborsClassifier()\n",
    "knn.fit(train_dtm,y_train)\n",
    "knn_y_pred_prob = knn.predict_proba(test_dtm)[:, 1]\n",
    "knn_fpr, knn_tpr, knn_thresholds = metrics.roc_curve(y_test, knn_y_pred_prob)\n",
    "print 'Knn AUC: ', metrics.roc_auc_score(y_test, knn_y_pred_prob)\n",
    "end3 = time.time()\n",
    "print ('Computational time: %f' %(end3-start3))"
   ]
  },
  {
   "cell_type": "code",
   "execution_count": 12,
   "metadata": {
    "collapsed": false
   },
   "outputs": [
    {
     "name": "stdout",
     "output_type": "stream",
     "text": [
      "SVM Polynomial Kernal AUC:  0.818585486652\n",
      "Computational time: 22424.309000\n"
     ]
    }
   ],
   "source": [
    "start4 = time.time()\n",
    "svm_poly = svm.SVC(kernel='poly',probability=True)\n",
    "svm_poly.fit(train_dtm,y_train)\n",
    "svm1_y_pred_prob = svm_poly.predict_proba(test_dtm)[:, 1]\n",
    "svm1_fpr, svm1_tpr, svm1_thresholds = metrics.roc_curve(y_test, svm1_y_pred_prob)\n",
    "print 'SVM Polynomial Kernal AUC: ', metrics.roc_auc_score(y_test, svm1_y_pred_prob)\n",
    "end4 = time.time()\n",
    "print ('Computational time: %f' %(end4-start4))"
   ]
  },
  {
   "cell_type": "code",
   "execution_count": 13,
   "metadata": {
    "collapsed": false
   },
   "outputs": [
    {
     "name": "stdout",
     "output_type": "stream",
     "text": [
      "SVM Gaussian Kernel AUC:  0.875295054109\n",
      "Computational time: 7130.943000\n"
     ]
    }
   ],
   "source": [
    "start5 = time.time()\n",
    "svm_rbf = svm.SVC(kernel='rbf',probability=True)\n",
    "svm_rbf.fit(train_dtm,y_train)\n",
    "svm2_y_pred_prob = svm_rbf.predict_proba(test_dtm)[:, 1]\n",
    "svm2_fpr, svm2_tpr, svm2_thresholds = metrics.roc_curve(y_test, svm2_y_pred_prob)\n",
    "print 'SVM Gaussian Kernel AUC: ', metrics.roc_auc_score(y_test, svm2_y_pred_prob)\n",
    "end5 = time.time()\n",
    "print ('Computational time: %f' %(end5-start5))"
   ]
  },
  {
   "cell_type": "code",
   "execution_count": 14,
   "metadata": {
    "collapsed": false
   },
   "outputs": [
    {
     "name": "stdout",
     "output_type": "stream",
     "text": [
      "Decision Tree AUC:  0.77765994915\n",
      "Computational time: 0.954000\n"
     ]
    }
   ],
   "source": [
    "start6 = time.time()\n",
    "treeclf = DecisionTreeClassifier(max_depth = 6)\n",
    "treeclf.fit(train_dtm,y_train)\n",
    "ct_y_pred_prob = treeclf.predict_proba(test_dtm)[:, 1]\n",
    "ct_fpr, ct_tpr, ct_thresholds = metrics.roc_curve(y_test, ct_y_pred_prob)\n",
    "print 'Decision Tree AUC: ', metrics.roc_auc_score(y_test, ct_y_pred_prob)\n",
    "end6 = time.time()\n",
    "print ('Computational time: %f' %(end6-start6))"
   ]
  },
  {
   "cell_type": "code",
   "execution_count": 15,
   "metadata": {
    "collapsed": false
   },
   "outputs": [
    {
     "name": "stdout",
     "output_type": "stream",
     "text": [
      "Bagging AUC:  0.57525560324\n",
      "Computational time: 3.391000\n"
     ]
    }
   ],
   "source": [
    "start7 = time.time()\n",
    "bag = BaggingClassifier(n_estimators=33, max_samples=9, max_features=1.0)\n",
    "bag.fit(train_dtm,y_train)\n",
    "bag_y_pred_prob = bag.predict_proba(test_dtm)[:, 1]\n",
    "bag_fpr, bag_tpr, bag_thresholds = metrics.roc_curve(y_test, bag_y_pred_prob)\n",
    "print 'Bagging AUC: ', metrics.roc_auc_score(y_test, bag_y_pred_prob)\n",
    "end7 = time.time()\n",
    "print ('Computational time: %f' %(end7-start7))"
   ]
  },
  {
   "cell_type": "code",
   "execution_count": 16,
   "metadata": {
    "collapsed": false
   },
   "outputs": [
    {
     "name": "stdout",
     "output_type": "stream",
     "text": [
      "Random Forest AUC:  0.832787577028\n",
      "Computational time: 1.672000\n"
     ]
    }
   ],
   "source": [
    "start8 = time.time()\n",
    "rfc = RandomForestClassifier(n_estimators=12, max_depth=7)\n",
    "rfc.fit(train_dtm,y_train)\n",
    "rf_y_pred_prob = rfc.predict_proba(test_dtm)[:, 1]\n",
    "rf_fpr, rf_tpr, rf_thresholds = metrics.roc_curve(y_test, rf_y_pred_prob)\n",
    "print 'Random Forest AUC: ', metrics.roc_auc_score(y_test, rf_y_pred_prob)\n",
    "end8 = time.time()\n",
    "print ('Computational time: %f' %(end8-start8))"
   ]
  },
  {
   "cell_type": "code",
   "execution_count": 18,
   "metadata": {
    "collapsed": false
   },
   "outputs": [
    {
     "name": "stdout",
     "output_type": "stream",
     "text": [
      "Voting Classifier AUC:  0.86846657836\n",
      "Computational time: 26.034000\n"
     ]
    }
   ],
   "source": [
    "start9 = time.time()\n",
    "clf1 = LogisticRegression(random_state=1)\n",
    "clf2 = RandomForestClassifier(random_state=1)\n",
    "clf3 = BernoulliNB()\n",
    "eclf = VotingClassifier(estimators=[('lr', clf1), ('rf', clf2), ('gnb', clf3)], voting='soft')\n",
    "eclf.fit(train_dtm,y_train)\n",
    "vc_y_pred_prob = eclf.predict_proba(test_dtm)[:, 1]\n",
    "vc_fpr, vc_tpr, vc_thresholds = metrics.roc_curve(y_test, vc_y_pred_prob)\n",
    "print 'Voting Classifier AUC: ', metrics.roc_auc_score(y_test, vc_y_pred_prob)\n",
    "end9 = time.time()\n",
    "print 'Computational time: %f' %(end9-start9)"
   ]
  },
  {
   "cell_type": "code",
   "execution_count": 23,
   "metadata": {
    "collapsed": false
   },
   "outputs": [
    {
     "data": {
      "text/plain": [
       "<matplotlib.legend.Legend at 0x6871ee48>"
      ]
     },
     "execution_count": 23,
     "metadata": {},
     "output_type": "execute_result"
    },
    {
     "data": {
      "image/png": "[encoded data removed]",
      "text/plain": [
       "<matplotlib.figure.Figure at 0x4976ada0>"
      ]
     },
     "metadata": {},
     "output_type": "display_data"
    }
   ],
   "source": [
    "%matplotlib inline\n",
    "plt.plot(bnb_fpr, bnb_tpr, 'blue', label ='Naive Bayes')\n",
    "plt.plot(lr_fpr, lr_tpr, 'cyan', label ='Logistic Regression')\n",
    "#plt.plot(knn_fpr, knn_tpr, 'black', label ='k-Nearest Neighbors')\n",
    "plt.plot(ct_fpr, ct_tpr, 'deeppink', label = 'Classification Tree')\n",
    "plt.plot(svm1_fpr, svm1_tpr, 'purple', label ='SVM Polynomial Kernel')\n",
    "plt.plot(svm2_fpr, svm2_tpr, 'red', label ='SVM Gaussian Kernel')\n",
    "plt.plot(bag_fpr, bag_tpr, 'yellow', label ='Bagging')\n",
    "plt.plot(rf_fpr, rf_tpr, 'olive', label ='Random Forest')\n",
    "plt.plot(vc_fpr, vc_tpr, 'brown', label ='Voting Classifier')\n",
    "plt.xlim([0.0, 1.0])\n",
    "plt.ylim([0.0, 1.0])\n",
    "plt.xlabel('False Positive Rate (1 - Specificity)')\n",
    "plt.ylabel('True Positive Rate (Sensitivity)')\n",
    "plt.legend(bbox_to_anchor=(1, 1), loc=2, borderaxespad=0.)"
   ]
  },
  {
   "cell_type": "markdown",
   "metadata": {},
   "source": [
    "<b> Logistic Regression and Decision Tree seem to yeild the greatest AUC!</b><br><br>\n",
    "<h3> Results Table</h3>\n",
    "Note: Some of the CV Accuracy and CU AUC result were missing because they took too long to process. I also didn't get a result from the Knn model, a monery error message popped up when I ran the model. "
   ]
  },
  {
   "cell_type": "code",
   "execution_count": 33,
   "metadata": {
    "collapsed": false
   },
   "outputs": [
    {
     "name": "stdout",
     "output_type": "stream",
     "text": [
      "      Model       CV Accuracy  CV AUC       AUC        Comput. time \n",
      "----------------- ----------- -------- -------------- --------------\n",
      "             Null    0.907389      0.5            0.5               \n",
      "     Bernoulli NB     0.88733 0.833571 0.836333816563 0.108999967575\n",
      "              Knn                                                   \n",
      "        Log. Reg.    0.919188   872947 0.875620561047  1.61899995804\n",
      "         SVM Poly                      0.818585486652      22424.309\n",
      "    SVM Gaussian0                      0.875295054109  7130.94300008\n",
      "    Decision Tree     0.86136 0.620443  0.77765994915 0.953999996185\n",
      "          Bagging    0.907396 0.832019  0.57525560324  3.39100003242\n",
      "    Random Forest     0.97396 0.832019 0.832787577028  1.67199993134\n",
      "Voting Classifier    0.917604 0.866488  0.86846657836  26.0339999199\n"
     ]
    }
   ],
   "source": [
    "arr = np.array([['Null', 0.907389,0.5,0.5,''],\n",
    "                ['Bernoulli NB', 0.887330,0.833571,0.836333816563, run1],\n",
    "                ['Knn','','', '',''],\n",
    "               ['Log. Reg.', 0.919188, 872947,0.875620561047, end2-start2],\n",
    "                ['SVM Poly', '', '',0.818585486652, end4-start4 ],\n",
    "                ['SVM Gaussian0', '', '',0.875295054109, end5-start5],\n",
    "                ['Decision Tree', 0.861360, 0.620443,0.77765994915, end6-start6],\n",
    "                ['Bagging', 0.907396, 0.832019,0.57525560324, end7-start7],\n",
    "                ['Random Forest',0.97396, 0.832019,0.832787577028, end8-start8],\n",
    "                ['Voting Classifier', 0.917604,0.866488,0.86846657836, end9-start9]])\n",
    "#The values of AUC were gotten from one train-and-test model prediction\n",
    "t = Table(arr, names = ('Model','CV Accuracy', 'CV AUC', 'AUC', 'Comput. time'))\n",
    "print t "
   ]
  }
 ],
 "metadata": {
  "kernelspec": {
   "display_name": "Python 2",
   "language": "python",
   "name": "python2"
  },
  "language_info": {
   "codemirror_mode": {
    "name": "ipython",
    "version": 2
   },
   "file_extension": ".py",
   "mimetype": "text/x-python",
   "name": "python",
   "nbconvert_exporter": "python",
   "pygments_lexer": "ipython2",
   "version": "2.7.10"
  }
 },
 "nbformat": 4,
 "nbformat_minor": 0
}
