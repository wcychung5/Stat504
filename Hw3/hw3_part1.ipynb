{
 "cells": [
  {
   "cell_type": "markdown",
   "metadata": {},
   "source": [
    "<h2> Stat504 HW 3 </h2>\n",
    "<h3> Part 1 </h3><br>\n",
    "<b> University of Idhao </b><br>\n",
    "<b> Fall 2015 </b> <br>\n",
    "<b> Chung Yan Wan </b> <br>\n",
    "<br> <br>\n",
    "Data Set #1: STRONG-R Male Sample_Reduced_2014-03-14.csv (with variables description in  STRONG Codebook.xls). The response variable is FelRecidYr3 (1 versus 0) - Felony recidivism in 3 years.\n",
    "<br> \n",
    "Data Set #1 Variables Description: www.webpages.uidaho.edu/~stevel/504/STRONG Codebook.xls\n",
    "<br><br>\n",
    "The common goal for both data sets is to successfully develop a model to predict the response variable given the other explanatory variables/features. Conduct a data analysis for the above Data Sets using all you have learned in the semester to cleanup, build, and  compare/contrast the performance (10-CV with AUC- measure) of various models (including variables/features selections, Null, 1) NB, 2) knn, 3) logistic regression, 4) SVM Polynomial kernel, 5) SVM Gaussian kernel, 6) Tree, 7) Bagging, 8) Random Forest, 9) Noisy Replications Ensembling, 10) plus one feasible model of your choice which was not covered in class). Overlay all model ROC curves in one figure for the same data set, with a legend key. Discuss your modeling process, interesting findings, and conclusions."
   ]
  },
  {
   "cell_type": "code",
   "execution_count": 39,
   "metadata": {
    "collapsed": false
   },
   "outputs": [],
   "source": [
    "import pandas as pd\n",
    "import numpy as np\n",
    "from sklearn.feature_selection import SelectKBest\n",
    "from sklearn.feature_selection import chi2\n",
    "from sklearn.feature_selection import f_classif\n",
    "from sklearn.cross_validation import train_test_split\n",
    "from sklearn.naive_bayes import GaussianNB\n",
    "from sklearn.cross_validation import cross_val_score\n",
    "from sklearn.neighbors import KNeighborsClassifier\n",
    "from sklearn import metrics\n",
    "import time\n",
    "import matplotlib.pyplot as plt\n",
    "from sklearn.linear_model import LogisticRegression\n",
    "from sklearn import svm\n",
    "from sklearn.tree import DecisionTreeClassifier\n",
    "import matplotlib.pyplot as plt\n",
    "from sklearn.ensemble import BaggingClassifier\n",
    "from sklearn.ensemble import RandomForestClassifier\n",
    "from sklearn.cross_validation import KFold\n",
    "#this module cannot be imported on a Mac, so model 8 Voting Classifier can only be reproduced on Windows or Linux\n",
    "from sklearn.ensemble import VotingClassifier  \n",
    "from astropy.table import Table, Column"
   ]
  },
  {
   "cell_type": "markdown",
   "metadata": {},
   "source": [
    "<h3> Import and clean up the data </h3>"
   ]
  },
  {
   "cell_type": "code",
   "execution_count": 7,
   "metadata": {
    "collapsed": false
   },
   "outputs": [
    {
     "name": "stdout",
     "output_type": "stream",
     "text": [
      "(21373, 341)\n"
     ]
    },
    {
     "data": {
      "text/html": [
       "<div>\n",
       "<table border=\"1\" class=\"dataframe\">\n",
       "  <thead>\n",
       "    <tr style=\"text-align: right;\">\n",
       "      <th></th>\n",
       "      <th>AgeAsses3RN</th>\n",
       "      <th>AgeAtFirstConvR</th>\n",
       "      <th>JvFelCon</th>\n",
       "      <th>JvVioCon</th>\n",
       "      <th>JvComit</th>\n",
       "      <th>HomConv</th>\n",
       "      <th>SexConv</th>\n",
       "      <th>VProCon</th>\n",
       "      <th>AssaCon</th>\n",
       "      <th>DomVio</th>\n",
       "      <th>...</th>\n",
       "      <th>CopFodNd3</th>\n",
       "      <th>CopBugNd3</th>\n",
       "      <th>CopTraNd3</th>\n",
       "      <th>CopHygNd3</th>\n",
       "      <th>CopMedNd3</th>\n",
       "      <th>CopMHNd3</th>\n",
       "      <th>FelRecidYr3</th>\n",
       "      <th>Unnamed: 338</th>\n",
       "      <th>Unnamed: 339</th>\n",
       "      <th>Unnamed: 340</th>\n",
       "    </tr>\n",
       "  </thead>\n",
       "  <tbody>\n",
       "    <tr>\n",
       "      <th>0</th>\n",
       "      <td>0</td>\n",
       "      <td>0</td>\n",
       "      <td>0</td>\n",
       "      <td>0</td>\n",
       "      <td>0</td>\n",
       "      <td>0</td>\n",
       "      <td>2</td>\n",
       "      <td>0</td>\n",
       "      <td>0</td>\n",
       "      <td>0</td>\n",
       "      <td>...</td>\n",
       "      <td>0</td>\n",
       "      <td>0</td>\n",
       "      <td>0</td>\n",
       "      <td>0</td>\n",
       "      <td>0</td>\n",
       "      <td>0</td>\n",
       "      <td>0</td>\n",
       "      <td>NaN</td>\n",
       "      <td>NaN</td>\n",
       "      <td>NaN</td>\n",
       "    </tr>\n",
       "    <tr>\n",
       "      <th>1</th>\n",
       "      <td>0</td>\n",
       "      <td>0</td>\n",
       "      <td>0</td>\n",
       "      <td>0</td>\n",
       "      <td>0</td>\n",
       "      <td>0</td>\n",
       "      <td>0</td>\n",
       "      <td>0</td>\n",
       "      <td>0</td>\n",
       "      <td>0</td>\n",
       "      <td>...</td>\n",
       "      <td>1</td>\n",
       "      <td>0</td>\n",
       "      <td>0</td>\n",
       "      <td>0</td>\n",
       "      <td>0</td>\n",
       "      <td>0</td>\n",
       "      <td>1</td>\n",
       "      <td>NaN</td>\n",
       "      <td>NaN</td>\n",
       "      <td>NaN</td>\n",
       "    </tr>\n",
       "    <tr>\n",
       "      <th>3</th>\n",
       "      <td>1</td>\n",
       "      <td>0</td>\n",
       "      <td>0</td>\n",
       "      <td>0</td>\n",
       "      <td>0</td>\n",
       "      <td>0</td>\n",
       "      <td>0</td>\n",
       "      <td>0</td>\n",
       "      <td>1</td>\n",
       "      <td>0</td>\n",
       "      <td>...</td>\n",
       "      <td>0</td>\n",
       "      <td>0</td>\n",
       "      <td>0</td>\n",
       "      <td>0</td>\n",
       "      <td>0</td>\n",
       "      <td>0</td>\n",
       "      <td>0</td>\n",
       "      <td>NaN</td>\n",
       "      <td>NaN</td>\n",
       "      <td>NaN</td>\n",
       "    </tr>\n",
       "    <tr>\n",
       "      <th>4</th>\n",
       "      <td>1</td>\n",
       "      <td>0</td>\n",
       "      <td>0</td>\n",
       "      <td>0</td>\n",
       "      <td>0</td>\n",
       "      <td>0</td>\n",
       "      <td>0</td>\n",
       "      <td>0</td>\n",
       "      <td>0</td>\n",
       "      <td>0</td>\n",
       "      <td>...</td>\n",
       "      <td>0</td>\n",
       "      <td>0</td>\n",
       "      <td>0</td>\n",
       "      <td>0</td>\n",
       "      <td>0</td>\n",
       "      <td>0</td>\n",
       "      <td>1</td>\n",
       "      <td>NaN</td>\n",
       "      <td>NaN</td>\n",
       "      <td>NaN</td>\n",
       "    </tr>\n",
       "    <tr>\n",
       "      <th>7</th>\n",
       "      <td>1</td>\n",
       "      <td>0</td>\n",
       "      <td>0</td>\n",
       "      <td>0</td>\n",
       "      <td>0</td>\n",
       "      <td>0</td>\n",
       "      <td>0</td>\n",
       "      <td>0</td>\n",
       "      <td>0</td>\n",
       "      <td>0</td>\n",
       "      <td>...</td>\n",
       "      <td>0</td>\n",
       "      <td>0</td>\n",
       "      <td>0</td>\n",
       "      <td>0</td>\n",
       "      <td>0</td>\n",
       "      <td>0</td>\n",
       "      <td>0</td>\n",
       "      <td>NaN</td>\n",
       "      <td>NaN</td>\n",
       "      <td>NaN</td>\n",
       "    </tr>\n",
       "  </tbody>\n",
       "</table>\n",
       "<p>5 rows × 341 columns</p>\n",
       "</div>"
      ],
      "text/plain": [
       "   AgeAsses3RN  AgeAtFirstConvR  JvFelCon  JvVioCon  JvComit  HomConv  \\\n",
       "0            0                0         0         0        0        0   \n",
       "1            0                0         0         0        0        0   \n",
       "3            1                0         0         0        0        0   \n",
       "4            1                0         0         0        0        0   \n",
       "7            1                0         0         0        0        0   \n",
       "\n",
       "   SexConv  VProCon  AssaCon  DomVio      ...       CopFodNd3  CopBugNd3  \\\n",
       "0        2        0        0       0      ...               0          0   \n",
       "1        0        0        0       0      ...               1          0   \n",
       "3        0        0        1       0      ...               0          0   \n",
       "4        0        0        0       0      ...               0          0   \n",
       "7        0        0        0       0      ...               0          0   \n",
       "\n",
       "   CopTraNd3  CopHygNd3  CopMedNd3  CopMHNd3  FelRecidYr3  Unnamed: 338  \\\n",
       "0          0          0          0         0            0           NaN   \n",
       "1          0          0          0         0            1           NaN   \n",
       "3          0          0          0         0            0           NaN   \n",
       "4          0          0          0         0            1           NaN   \n",
       "7          0          0          0         0            0           NaN   \n",
       "\n",
       "   Unnamed: 339  Unnamed: 340  \n",
       "0           NaN           NaN  \n",
       "1           NaN           NaN  \n",
       "3           NaN           NaN  \n",
       "4           NaN           NaN  \n",
       "7           NaN           NaN  \n",
       "\n",
       "[5 rows x 341 columns]"
      ]
     },
     "execution_count": 7,
     "metadata": {},
     "output_type": "execute_result"
    }
   ],
   "source": [
    "dataset1 = pd.read_csv('/Users/chungyanwan/Desktop/Fall 2015/Stat504/hw3/STRONG-R Male Sample_Reduced_2014-03-14.csv')\n",
    "#clean up the dataset\n",
    "dataset1 = dataset1[dataset1.FelRecidYr3 != ' ' ]\n",
    "dataset1.replace(' ',np.nan)\n",
    "print dataset1.shape\n",
    "dataset1.head()"
   ]
  },
  {
   "cell_type": "markdown",
   "metadata": {},
   "source": [
    "<h3> Set up a subsest which contains only the feature values and another subset which contains the target values</h3>"
   ]
  },
  {
   "cell_type": "code",
   "execution_count": 8,
   "metadata": {
    "collapsed": false,
    "scrolled": true
   },
   "outputs": [],
   "source": [
    "X = dataset1.drop(dataset1.columns[[337,338,339,340]], axis=1)\n",
    "y = dataset1.FelRecidYr3.astype(int)"
   ]
  },
  {
   "cell_type": "markdown",
   "metadata": {},
   "source": [
    "<h3> Select the 10 best features for later analysis </h3>"
   ]
  },
  {
   "cell_type": "code",
   "execution_count": 9,
   "metadata": {
    "collapsed": false
   },
   "outputs": [
    {
     "name": "stdout",
     "output_type": "stream",
     "text": [
      "(21373, 10)\n",
      "[[0 0 0 2 0 0 0 0 0 0]\n",
      " [0 0 2 7 4 0 3 0 1 4]\n",
      " [0 0 0 1 1 0 0 0 0 0]\n",
      " [0 0 0 1 0 0 0 0 0 3]\n",
      " [0 0 0 3 1 0 0 0 0 4]\n",
      " [0 0 0 2 3 0 0 0 0 0]\n",
      " [0 0 0 2 3 0 0 0 0 0]\n",
      " [0 0 1 1 1 0 0 0 0 0]\n",
      " [0 0 5 5 1 0 0 0 0 3]\n",
      " [0 0 5 5 1 0 0 0 0 3]]\n"
     ]
    }
   ],
   "source": [
    "X_new = SelectKBest(chi2, k=10).fit_transform(X, y)\n",
    "print X_new.shape\n",
    "print X_new[0:10]\n",
    "X_train, X_test, y_train, y_test = train_test_split(X_new, y, random_state=1234567)"
   ]
  },
  {
   "cell_type": "markdown",
   "metadata": {},
   "source": [
    "<h3>Null Model</h3>"
   ]
  },
  {
   "cell_type": "code",
   "execution_count": 10,
   "metadata": {
    "collapsed": false
   },
   "outputs": [
    {
     "name": "stdout",
     "output_type": "stream",
     "text": [
      "Null model accuracy: 0.695223\n",
      "Null model AUC: 0.500000\n"
     ]
    }
   ],
   "source": [
    "#null model and its accuracy\n",
    "numpyMatrix = y.as_matrix()\n",
    "recommit_yes = np.count_nonzero(numpyMatrix)\n",
    "# total observation is 21373, and recommit_yes = 6514, so the null model is all zeros. \n",
    "ypred = np.zeros(21373)\n",
    "null_score = 1.0 - 6514.0/21373.0\n",
    "print ('Null model accuracy: %f' %null_score)\n",
    "null_auc = metrics.roc_auc_score(y, ypred)\n",
    "print ('Null model AUC: %f' %null_auc)"
   ]
  },
  {
   "cell_type": "markdown",
   "metadata": {},
   "source": [
    "<h3>Model 1: Gaussian Naive Bayes</h3>"
   ]
  },
  {
   "cell_type": "code",
   "execution_count": 11,
   "metadata": {
    "collapsed": false
   },
   "outputs": [
    {
     "name": "stdout",
     "output_type": "stream",
     "text": [
      "Gaussian NB average accracy: 0.691523\n",
      "Gaussian NB AUC: 0.714434\n",
      "Computation time (in second): 0.348387\n"
     ]
    }
   ],
   "source": [
    "# 10-fold cross-validation for GaussianNB \n",
    "start = time.time()\n",
    "gnb = GaussianNB()\n",
    "gnb_scores = cross_val_score(gnb, X_new, y, cv=10, scoring='accuracy')\n",
    "# use average accuracy as an estimate of out-of-sample accuracy\n",
    "print (\"Gaussian NB average accracy: %f\" %gnb_scores.mean())\n",
    "gnb_auc = cross_val_score(gnb, X_new, y, cv=10, scoring='roc_auc')\n",
    "print (\"Gaussian NB AUC: %f\" %gnb_auc.mean())\n",
    "end = time.time()\n",
    "gnb_time = end - start \n",
    "print (\"Computation time (in second): %f\"\n",
    "      % gnb_time)"
   ]
  },
  {
   "cell_type": "markdown",
   "metadata": {},
   "source": [
    "<h3>Model 2: K Nearest Neighbors </h3>\n",
    "<b>Find the optimal value of k for this model </b><br>"
   ]
  },
  {
   "cell_type": "code",
   "execution_count": 12,
   "metadata": {
    "collapsed": false
   },
   "outputs": [
    {
     "name": "stdout",
     "output_type": "stream",
     "text": [
      "Computation time: 510.670338\n"
     ]
    }
   ],
   "source": [
    "# search for an optimal value of K for KNN\n",
    "# computational time about 15 minutes\n",
    "start = time.time()\n",
    "k_range = range(1, 100)\n",
    "k_scores = []\n",
    "for k in k_range:\n",
    "    knn = KNeighborsClassifier(n_neighbors=k)\n",
    "    scores = cross_val_score(knn, X_new, y, cv=10, scoring='accuracy')\n",
    "    k_scores.append(scores.mean())\n",
    "end = time.time()\n",
    "print (\"Computation time: %f\" % (end - start))"
   ]
  },
  {
   "cell_type": "code",
   "execution_count": 18,
   "metadata": {
    "collapsed": false,
    "scrolled": false
   },
   "outputs": [
    {
     "name": "stdout",
     "output_type": "stream",
     "text": [
      "Index of the best score:\n",
      "(array([70]),)\n"
     ]
    },
    {
     "data": {
      "text/plain": [
       "<matplotlib.text.Text at 0x109f97fd0>"
      ]
     },
     "execution_count": 18,
     "metadata": {},
     "output_type": "execute_result"
    },
    {
     "data": {
      "image/png": "[encoded data removed]",
      "text/plain": [
       "<matplotlib.figure.Figure at 0x1096efed0>"
      ]
     },
     "metadata": {},
     "output_type": "display_data"
    }
   ],
   "source": [
    "print \"Index of the best score:\" \n",
    "print np.where(k_scores == max(k_scores))\n",
    "%matplotlib inline\n",
    "# plot the value of K for KNN (x-axis) versus the cross-validated accuracy (y-axis)\n",
    "plt.plot(k_range, k_scores)\n",
    "plt.xlabel('Value of K for KNN')\n",
    "plt.ylabel('Cross-Validated Accuracy')"
   ]
  },
  {
   "cell_type": "markdown",
   "metadata": {},
   "source": [
    "<b>Find the average accuracy and AUC with 10-fold cross-validation for this model </b>"
   ]
  },
  {
   "cell_type": "code",
   "execution_count": 21,
   "metadata": {
    "collapsed": false
   },
   "outputs": [
    {
     "name": "stdout",
     "output_type": "stream",
     "text": [
      "Knn average accuracy: 0.706401\n",
      "knn AUC: 0.707841\n",
      "Computation time (in second): 14.163990\n"
     ]
    }
   ],
   "source": [
    "# 10-fold cross-validation with the optimaized k=71 for KNN (the n_neighbors parameter)\n",
    "start = time.time()\n",
    "knn = KNeighborsClassifier(n_neighbors=71 )\n",
    "knn_scores = cross_val_score(knn, X_new, y, cv=10, scoring='accuracy')\n",
    "# use average accuracy as an estimate of out-of-sample accuracy\n",
    "print (\"Knn average accuracy: %f\" %knn_scores.mean())\n",
    "knn_auc = cross_val_score(knn, X_new, y, cv=10, scoring='roc_auc')\n",
    "print (\"knn AUC: %f\" %knn_auc.mean())\n",
    "end = time.time()\n",
    "knn_time = end - start \n",
    "print (\"Computation time (in second): %f\"\n",
    "      % knn_time)"
   ]
  },
  {
   "cell_type": "markdown",
   "metadata": {},
   "source": [
    "<h3> Model 3: Logistcl Regression </h3>\n",
    "<b> Find the average accuracy and AUC with 10-fold cross-validation for this model </b><br>\n",
    "Computational time: 0.869257 sec"
   ]
  },
  {
   "cell_type": "code",
   "execution_count": 22,
   "metadata": {
    "collapsed": false
   },
   "outputs": [
    {
     "name": "stdout",
     "output_type": "stream",
     "text": [
      "Logistic regression average score: 0.709677\n",
      "Logistic regression average score: 0.719794\n",
      "Computation time (in second): 0.871854\n"
     ]
    }
   ],
   "source": [
    "#10-fold cross-validation for logreg\n",
    "start = time.time()\n",
    "logreg = LogisticRegression(C=1e9)\n",
    "logreg_scores = cross_val_score(logreg, X_new, y, cv=10, scoring='accuracy')\n",
    "# use average accuracy as an estimate of out-of-sample accuracy\n",
    "print (\"Logistic regression average score: %f\" %logreg_scores.mean())\n",
    "logreg_auc = cross_val_score(logreg, X_new, y, cv=10, scoring='roc_auc')\n",
    "print (\"Logistic regression average score: %f\" %logreg_auc.mean())\n",
    "end = time.time()\n",
    "logreg_time = end - start \n",
    "print (\"Computation time (in second): %f\" % logreg_time)"
   ]
  },
  {
   "cell_type": "markdown",
   "metadata": {},
   "source": [
    "<h3> Model 4: SVM Polynomial kernel </h3>\n",
    "<b>  Find the optimal value of gamma and C for this model </b>"
   ]
  },
  {
   "cell_type": "code",
   "execution_count": null,
   "metadata": {
    "collapsed": false
   },
   "outputs": [],
   "source": [
    "# try search for an optimal value of gamma and c for SVM polymail\n",
    "# computation time takes more than 3 hour and still.....not finshed.\n",
    "start = time.time()\n",
    "gamma_range = [.1,1]\n",
    "c_range = [1,5]\n",
    "gc1_scores = np.empty(shape=[2,2])\n",
    "for g in gamma_range:\n",
    "    for c in c_range:\n",
    "        svm_poly = svm.SVC(C=c, kernel='poly', gamma=g)\n",
    "        scores = cross_val_score(svm_poly, X_new, y, cv=10, scoring='accuracy')\n",
    "        gcl_scores.append(scores.mean())\n",
    "end = time.time()\n",
    "print (\"Computation time: %f\"% (end - start)"
   ]
  },
  {
   "cell_type": "markdown",
   "metadata": {},
   "source": [
    "<b> Find the average accuracy and AUC with 10-fold cross-validation for this model </b>"
   ]
  },
  {
   "cell_type": "code",
   "execution_count": null,
   "metadata": {
    "collapsed": false
   },
   "outputs": [],
   "source": [
    "#10-fold cross-validation for SVM poly\n",
    "start = time.time()\n",
    "svm_poly = svm.SVC(kernel='poly')\n",
    "svm1_scores = cross_val_score(svm_poly, X_new, y, cv=10, scoring='accuracy')\n",
    "# use average accuracy as an estimate of out-of-sample accuracy\n",
    "print (\"Logistic regression average score: %f\" %svm1_scores.mean())\n",
    "svm1_auc = cross_val_score(svm_poly, X_new, y, cv=10, scoring='roc_auc')\n",
    "print (\"Logistic regression average score: %f\" %svm1_auc.mean())\n",
    "end = time.time()\n",
    "svm1_time = end - start \n",
    "print (\"Computation time (in second): %f\" % svm1_time)"
   ]
  },
  {
   "cell_type": "raw",
   "metadata": {},
   "source": [
    "#this model was computed on another computer, so I attached the results here\n",
    "Logistic regression average score: 0.706684\n",
    "Logistic regression average score: 0.682009\n",
    "Computation time (in second): 2668.266000"
   ]
  },
  {
   "cell_type": "raw",
   "metadata": {},
   "source": [
    "#this model was computed on another computer, so I attached the results here\n",
    "print (svm1_scores)\n",
    "print (svm1_auc)\n",
    "print (svm1_time)\n",
    "\n",
    "[ 0.71321637  0.7122807   0.70362573  0.71555556  0.68874327]\n",
    "[ 0.68608832  0.70653562  0.69488609  0.68465902  0.63787478]\n",
    "2668.26600003"
   ]
  },
  {
   "cell_type": "markdown",
   "metadata": {},
   "source": [
    "<h3> Model 5: SVM Gaussian kernel </h3>\n",
    "<b>  Find the optimal value of gamma for this model </b>"
   ]
  },
  {
   "cell_type": "code",
   "execution_count": null,
   "metadata": {
    "collapsed": true
   },
   "outputs": [],
   "source": [
    "# search for an optimal value of gamma for rbf\n",
    "start = time.time()\n",
    "gamma_range = [.1,1,10]\n",
    "gamma_scores = []\n",
    "for g in gamma_range:\n",
    "    svm_rbf = svm.SVC(kernel='rbf', gamma=g)\n",
    "    scores = cross_val_score(svm_rbf, X_new, y, cv=10, scoring='accuracy')\n",
    "    gamma_scores.append(scores.mean())\n",
    "end = time.time()\n",
    "print (\"Computational time: %f\"\n",
    "      % end - start)\n",
    "end = time.time()\n",
    "print (\"Computational time: %f\"\n",
    "      % end - start)"
   ]
  },
  {
   "cell_type": "markdown",
   "metadata": {},
   "source": [
    "<b> Find the average accuracy and AUC with 10-fold cross-validation for this model </b>"
   ]
  },
  {
   "cell_type": "code",
   "execution_count": null,
   "metadata": {
    "collapsed": true
   },
   "outputs": [],
   "source": [
    "#10-fold cross-validation for SVM Gaussian\n",
    "start = time.time()\n",
    "svm_rbf = svm.SVC(kernel='rbf')\n",
    "svm2_scores = cross_val_score(svm_rbf, X_new, y, cv=10, scoring='accuracy')\n",
    "# use average accuracy as an estimate of out-of-sample accuracy\n",
    "print (\"Logistic regression average score: %f\" %svm2_scores.mean())\n",
    "svm2_auc = cross_val_score(svm_rbf, X_new, y, cv=10, scoring='roc_auc')\n",
    "print (\"Logistic regression average score: %f\" %svm2_auc.mean())\n",
    "end = time.time()\n",
    "svm2_time = end - start \n",
    "print (\"Computation time (in second): %f\" % svm2_time)"
   ]
  },
  {
   "cell_type": "raw",
   "metadata": {},
   "source": [
    "#this model was computed on another computer, so I attached the results here\n",
    "SVM Gaussian average score: 0.706729\n",
    "SVM Gaussian average score: 0.634496\n",
    "Computation time (in second): 375.180000"
   ]
  },
  {
   "cell_type": "markdown",
   "metadata": {},
   "source": [
    "<h3> Model 6: Decision Tree Classifier </h3>\n",
    "<b>Find the optimal value of max_depth for this model</b>"
   ]
  },
  {
   "cell_type": "code",
   "execution_count": 25,
   "metadata": {
    "collapsed": false
   },
   "outputs": [
    {
     "name": "stdout",
     "output_type": "stream",
     "text": [
      "Computation time : 6.517186\n",
      "Index of the best score:\n"
     ]
    },
    {
     "data": {
      "text/plain": [
       "(array([5]),)"
      ]
     },
     "execution_count": 25,
     "metadata": {},
     "output_type": "execute_result"
    }
   ],
   "source": [
    "# search for an optimal value of max_depth for treeclf\n",
    "#Computational time : 2.682108 sec\n",
    "start = time.time()\n",
    "d_range = range(1,20)\n",
    "d_scores = []\n",
    "for d in d_range:\n",
    "    treeclf = DecisionTreeClassifier(max_depth=d)\n",
    "    scores = cross_val_score(treeclf, X_new, y, cv=10, scoring='accuracy')\n",
    "    d_scores.append(scores.mean())\n",
    "end = time.time()\n",
    "print (\"Computation time : %f\" % (end - start))\n",
    "print \"Index of the best score:\" \n",
    "np.where(d_scores == max(d_scores))"
   ]
  },
  {
   "cell_type": "code",
   "execution_count": 26,
   "metadata": {
    "collapsed": false
   },
   "outputs": [
    {
     "data": {
      "text/plain": [
       "<matplotlib.text.Text at 0x1099da1d0>"
      ]
     },
     "execution_count": 26,
     "metadata": {},
     "output_type": "execute_result"
    },
    {
     "data": {
      "image/png": "[encoded data removed]",
      "text/plain": [
       "<matplotlib.figure.Figure at 0x10995e690>"
      ]
     },
     "metadata": {},
     "output_type": "display_data"
    }
   ],
   "source": [
    "%matplotlib inline\n",
    "# plot the value of d for treeclf (x-axis) versus the cross-validated accuracy (y-axis)\n",
    "plt.plot(d_range, d_scores)\n",
    "plt.xlabel('Value of d for depth')\n",
    "plt.ylabel('Cross-Validated Accuracy')"
   ]
  },
  {
   "cell_type": "markdown",
   "metadata": {},
   "source": [
    "<b> Find the average accuracy and AUC with 10-fold cross-validation for this model </b>"
   ]
  },
  {
   "cell_type": "code",
   "execution_count": 28,
   "metadata": {
    "collapsed": false
   },
   "outputs": [
    {
     "name": "stdout",
     "output_type": "stream",
     "text": [
      "Decision Tree average scores: 0.705840\n",
      "Decision Tree AUC: 0.705792\n",
      "Computation time (in second): 0.604750\n"
     ]
    }
   ],
   "source": [
    "# 10-fold cross-validation for Decision Tree with the optimal max depth (previously found max_depth=6)\n",
    "start = time.time()\n",
    "treeclf = DecisionTreeClassifier(max_depth = 6)\n",
    "treeclf_scores = cross_val_score(treeclf, X_new, y, cv=10, scoring='accuracy').mean()\n",
    "# use average accuracy as an estimate of out-of-sample accuracy\n",
    "print (\"Decision Tree average scores: %f\" % treeclf_scores.mean())\n",
    "treeclf_auc = cross_val_score(treeclf, X_new, y, cv=10, scoring='roc_auc')\n",
    "print (\"Decision Tree AUC: %f\" % treeclf_auc.mean())\n",
    "end = time.time()\n",
    "treeclf_time = end - start\n",
    "print (\"Computation time (in second): %f\"\n",
    "      % treeclf_time)"
   ]
  },
  {
   "cell_type": "markdown",
   "metadata": {},
   "source": [
    "<h3> Model 7: Ensemble Bagging </h3>\n",
    "<b>Find the optimal values of n_estimator and max_sample for this model</b>"
   ]
  },
  {
   "cell_type": "code",
   "execution_count": 31,
   "metadata": {
    "collapsed": false
   },
   "outputs": [
    {
     "name": "stdout",
     "output_type": "stream",
     "text": [
      "Computation time : 286.064259\n"
     ]
    },
    {
     "data": {
      "text/plain": [
       "(array([19]), array([5]))"
      ]
     },
     "execution_count": 31,
     "metadata": {},
     "output_type": "execute_result"
    }
   ],
   "source": [
    "# search for an optimal values of n_estimator and max_samples for bagging\n",
    "start = time.time()\n",
    "est_range = range(1,21)  \n",
    "sam_range = range(100,2001,100)\n",
    "est_scores = np.empty(shape=[20,20])\n",
    "i = 0\n",
    "for est in est_range:\n",
    "    for sam in sam_range:\n",
    "        bag = BaggingClassifier(n_estimators=est, max_samples=sam)\n",
    "        scores = cross_val_score(bag, X_new, y, cv=10, scoring='accuracy')\n",
    "        est_scores[est-1, i] = scores.mean()\n",
    "        i = i+1\n",
    "    i = 0\n",
    "end = time.time()\n",
    "print (\"Computation time : %f\" % (end - start))\n",
    "#found the indices of the array where it contains the greatest value of accuracy\n",
    "#they will be the optimal n_estimator and max_samples\n",
    "np.where(est_scores == est_scores.max()) "
   ]
  },
  {
   "cell_type": "code",
   "execution_count": 33,
   "metadata": {
    "collapsed": false
   },
   "outputs": [
    {
     "data": {
      "text/plain": [
       "<matplotlib.legend.Legend at 0x10a197b50>"
      ]
     },
     "execution_count": 33,
     "metadata": {},
     "output_type": "execute_result"
    },
    {
     "data": {
      "image/png": "[encoded data removed]",
      "text/plain": [
       "<matplotlib.figure.Figure at 0x1098a6790>"
      ]
     },
     "metadata": {},
     "output_type": "display_data"
    }
   ],
   "source": [
    "%matplotlib inline\n",
    "# plot the value of max_samples for bagging (x-axis) versus the cross-validated accuracy (y-axis)\n",
    "# each line represents a different value of n_estimators\n",
    "plt.plot(sam_range, est_scores[0,:],'r', label ='n_est=1')\n",
    "plt.plot(sam_range, est_scores[4,:],'g',label = 'n_est=5')\n",
    "plt.plot(sam_range, est_scores[9,:],'b',label = 'n_est=10')\n",
    "plt.plot(sam_range, est_scores[14,:],'c', label ='n_est=15')\n",
    "plt.plot(sam_range, est_scores[19,:],'m',label = 'n_est=20')\n",
    "plt.ylim([0.55, 0.75])\n",
    "plt.xlabel('Value of Max_samples for Bagging')\n",
    "plt.ylabel('Cross-Validated Accuracy')\n",
    "plt.legend(bbox_to_anchor=(1, 1), loc=2, borderaxespad=0.)"
   ]
  },
  {
   "cell_type": "markdown",
   "metadata": {},
   "source": [
    "<b> Find the average accuracy and AUC with 10-fold cross-validation for this model </b>"
   ]
  },
  {
   "cell_type": "code",
   "execution_count": 34,
   "metadata": {
    "collapsed": false
   },
   "outputs": [
    {
     "name": "stdout",
     "output_type": "stream",
     "text": [
      "Bagging average scores: 0.694189\n",
      "Bagging AUC: 0.691882\n",
      "Computation time (in second): 2.338875\n"
     ]
    }
   ],
   "source": [
    "# 10-fold cross-validation for Bagging\n",
    "# previously found best n_estimator approx. = 20, max_sample = 600\n",
    "start = time.time()\n",
    "bag = BaggingClassifier(n_estimators=20, max_samples=600, max_features=1.0)\n",
    "bag_scores = cross_val_score(bag, X_new, y, cv=10, scoring='accuracy').mean()\n",
    "# use average accuracy as an estimate of out-of-sample accuracy\n",
    "print (\"Bagging average scores: %f\" % bag_scores.mean())\n",
    "bag_auc = cross_val_score(bag, X_new, y, cv=10, scoring='roc_auc')\n",
    "print (\"Bagging AUC: %f\" % bag_auc.mean())\n",
    "end = time.time()\n",
    "bag_time = end - start\n",
    "print (\"Computation time (in second): %f\"\n",
    "      % bag_time)"
   ]
  },
  {
   "cell_type": "markdown",
   "metadata": {},
   "source": [
    "<h3> Model 8: Ensemble Random Forest </h3>\n",
    "<b>Find the optimal values of n_estimator and max_depth for this model</b>"
   ]
  },
  {
   "cell_type": "code",
   "execution_count": 37,
   "metadata": {
    "collapsed": false
   },
   "outputs": [
    {
     "name": "stdout",
     "output_type": "stream",
     "text": [
      "Computation time : 440.046875\n"
     ]
    },
    {
     "data": {
      "text/plain": [
       "(array([14]), array([6]))"
      ]
     },
     "execution_count": 37,
     "metadata": {},
     "output_type": "execute_result"
    }
   ],
   "source": [
    "# search for an optimal values of n_estimator and max_depth for Random Forest Classifier \n",
    "# Computational time : 582.664212\n",
    "start = time.time()\n",
    "est_range = range(1,21)\n",
    "dep_range = range(1,21)\n",
    "est2_scores = np.empty(shape=[20,20])\n",
    "for est in est_range:\n",
    "    for dep in dep_range:\n",
    "        rfc = RandomForestClassifier(n_estimators=est, max_depth=dep)\n",
    "        rfc_scores = cross_val_score(rfc, X_new, y, cv=10, scoring='accuracy')\n",
    "        est2_scores[est-1, dep-1] = rfc_scores.mean()\n",
    "end = time.time()\n",
    "print (\"Computation time : %f\" % (end - start))\n",
    "#found the indices of the array where it contains the greatest value of accuracy\n",
    "#they will be the optimal n_estimator and max_samples\n",
    "np.where(est2_scores == est2_scores.max()) "
   ]
  },
  {
   "cell_type": "code",
   "execution_count": 41,
   "metadata": {
    "collapsed": false
   },
   "outputs": [
    {
     "data": {
      "text/plain": [
       "<matplotlib.legend.Legend at 0x10b1ab7d0>"
      ]
     },
     "execution_count": 41,
     "metadata": {},
     "output_type": "execute_result"
    },
    {
     "data": {
      "image/png": "[encoded data removed]",
      "text/plain": [
       "<matplotlib.figure.Figure at 0x10a9d1890>"
      ]
     },
     "metadata": {},
     "output_type": "display_data"
    }
   ],
   "source": [
    "%matplotlib inline\n",
    "# plot the value of max_samples for bagging (x-axis) versus the cross-validated accuracy (y-axis)\n",
    "# each line represents a different value of n_estimators\n",
    "plt.plot(dep_range, est2_scores[0,:],'r', label ='n_est=1')\n",
    "plt.plot(dep_range, est2_scores[4,:],'g',label = 'n_est=5')\n",
    "plt.plot(dep_range, est2_scores[9,:],'b',label = 'n_est=10')\n",
    "plt.plot(dep_range, est2_scores[14,:],'c', label ='n_est=15')\n",
    "plt.plot(dep_range, est2_scores[19,:],'m',label = 'n_est=20')\n",
    "plt.xlabel('Value of Max_samples for Random Forest')\n",
    "plt.ylabel('Cross-Validated Accuracy')\n",
    "plt.legend(bbox_to_anchor=(1, 1), loc=2, borderaxespad=0.)"
   ]
  },
  {
   "cell_type": "markdown",
   "metadata": {},
   "source": [
    "<b> Find the average accuracy and AUC with 10-fold cross-validation for this model </b>"
   ]
  },
  {
   "cell_type": "code",
   "execution_count": 42,
   "metadata": {
    "collapsed": false
   },
   "outputs": [
    {
     "name": "stdout",
     "output_type": "stream",
     "text": [
      "Rondom Forest Classifier average scores: 0.706683\n",
      "Rondom Forest Classifier AUC: 0.719615\n",
      "Computation time (in second): 2.587279\n"
     ]
    }
   ],
   "source": [
    "# 10-fold cross-validation for Random Forest Classifier \n",
    "# previously found optimal n_estimators =  max_depth = \n",
    "start = time.time()\n",
    "rfc = RandomForestClassifier(n_estimators=15, max_depth=7)\n",
    "rfc_scores = cross_val_score(rfc, X_new, y, cv=10, scoring='accuracy').mean()\n",
    "# use average accuracy as an estimate of out-of-sample accuracy\n",
    "print (\"Rondom Forest Classifier average scores: %f\" % rfc_scores.mean())\n",
    "rfc_auc = cross_val_score(rfc, X_new, y, cv=10, scoring='roc_auc')\n",
    "print (\"Rondom Forest Classifier AUC: %f\" % rfc_auc.mean())\n",
    "end = time.time()\n",
    "rfc_time = end - start\n",
    "print (\"Computation time (in second): %f\"\n",
    "      % rfc_time)"
   ]
  },
  {
   "cell_type": "markdown",
   "metadata": {
    "collapsed": true
   },
   "source": [
    "<h3> Model 9: Voting Classifier </h3>"
   ]
  },
  {
   "cell_type": "code",
   "execution_count": 6,
   "metadata": {
    "collapsed": false
   },
   "outputs": [
    {
     "name": "stdout",
     "output_type": "stream",
     "text": [
      "Voting Classifier average scores: 0.701815\n",
      "Voting Classifier AUC: 0.708787\n",
      "Computational time (in second): 4.943000\n"
     ]
    }
   ],
   "source": [
    "# 10-fold cross-validation for Voting Classifier \n",
    "# previously found optimal n_estimators = 12 max_depth = 7\n",
    "start = time.time()\n",
    "clf1 = LogisticRegression(random_state=1)\n",
    "clf2 = RandomForestClassifier(random_state=1)\n",
    "clf3 = GaussianNB()\n",
    "eclf = VotingClassifier(estimators=[('lr', clf1), ('rf', clf2), ('gnb', clf3)], voting='soft')\n",
    "vc_scores = cross_val_score(eclf, X_new, y, cv=10, scoring='accuracy').mean()\n",
    "# use average accuracy as an estimate of out-of-sample accuracy\n",
    "print (\"Voting Classifier average scores: %f\" % vc_scores.mean())\n",
    "vc_auc = cross_val_score(eclf, X_new, y, cv=10, scoring='roc_auc')\n",
    "print (\"Voting Classifier AUC: %f\" % vc_auc.mean())\n",
    "end = time.time()\n",
    "vc_time = end - start\n",
    "print (\"Computational time (in second): %f\"\n",
    "      % vc_time)"
   ]
  },
  {
   "cell_type": "markdown",
   "metadata": {},
   "source": [
    "<h3>AUC, Computational Time, and ROC </h3>"
   ]
  },
  {
   "cell_type": "code",
   "execution_count": 21,
   "metadata": {
    "collapsed": false
   },
   "outputs": [
    {
     "name": "stdout",
     "output_type": "stream",
     "text": [
      "Gaussian Naive Bayes AUC:  0.714141156932\n",
      "Computational time: 0.015000\n",
      "Logistic Regression AUC:  0.722812874322\n",
      "Computational time: 0.032000\n",
      "Knn AUC:  0.713481906443\n",
      "Computational time: 1.422000\n",
      "SVM Polynomial Kernal AUC:  0.694191010749\n",
      "Computational time: 1052.504000\n",
      "SVM Gaussian Kernel AUC:  0.643961557759\n",
      "Computational time: 73.586000\n",
      "Decision Tree AUC:  0.711603892164\n",
      "Computational time: 0.016000\n",
      "Bagging AUC:  0.70106910055\n",
      "Computational time: 0.160000\n",
      "Random Forest AUC:  0.725363273205\n",
      "Computational time: 0.100000\n",
      "Voting Classifier AUC:  0.716339233178\n",
      "Computational time: 0.179000\n"
     ]
    },
    {
     "data": {
      "text/plain": [
       "<matplotlib.legend.Legend at 0x22dd3a20>"
      ]
     },
     "execution_count": 21,
     "metadata": {},
     "output_type": "execute_result"
    },
    {
     "data": {
      "image/png": "[encoded data removed]",
      "text/plain": [
       "<matplotlib.figure.Figure at 0x26a92358>"
      ]
     },
     "metadata": {},
     "output_type": "display_data"
    }
   ],
   "source": [
    "%matplotlib inline\n",
    "start1 = time.time()\n",
    "gnb = GaussianNB()\n",
    "gnb.fit(X_train,y_train)\n",
    "gnb_y_pred_prob = gnb.predict_proba(X_test)[:, 1]\n",
    "gnb_fpr, gnb_tpr, gnb_thresholds = metrics.roc_curve(y_test, gnb_y_pred_prob)\n",
    "print 'Gaussian Naive Bayes AUC: ', metrics.roc_auc_score(y_test, gnb_y_pred_prob)\n",
    "end1 = time.time()\n",
    "run1 = end1 - start1\n",
    "print (\"Computational time: %f\" %run1 )\n",
    "\n",
    "start2 = time.time()\n",
    "logreg = LogisticRegression(C=1e9)\n",
    "logreg.fit(X_train,y_train)\n",
    "lr_y_pred_prob = logreg.predict_proba(X_test)[:, 1]\n",
    "lr_fpr, lr_tpr, lr_thresholds = metrics.roc_curve(y_test, lr_y_pred_prob)\n",
    "print 'Logistic Regression AUC: ', metrics.roc_auc_score(y_test, lr_y_pred_prob)\n",
    "end2 = time.time()\n",
    "print ('Computational time: %f' %(end2-start2))\n",
    "\n",
    "start3 = time.time()\n",
    "knn = KNeighborsClassifier(n_neighbors=72 )\n",
    "knn.fit(X_train,y_train)\n",
    "knn_y_pred_prob = knn.predict_proba(X_test)[:, 1]\n",
    "knn_fpr, knn_tpr, knn_thresholds = metrics.roc_curve(y_test, knn_y_pred_prob)\n",
    "print 'Knn AUC: ', metrics.roc_auc_score(y_test, knn_y_pred_prob)\n",
    "end3 = time.time()\n",
    "print ('Computational time: %f' %(end3-start3))\n",
    "\n",
    "start4 = time.time()\n",
    "svm_poly = svm.SVC(kernel='poly',probability=True)\n",
    "svm_poly.fit(X_train,y_train)\n",
    "svm1_y_pred_prob = svm_poly.predict_proba(X_test)[:, 1]\n",
    "svm1_fpr, svm1_tpr, svm1_thresholds = metrics.roc_curve(y_test, svm1_y_pred_prob)\n",
    "print 'SVM Polynomial Kernal AUC: ', metrics.roc_auc_score(y_test, svm1_y_pred_prob)\n",
    "end4 = time.time()\n",
    "print ('Computational time: %f' %(end4-start4))\n",
    "\n",
    "start5 = time.time()\n",
    "svm_rbf = svm.SVC(kernel='rbf',probability=True)\n",
    "svm_rbf.fit(X_train,y_train)\n",
    "svm2_y_pred_prob = svm_rbf.predict_proba(X_test)[:, 1]\n",
    "svm2_fpr, svm2_tpr, svm2_thresholds = metrics.roc_curve(y_test, svm2_y_pred_prob)\n",
    "print 'SVM Gaussian Kernel AUC: ', metrics.roc_auc_score(y_test, svm2_y_pred_prob)\n",
    "end5 = time.time()\n",
    "print ('Computational time: %f' %(end5-start5))\n",
    "\n",
    "start6 = time.time()\n",
    "treeclf = DecisionTreeClassifier(max_depth = 6)\n",
    "treeclf.fit(X_train,y_train)\n",
    "ct_y_pred_prob = treeclf.predict_proba(X_test)[:, 1]\n",
    "ct_fpr, ct_tpr, ct_thresholds = metrics.roc_curve(y_test, ct_y_pred_prob)\n",
    "print 'Decision Tree AUC: ', metrics.roc_auc_score(y_test, ct_y_pred_prob)\n",
    "end6 = time.time()\n",
    "print ('Computational time: %f' %(end6-start6))\n",
    "\n",
    "start7 = time.time()\n",
    "bag = BaggingClassifier(n_estimators=33, max_samples=9, max_features=1.0)\n",
    "bag.fit(X_train,y_train)\n",
    "bag_y_pred_prob = bag.predict_proba(X_test)[:, 1]\n",
    "bag_fpr, bag_tpr, bag_thresholds = metrics.roc_curve(y_test, bag_y_pred_prob)\n",
    "print 'Bagging AUC: ', metrics.roc_auc_score(y_test, bag_y_pred_prob)\n",
    "end7 = time.time()\n",
    "print ('Computational time: %f' %(end7-start7))\n",
    "\n",
    "start8 = time.time()\n",
    "rfc = RandomForestClassifier(n_estimators=12, max_depth=7)\n",
    "rfc.fit(X_train,y_train)\n",
    "rf_y_pred_prob = rfc.predict_proba(X_test)[:, 1]\n",
    "rf_fpr, rf_tpr, rf_thresholds = metrics.roc_curve(y_test, rf_y_pred_prob)\n",
    "print 'Random Forest AUC: ', metrics.roc_auc_score(y_test, rf_y_pred_prob)\n",
    "end8 = time.time()\n",
    "print ('Computational time: %f' %(end8-start8))\n",
    "\n",
    "start9 = time.time()\n",
    "eclf = VotingClassifier(estimators=[('lr', clf1), ('rf', clf2), ('gnb', clf3)], voting='soft')\n",
    "eclf.fit(X_train,y_train)\n",
    "vc_y_pred_prob = eclf.predict_proba(X_test)[:, 1]\n",
    "vc_fpr, vc_tpr, vc_thresholds = metrics.roc_curve(y_test, vc_y_pred_prob)\n",
    "print 'Voting Classifier AUC: ', metrics.roc_auc_score(y_test, vc_y_pred_prob)\n",
    "end9 = time.time()\n",
    "print 'Computational time: %f' %(end9-start9)\n",
    "\n",
    "plt.plot(gnb_fpr, gnb_tpr, 'r', label ='Naive Bayes')\n",
    "plt.plot(lr_fpr, lr_tpr, 'g', label ='Logistic Regression')\n",
    "plt.plot(knn_fpr, knn_tpr, 'b', label ='k-Nearest Neighbors')\n",
    "plt.plot(ct_fpr, ct_tpr, 'orange', label = 'Classification Tree')\n",
    "plt.plot(svm1_fpr, svm1_tpr, 'm', label ='SVM Polynomial Kernel')\n",
    "plt.plot(svm2_fpr, svm2_tpr, 'y', label ='SVM Gaussian Kernel')\n",
    "plt.plot(bag_fpr, bag_tpr, 'k', label ='Bagging')\n",
    "plt.plot(rf_fpr, rf_tpr, 'gray', label ='Random Forest')\n",
    "plt.plot(vc_fpr, vc_tpr, 'purple', label ='Voting Classifier')\n",
    "plt.xlim([0.0, 1.0])\n",
    "plt.ylim([0.0, 1.0])\n",
    "plt.xlabel('False Positive Rate (1 - Specificity)')\n",
    "plt.ylabel('True Positive Rate (Sensitivity)')\n",
    "plt.legend(bbox_to_anchor=(1, 1), loc=2, borderaxespad=0.)"
   ]
  },
  {
   "cell_type": "markdown",
   "metadata": {},
   "source": [
    "<b> Logistic Regression and Random Forest yeild the greatest AUC!</b><br><br>"
   ]
  },
  {
   "cell_type": "code",
   "execution_count": 45,
   "metadata": {
    "collapsed": false
   },
   "outputs": [
    {
     "name": "stdout",
     "output_type": "stream",
     "text": [
      "      Model       CV Accuracy  CV AUC       AUC       Comput. time\n",
      "----------------- ----------- -------- -------------- ------------\n",
      "             Null    0.695223      0.5            0.5             \n",
      "     Bernoulli NB    0.691523 0.714434 0.714141156932        0.015\n",
      "              Knn    0.706401 0.707841 0.713481906443        1.422\n",
      "        Log. Reg.    0.709677 0.719794 0.722812874322        0.032\n",
      "         SVM Poly    0.706684 0.682009 0.694191010749     1052.504\n",
      "    SVM Gaussian0    0.706729 0.634496 0.643961557759       73.586\n",
      "    Decision Tree     0.70584 0.705792 0.711603892164        0.016\n",
      "          Bagging    0.694189 0.691882  0.70106910055         0.16\n",
      "    Random Forest    0.706683 0.719615 0.725363273205          0.1\n",
      "Voting Classifier    0.701815 0.708787 0.716339233178        0.179\n"
     ]
    }
   ],
   "source": [
    "arr = np.array([['Null', 0.695223,0.500000,0.500000,''],\n",
    "                ['Bernoulli NB', 0.691523,0.714434, 0.714141156932, 0.015000],\n",
    "                ['Knn',0.706401,0.707841, 0.713481906443,1.422000],\n",
    "               ['Log. Reg.', 0.709677, 0.719794,0.722812874322, 0.032000],\n",
    "                ['SVM Poly', 0.706684, 0.682009,0.694191010749, 1052.504000 ],\n",
    "                ['SVM Gaussian0', 0.706729,  0.634496, 0.643961557759, 73.586000],\n",
    "                ['Decision Tree', 0.705840, 0.705792,0.711603892164,  0.016000],\n",
    "                ['Bagging', 0.694189, 0.691882,0.70106910055, 0.160000],\n",
    "                ['Random Forest',0.706683, 0.719615,0.725363273205, 0.100000],\n",
    "                ['Voting Classifier', 0.701815,0.708787,0.716339233178, 0.179000]])\n",
    "#The values of AUC were gotten from one train-and-test model computation\n",
    "#Computation time were gotten from one train-and-test model computation\n",
    "t = Table(arr, names = ('Model','CV Accuracy', 'CV AUC', 'AUC', 'Comput. time'))\n",
    "print t "
   ]
  }
 ],
 "metadata": {
  "kernelspec": {
   "display_name": "Python 2",
   "language": "python",
   "name": "python2"
  },
  "language_info": {
   "codemirror_mode": {
    "name": "ipython",
    "version": 2
   },
   "file_extension": ".py",
   "mimetype": "text/x-python",
   "name": "python",
   "nbconvert_exporter": "python",
   "pygments_lexer": "ipython2",
   "version": "2.7.10"
  }
 },
 "nbformat": 4,
 "nbformat_minor": 0
}
