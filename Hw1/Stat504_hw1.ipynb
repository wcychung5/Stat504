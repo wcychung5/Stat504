{
 "cells": [
  {
   "cell_type": "markdown",
   "metadata": {},
   "source": [
    "## STAT 504 Homework #1 \n",
    "Fall 2015 <br>\n",
    "Chung Yan Wan <br>\n",
    "University of Idaho <br>"
   ]
  },
  {
   "cell_type": "markdown",
   "metadata": {},
   "source": [
    "### Excercise 1 \n",
    "Write a program that reads a file, breaks each line into words, strips whitespace and punctuation from the words, and converts them to lowercase. \n"
   ]
  },
  {
   "cell_type": "code",
   "execution_count": 340,
   "metadata": {
    "collapsed": true
   },
   "outputs": [],
   "source": [
    "import re\n",
    "from collections import Counter"
   ]
  },
  {
   "cell_type": "markdown",
   "metadata": {},
   "source": [
    "<b> Function that strips the whitespace and puctuation from a text and coverts all words into lowercase </b>"
   ]
  },
  {
   "cell_type": "code",
   "execution_count": 341,
   "metadata": {
    "collapsed": false
   },
   "outputs": [],
   "source": [
    "def process_file1(filename):\n",
    "    \"\"\"This function will eliminates all whitespace and punctunation in the text, \n",
    "    as well as to convert all words into lowercase. \n",
    "    \n",
    "    filename: string\n",
    "    \"\"\"\n",
    "    line = filename.readlines()\n",
    "    count = len(line)\n",
    "    chars_removing = re.compile(r'([^A-Za-z \\'])')\n",
    "\n",
    "    for i in range(0,count):\n",
    "        # replace hyphens with spaces before splitting\n",
    "        line[i] = line[i].replace('-', ' ')\n",
    "        line[i] = line[i].replace(\"'\",\"\")\n",
    "        # remove all whitespace\n",
    "        line[i] = line[i].strip()\n",
    "        line[i] = \" \".join(line[i].split())\n",
    "        line[i] = chars_removing.sub(\"\", line[i])\n",
    "\n",
    "    # remove line[i] if line[i] = ''\n",
    "    line = filter(None, line)\n",
    "    # join all lines together \n",
    "    word = \" \".join(line)\n",
    "    # convert all words into lowercase\n",
    "    word = word.lower()\n",
    "    # remove everything but letters and integers\n",
    "    chars_removing = re.compile(r'([^A-Za-z \\'])')\n",
    "    word = chars_removing.sub(\"\", word)\n",
    "    print word\n",
    "    filename.close()"
   ]
  },
  {
   "cell_type": "markdown",
   "metadata": {},
   "source": [
    "<b> Original text: </b>"
   ]
  },
  {
   "cell_type": "code",
   "execution_count": 342,
   "metadata": {
    "collapsed": false,
    "scrolled": true
   },
   "outputs": [
    {
     "name": "stdout",
     "output_type": "stream",
     "text": [
      "A blood glucose test measures the amount of a type of sugar, called glucose, in your blood. Glucose comes from carbohydrate foods. It is the main source of energy used by the body. Insulin is a hormone that helps your body's cells use the glucose. Insulin is produced in the pancreas and released into the blood when the amount of glucose in the blood rises.\n",
      "\n",
      "Normally, your blood glucose levels increase slightly after you eat. This increase causes your pancreas to release insulin so that your blood glucose levels do not get too high. Blood glucose levels that remain high over time can damage your eyes, kidneys, nerves, and blood vessels.\n",
      "\n",
      "There are several different types of blood glucose tests.\n",
      "\n",
      "Fasting blood sugar (FBS) measures blood glucose after you have not eaten for at least 8 hours. It is often the first test done to check for prediabetes and diabetes.\n",
      "2-hour postprandial blood sugar measures blood glucose exactly 2 hours after you start eating a meal. This is not a test used to diagnose diabetes. This test is used to see if someone with diabetes is taking the right amount of insulin with meals.\n",
      "Random blood sugar (RBS) measures blood glucose regardless of when you last ate. Several random measurements may be taken throughout the day. Random testing is useful because glucose levels in healthy people do not vary widely throughout the day. Blood glucose levels that vary widely may mean a problem. This test is also called a casual blood glucose test.\n",
      "Oral glucose tolerance test is used to diagnose prediabetes and diabetes. An oral glucose tolerance test is a series of blood glucose measurements taken after you drink a sweet liquid that contains glucose. This test is commonly used to diagnose diabetes that occurs during pregnancy (gestational diabetes). Women who had high blood sugar levels during pregnancy may have oral glucose tolerance tests after pregnancy.\n",
      "Hemoglobin A1c, or glycohemoglobin, measures how much sugar (glucose) is stuck to red blood cells. This test can be used to diagnose diabetes. It also shows how well your diabetes has been controlled in the past 2 to 3 months and whether your diabetes medicine needs to be changed. The result of your A1c test can be used to estimate your average blood sugar level. This is called your estimated average glucose, or eAG.\n"
     ]
    }
   ],
   "source": [
    "blood_glucose = open('/Users/chungyanwan/Stat504_wan/hw1/blood_glucose.txt','r+')    \n",
    "original_text = blood_glucose.read()\n",
    "print original_text"
   ]
  },
  {
   "cell_type": "markdown",
   "metadata": {},
   "source": [
    "<b> After editing: </b>"
   ]
  },
  {
   "cell_type": "code",
   "execution_count": 343,
   "metadata": {
    "collapsed": false,
    "scrolled": true
   },
   "outputs": [
    {
     "name": "stdout",
     "output_type": "stream",
     "text": [
      "a blood glucose test measures the amount of a type of sugar called glucose in your blood glucose comes from carbohydrate foods it is the main source of energy used by the body insulin is a hormone that helps your bodys cells use the glucose insulin is produced in the pancreas and released into the blood when the amount of glucose in the blood rises normally your blood glucose levels increase slightly after you eat this increase causes your pancreas to release insulin so that your blood glucose levels do not get too high blood glucose levels that remain high over time can damage your eyes kidneys nerves and blood vessels there are several different types of blood glucose tests fasting blood sugar fbs measures blood glucose after you have not eaten for at least  hours it is often the first test done to check for prediabetes and diabetes  hour postprandial blood sugar measures blood glucose exactly  hours after you start eating a meal this is not a test used to diagnose diabetes this test is used to see if someone with diabetes is taking the right amount of insulin with meals random blood sugar rbs measures blood glucose regardless of when you last ate several random measurements may be taken throughout the day random testing is useful because glucose levels in healthy people do not vary widely throughout the day blood glucose levels that vary widely may mean a problem this test is also called a casual blood glucose test oral glucose tolerance test is used to diagnose prediabetes and diabetes an oral glucose tolerance test is a series of blood glucose measurements taken after you drink a sweet liquid that contains glucose this test is commonly used to diagnose diabetes that occurs during pregnancy gestational diabetes women who had high blood sugar levels during pregnancy may have oral glucose tolerance tests after pregnancy hemoglobin ac or glycohemoglobin measures how much sugar glucose is stuck to red blood cells this test can be used to diagnose diabetes it also shows how well your diabetes has been controlled in the past  to  months and whether your diabetes medicine needs to be changed the result of your ac test can be used to estimate your average blood sugar level this is called your estimated average glucose or eag\n"
     ]
    }
   ],
   "source": [
    "blood_glucose = open('/Users/chungyanwan/Stat504_wan/hw1/blood_glucose.txt','r+')    \n",
    "process_file1(blood_glucose)"
   ]
  },
  {
   "cell_type": "markdown",
   "metadata": {},
   "source": [
    "### Excercise 2 \n",
    "####Part a\n",
    "Modify your program from the previous exercise to read The King James Bible you downloaded, skip over the header information at the beginning of the file, and process the rest of the words as before. <br>\n",
    "Then modify the program to count the total number of words in the Old Testament, and print out the number of times each word is used alongside the word if the word is used more than k times (where k as a user input parameter) in decreasing order. Print out the output when k=100. <br>"
   ]
  },
  {
   "cell_type": "code",
   "execution_count": 344,
   "metadata": {
    "collapsed": true
   },
   "outputs": [],
   "source": [
    "def process_file2(filename, r):\n",
    "    ''' \n",
    "    The function will return a list of all unique words and their numbers of occurance \n",
    "    in the Old Testament of the Bible, where their numbers of occurance are more than r \n",
    "    (user defined) times.\n",
    "    \n",
    "    Arguements:\n",
    "    filename: string, a text we are interested in. In this example, we used the bible.\n",
    "    r: integer, we are only interested in the words which have appeared for more than r times.\n",
    "    '''\n",
    "\n",
    "    bible = filename.readlines()\n",
    "    skip_header(bible, \"The Old Testament of the King James Version of the Bible\")\n",
    "    last_line_index = len(bible)-1\n",
    "    skip_footer(bible, \"The New Testament of the King James Bible\", last_line_index)\n",
    "    words_only(bible)\n",
    "    \n",
    "    # join all lines together as one element\n",
    "    bible = \" \".join(bible)\n",
    "    \n",
    "    # once again clear all extra space between words\n",
    "    bible = \" \".join(bible.split())\n",
    "    \n",
    "    # creat a list which contains all the words\n",
    "    word_list = re.split(\" \", bible)\n",
    "    \n",
    "    # count the occurrance of all unique words\n",
    "    word_counter = Counter(word_list)\n",
    "    \n",
    "    # print the total number of words in the Old Testament\n",
    "    print 'The total number of words in the Old Testament is:', len(word_list)\n",
    "    \n",
    "    # print the total number of unique words\n",
    "    print 'The total number of unique words is:', len(word_counter)\n",
    "    \n",
    "    # print all words and their number of occurance if the words have appeared for more than r times\n",
    "    common_words = dict((k, v) for k, v in word_counter.items() if v > r)\n",
    "    global sorted_common_words_old_test \n",
    "    sorted_common_words_old_test = sorted(common_words.items(), key=lambda (k,v): v, reverse = True)\n",
    "    print 'These are the words which appeared for more than r times and listed in decending order.'\n",
    "    print sorted_common_words_old_test\n",
    "    \n"
   ]
  },
  {
   "cell_type": "markdown",
   "metadata": {},
   "source": [
    "<b> Function that skips over the header </b>"
   ]
  },
  {
   "cell_type": "code",
   "execution_count": 345,
   "metadata": {
    "collapsed": true
   },
   "outputs": [],
   "source": [
    "def skip_header(text, first_sentence):\n",
    "    ''' \n",
    "    The function will skip over the header.\n",
    "    \n",
    "    Arguements:\n",
    "    filename: string, a text we are interested in.\n",
    "    first_sentence: string, the first sentence after the header.\n",
    "    '''\n",
    "    while not text[0].startswith(first_sentence):\n",
    "        del text[0]"
   ]
  },
  {
   "cell_type": "markdown",
   "metadata": {},
   "source": [
    "<b> Function that skips over the footer </b>"
   ]
  },
  {
   "cell_type": "code",
   "execution_count": 346,
   "metadata": {
    "collapsed": false
   },
   "outputs": [],
   "source": [
    "def skip_footer(text, last_sentence, last_line_index):\n",
    "    ''' \n",
    "    The function will skip over the footer.\n",
    "    \n",
    "    Arguements:\n",
    "    filename: string, a text we are interested in.\n",
    "    last_sentence: string, the first sentence of the footer.\n",
    "    last_line_index: integer, the index of the very last line of our text.\n",
    "    '''\n",
    "    while not text[last_line_index].startswith(last_sentence):\n",
    "        del text[last_line_index]\n",
    "        last_line_index = last_line_index - 1\n",
    "    del text[last_line_index]"
   ]
  },
  {
   "cell_type": "markdown",
   "metadata": {},
   "source": [
    "<b> Function that strips the whitespace, punctuation, and integers, and it also converts all words into lowercase </b>"
   ]
  },
  {
   "cell_type": "code",
   "execution_count": 347,
   "metadata": {
    "collapsed": true
   },
   "outputs": [],
   "source": [
    "def words_only(text):\n",
    "    ''' \n",
    "    The function will strips the whitespace, punctuation, and integers, and it \n",
    "    also converts all words into lowercase.\n",
    "    \n",
    "    Arguements:\n",
    "    filename: string, a text we are interested in.\n",
    "    '''\n",
    "    count = len(text)\n",
    "    remove_list = re.compile(r'([^A-Za-z \\'])')\n",
    "    for i in range(0,count):\n",
    "        text[i] = text[i].replace('-', ' ')\n",
    "        text[i] = text[i].replace(\"'\",\"\")\n",
    "        text[i] = text[i].strip()\n",
    "        text[i] = \" \".join(text[i].split())\n",
    "        text[i] = remove_list.sub(\"\",text[i])\n",
    "        text[i] = text[i].lower()\n",
    "    # delete text[i] if text[i] = ''\n",
    "    text = filter(None, text)"
   ]
  },
  {
   "cell_type": "markdown",
   "metadata": {},
   "source": [
    "<b> Results for the Old Testament </b>"
   ]
  },
  {
   "cell_type": "code",
   "execution_count": 348,
   "metadata": {
    "collapsed": false
   },
   "outputs": [
    {
     "name": "stdout",
     "output_type": "stream",
     "text": [
      "The total number of words in the Old Testament is: 609446\n",
      "The total number of unique words is: 10754\n",
      "These are the words which appeared for more than r times and listed in decending order.\n",
      "[('the', 52992), ('and', 40975), ('of', 28548), ('to', 10207), ('in', 9767), ('that', 9152), ('shall', 8423), ('he', 7347), ('lord', 7119), ('his', 7036), ('for', 6689), ('i', 6669), ('unto', 6551), ('a', 6268), ('they', 5411), ('be', 5296), ('it', 4852), ('is', 4820), ('them', 4730), ('with', 4643), ('thou', 4617), ('not', 4533), ('all', 4490), ('him', 4193), ('thy', 4184), ('my', 3749), ('their', 3445), ('thee', 3344), ('will', 3281), ('me', 3253), ('was', 3172), ('god', 3089), ('said', 2938), ('from', 2910), ('which', 2860), ('have', 2820), ('israel', 2490), ('upon', 2485), ('as', 2480), ('ye', 2424), ('but', 2323), ('out', 2267), ('king', 2171), ('were', 1989), ('are', 1987), ('up', 1971), ('this', 1968), ('son', 1948), ('people', 1908), ('when', 1862), ('house', 1818), ('by', 1815), ('man', 1744), ('there', 1732), ('hath', 1707), ('her', 1690), ('land', 1668), ('children', 1645), ('came', 1587), ('then', 1581), ('shalt', 1509), ('before', 1503), ('against', 1457), ('on', 1437), ('day', 1418), ('an', 1385), ('come', 1384), ('had', 1383), ('you', 1373), ('into', 1371), ('one', 1360), ('your', 1323), ('so', 1314), ('hand', 1308), ('men', 1267), ('go', 1240), ('at', 1180), ('also', 1170), ('let', 1169), ('made', 1119), ('even', 1118), ('behold', 1104), ('sons', 1084), ('went', 1062), ('o', 1008), ('if', 993), ('saying', 990), ('we', 975), ('us', 962), ('every', 956), ('saith', 955), ('david', 953), ('do', 952), ('now', 949), ('hast', 927), ('no', 924), ('make', 910), ('because', 908), ('down', 892), ('over', 886), ('after', 883), ('therefore', 881), ('thereof', 867), ('thine', 860), ('these', 833), ('did', 815), ('judah', 811), ('she', 803), ('our', 799), ('or', 798), ('earth', 795), ('moses', 772), ('name', 755), ('put', 754), ('may', 743), ('brought', 730), ('heart', 725), ('city', 716), ('take', 713), ('offering', 713), ('pass', 712), ('among', 711), ('great', 708), ('days', 708), ('forth', 704), ('away', 704), ('two', 698), ('thus', 695), ('give', 681), ('jerusalem', 667), ('according', 666), ('neither', 659), ('bring', 641), ('say', 628), ('any', 628), ('father', 627), ('nor', 621), ('fathers', 620), ('place', 611), ('set', 611), ('am', 611), ('mine', 592), ('who', 590), ('kings', 588), ('egypt', 587), ('took', 586), ('what', 577), ('like', 575), ('hundred', 556), ('way', 527), ('eat', 520), ('word', 491), ('sent', 489), ('yet', 488), ('years', 483), ('evil', 481), ('good', 472), ('about', 471), ('fire', 466), ('thousand', 466), ('know', 464), ('more', 460), ('whom', 457), ('time', 453), ('spake', 451), ('words', 450), ('off', 447), ('again', 445), ('things', 433), ('holy', 430), ('cities', 429), ('eyes', 428), ('priest', 427), ('done', 424), ('thing', 423), ('soul', 419), ('servants', 419), ('should', 417), ('three', 410), ('servant', 407), ('hear', 405), ('called', 405), ('side', 399), ('heard', 393), ('sword', 393), ('gold', 391), ('own', 390), ('see', 389), ('ever', 388), ('voice', 386), ('commanded', 381), ('seven', 372), ('congregation', 363), ('saul', 363), ('art', 361), ('burnt', 361), ('face', 359), ('priests', 358), ('hands', 355), ('altar', 355), ('mouth', 352), ('speak', 352), ('work', 350), ('year', 349), ('together', 347), ('blood', 346), ('than', 343), ('sin', 335), ('given', 335), ('cast', 334), ('jacob', 332), ('high', 332), ('brethren', 332), ('gave', 331), ('old', 329), ('heaven', 327), ('saw', 327), ('water', 326), ('himself', 323), ('wicked', 320), ('midst', 319), ('peace', 318), ('how', 316), ('fear', 316), ('aaron', 315), ('those', 314), ('other', 314), ('wife', 312), ('tabernacle', 308), ('until', 307), ('under', 305), ('themselves', 305), ('dwell', 305), ('head', 305), ('silver', 302), ('sea', 302), ('keep', 300), ('law', 300), ('drink', 300), ('five', 300), ('nations', 299), ('hosts', 299), ('cut', 298), ('daughter', 295), ('right', 293), ('none', 291), ('answered', 289), ('toward', 289), ('found', 285), ('through', 284), ('round', 283), ('twenty', 281), ('bread', 281), ('without', 281), ('sight', 280), ('cause', 278), ('surely', 277), ('first', 277), ('yea', 275), ('four', 274), ('left', 274), ('babylon', 274), ('die', 273), ('covenant', 272), ('princes', 272), ('waters', 271), ('solomon', 271), ('flesh', 271), ('taken', 270), ('many', 270), ('would', 269), ('wilderness', 269), ('deliver', 267), ('young', 266), ('field', 266), ('where', 264), ('life', 264), ('levites', 264), ('iniquity', 262), ('gate', 260), ('offerings', 260), ('turn', 258), ('philistines', 254), ('both', 254), ('brother', 252), ('woman', 251), ('end', 251), ('return', 250), ('enemies', 250), ('turned', 249), ('daughters', 249), ('stood', 248), ('mighty', 247), ('month', 246), ('pray', 245), ('gods', 245), ('night', 245), ('wherefore', 244), ('spirit', 244), ('mount', 240), ('whose', 236), ('might', 236), ('another', 234), ('death', 234), ('meat', 233), ('rest', 231), ('anger', 229), ('destroy', 228), ('strong', 227), ('strength', 225), ('glory', 225), ('gathered', 224), ('seed', 224), ('ark', 224), ('pharaoh', 222), ('tribe', 222), ('told', 221), ('inheritance', 221), ('praise', 220), ('stand', 220), ('been', 219), ('offer', 219), ('judgment', 218), ('ten', 217), ('joshua', 217), ('mercy', 217), ('delivered', 217), ('blessed', 217), ('between', 215), ('smote', 213), ('fall', 212), ('cubits', 211), ('very', 210), ('morning', 210), ('war', 210), ('dwelt', 208), ('wilt', 207), ('righteousness', 207), ('inhabitants', 201), ('therein', 199), ('places', 198), ('spoken', 196), ('righteous', 195), ('joseph', 195), ('sacrifice', 194), ('wine', 194), ('laid', 194), ('lay', 192), ('full', 191), ('near', 191), ('oil', 191), ('wise', 191), ('six', 188), ('host', 188), ('seek', 187), ('slew', 185), ('ways', 185), ('kingdom', 184), ('well', 183), ('jordan', 182), ('wisdom', 181), ('concerning', 181), ('why', 180), ('begat', 180), ('live', 179), ('feet', 178), ('seen', 178), ('light', 177), ('dead', 177), ('above', 176), ('serve', 176), ('families', 174), ('gone', 174), ('prophet', 173), ('chief', 172), ('cry', 172), ('book', 172), ('ephraim', 172), ('reigned', 170), ('poor', 170), ('send', 169), ('river', 169), ('wall', 169), ('moab', 168), ('save', 168), ('died', 166), ('battle', 165), ('thirty', 165), ('slain', 165), ('mountains', 165), ('ground', 164), ('bare', 164), ('thyself', 163), ('abraham', 162), ('unclean', 162), ('shew', 162), ('stones', 161), ('broken', 161), ('long', 160), ('can', 159), ('little', 159), ('cometh', 159), ('mother', 159), ('fell', 159), ('door', 158), ('benjamin', 158), ('afraid', 158), ('same', 158), ('whole', 157), ('much', 157), ('such', 156), ('border', 156), ('bear', 155), ('built', 155), ('only', 155), ('within', 155), ('returned', 154), ('multitude', 154), ('number', 154), ('lords', 153), ('moreover', 153), ('part', 152), ('zion', 152), ('reign', 151), ('prophets', 151), ('wrath', 151), ('tree', 151), ('fifty', 151), ('cattle', 151), ('doth', 150), ('lest', 150), ('destroyed', 149), ('though', 149), ('rejoice', 149), ('call', 148), ('jeremiah', 148), ('east', 148), ('walk', 147), ('build', 147), ('trees', 146), ('hearken', 145), ('sheep', 145), ('written', 145), ('manasseh', 143), ('vessels', 143), ('heathen', 143), ('gather', 142), ('samuel', 141), ('child', 141), ('fruit', 141), ('desolate', 141), ('far', 141), ('stone', 140), ('commandments', 139), ('hold', 139), ('valley', 138), ('women', 137), ('manner', 137), ('joab', 137), ('understanding', 136), ('back', 136), ('second', 135), ('wood', 135), ('south', 134), ('tell', 133), ('forty', 133), ('camp', 133), ('sanctuary', 133), ('throughout', 133), ('cried', 132), ('statutes', 132), ('known', 132), ('lifted', 132), ('beast', 132), ('love', 131), ('country', 131), ('fled', 131), ('lie', 131), ('gates', 131), ('departed', 131), ('fat', 130), ('sun', 130), ('break', 130), ('wherein', 130), ('burn', 130), ('look', 129), ('half', 129), ('north', 129), ('hezekiah', 128), ('kept', 128), ('third', 127), ('lo', 127), ('beasts', 127), ('carried', 126), ('passed', 125), ('throne', 125), ('incense', 124), ('judge', 124), ('counsel', 124), ('houses', 123), ('numbered', 123), ('family', 122), ('captivity', 122), ('judgments', 122), ('remember', 121), ('beside', 121), ('commandment', 121), ('court', 121), ('stranger', 121), ('arise', 120), ('knowledge', 120), ('arose', 120), ('power', 120), ('brass', 120), ('salvation', 119), ('ears', 119), ('elders', 119), ('wives', 119), ('works', 119), ('assyria', 118), ('jonathan', 118), ('wickedness', 118), ('bless', 117), ('truth', 117), ('service', 117), ('money', 117), ('captain', 116), ('times', 116), ('help', 116), ('while', 115), ('till', 115), ('smite', 115), ('offered', 115), ('suburbs', 115), ('nation', 114), ('most', 114), ('clean', 114), ('heavens', 114), ('sing', 113), ('captains', 113), ('cannot', 113), ('spoil', 113), ('twelve', 113), ('lips', 113), ('generations', 112), ('darkness', 111), ('pieces', 111), ('could', 111), ('chariots', 111), ('samaria', 111), ('didst', 111), ('yourselves', 110), ('seventh', 110), ('slay', 110), ('nothing', 110), ('looked', 110), ('meet', 109), ('find', 109), ('born', 109), ('isaac', 108), ('mountain', 108), ('thence', 107), ('living', 107), ('rose', 107), ('trust', 107), ('firstborn', 106), ('rock', 106), ('tribes', 106), ('began', 105), ('maketh', 105), ('goeth', 105), ('here', 104), ('bullock', 104), ('names', 104), ('lot', 104), ('angel', 104), ('get', 104), ('become', 104), ('horses', 103), ('appointed', 103), ('answer', 103), ('possess', 103), ('fine', 103), ('absalom', 103), ('whither', 102), ('flock', 102), ('joy', 102), ('sweet', 102), ('sinned', 102), ('jeroboam', 102), ('mayest', 101), ('giveth', 101), ('walked', 101), ('hid', 101), ('dust', 101), ('being', 101), ('spread', 101), ('whether', 101)]\n"
     ]
    }
   ],
   "source": [
    "bible = open('/Users/chungyanwan/Stat504_wan/hw1/bible.txt','r+')\n",
    "process_file2(bible, 100)"
   ]
  },
  {
   "cell_type": "markdown",
   "metadata": {},
   "source": [
    "####Part b\n",
    "Repeat the above procedure for the New Testament."
   ]
  },
  {
   "cell_type": "code",
   "execution_count": 349,
   "metadata": {
    "collapsed": false
   },
   "outputs": [],
   "source": [
    "def process_file3(filename, r):\n",
    "    ''' \n",
    "    The function will return a list of all unique words and their numbers\n",
    "    of occurance in the New Testament of the Bible, where their numbers of \n",
    "    occurance are more than r (user defined) times.\n",
    "    \n",
    "    Arguements:\n",
    "    filename: string, a text we are interested in. In this example,\n",
    "    we used the bible.\n",
    "    r: integer, we are only interested in the words which have appeared for \n",
    "    more than r times.\n",
    "    '''\n",
    "    bible = filename.readlines()\n",
    "    skip_header(bible, \"The New Testament of the King James Bible\")\n",
    "    last_line_index = len(bible)-1\n",
    "    skip_footer(bible,\"End of the Project Gutenberg EBook of The King James Bible\", last_line_index)\n",
    "    words_only(bible)\n",
    "    \n",
    "    # join all lines together as one element\n",
    "    bible = \" \".join(bible)\n",
    "    \n",
    "    # once again clear all extra space between words\n",
    "    bible = \" \".join(bible.split())\n",
    "    \n",
    "    # creat a list which contains all the words\n",
    "    word_list = re.split(\" \", bible)\n",
    "\n",
    "    # count the occurrance of all unique words\n",
    "    word_counter = Counter(word_list)\n",
    "    \n",
    "    # print the total number of words in the Old Testament\n",
    "    print 'The total number of words in the New Testament is:', len(word_list)\n",
    "    \n",
    "    # print the total number of unique words\n",
    "    print 'The total number of unique words is:', len(word_counter)\n",
    "    \n",
    "    # print all words and their number of occurance if the words have appeared for more than r times\n",
    "    global common_words\n",
    "    common_words = dict((k, v) for k, v in word_counter.items() if v > r)\n",
    "    global sorted_common_words_new_test \n",
    "    sorted_common_words_new_test = sorted(common_words.items(), key=lambda (k,v): v, reverse = True)\n",
    "    print 'These are the words which appeared for more than r times and listed in decending order.'\n",
    "    print sorted_common_words_new_test\n",
    "    \n",
    "    filename.close()\n",
    "    "
   ]
  },
  {
   "cell_type": "markdown",
   "metadata": {},
   "source": [
    "<b> Results for the New Testament </b>"
   ]
  },
  {
   "cell_type": "code",
   "execution_count": 350,
   "metadata": {
    "collapsed": false,
    "scrolled": true
   },
   "outputs": [
    {
     "name": "stdout",
     "output_type": "stream",
     "text": [
      "The total number of words in the New Testament is: 180603\n",
      "The total number of unique words is: 6002\n",
      "These are the words which appeared for more than r times and listed in decending order.\n",
      "[('the', 11031), ('and', 10721), ('of', 6122), ('that', 3760), ('to', 3373), ('he', 3072), ('in', 2900), ('him', 2466), ('unto', 2446), ('for', 2281), ('i', 2185), ('is', 2169), ('not', 2063), ('they', 1965), ('a', 1909), ('be', 1717), ('them', 1700), ('but', 1669), ('ye', 1559), ('which', 1553), ('his', 1437), ('shall', 1415), ('with', 1369), ('god', 1356), ('was', 1350), ('it', 1277), ('you', 1244), ('all', 1130), ('have', 1084), ('said', 1061), ('as', 1040), ('jesus', 983), ('when', 972), ('are', 963), ('man', 869), ('we', 869), ('thou', 857), ('me', 843), ('this', 817), ('by', 810), ('were', 783), ('from', 732), ('things', 729), ('lord', 711), ('into', 644), ('had', 643), ('my', 619), ('one', 607), ('if', 602), ('also', 599), ('then', 588), ('come', 587), ('on', 574), ('there', 567), ('hath', 557), ('christ', 555), ('will', 555), ('out', 508), ('came', 506), ('us', 489), ('their', 487), ('thee', 483), ('no', 470), ('saying', 455), ('your', 455), ('say', 428), ('son', 422), ('do', 416), ('thy', 416), ('up', 409), ('what', 408), ('now', 407), ('these', 392), ('at', 390), ('men', 386), ('who', 378), ('so', 375), ('should', 366), ('our', 366), ('therefore', 356), ('father', 352), ('let', 342), ('went', 338), ('or', 324), ('day', 316), ('an', 314), ('saith', 307), ('whom', 306), ('her', 304), ('because', 301), ('know', 299), ('after', 296), ('before', 293), ('many', 286), ('made', 286), ('any', 284), ('may', 284), ('every', 280), ('even', 275), ('am', 263), ('upon', 263), ('spirit', 261), ('heaven', 255), ('great', 254), ('go', 252), ('good', 248), ('heard', 248), ('faith', 245), ('disciples', 243), ('world', 241), ('might', 239), ('down', 233), ('people', 231), ('brethren', 231), ('called', 229), ('how', 227), ('again', 227), ('more', 226), ('law', 223), ('behold', 222), ('saw', 221), ('neither', 220), ('another', 214), ('away', 211), ('against', 210), ('see', 208), ('own', 206), ('house', 206), ('word', 206), ('among', 205), ('himself', 204), ('answered', 203), ('give', 199), ('sent', 196), ('yet', 195), ('earth', 192), ('did', 191), ('being', 190), ('dead', 187), ('life', 186), ('forth', 184), ('would', 182), ('holy', 181), ('through', 179), ('she', 179), ('love', 179), ('glory', 177), ('jews', 175), ('same', 174), ('name', 173), ('paul', 170), ('time', 170), ('days', 169), ('cast', 167), ('first', 167), ('took', 164), ('given', 163), ('speak', 161), ('about', 161), ('take', 161), ('peter', 160), ('kingdom', 158), ('hand', 158), ('children', 157), ('put', 157), ('having', 155), ('power', 152), ('city', 152), ('those', 151), ('other', 150), ('flesh', 149), ('some', 148), ('make', 146), ('hear', 145), ('without', 145), ('jerusalem', 144), ('hast', 143), ('done', 141), ('than', 139), ('two', 139), ('death', 138), ('where', 137), ('way', 137), ('together', 137), ('spake', 136), ('john', 136), ('certain', 136), ('body', 135), ('eat', 135), ('gave', 134), ('nor', 134), ('art', 133), ('brought', 133), ('written', 132), ('evil', 132), ('according', 131), ('grace', 131), ('much', 130), ('receive', 128), ('received', 128), ('verily', 124), ('believe', 124), ('cometh', 123), ('over', 122), ('works', 119), ('thing', 119), ('voice', 119), ('truth', 118), ('pass', 118), ('found', 117), ('temple', 117), ('brother', 115), ('nothing', 115), ('been', 112), ('sin', 112), ('peace', 111), ('chief', 111), ('whosoever', 110), ('hands', 107), ('both', 107), ('shalt', 107), ('woman', 106), ('place', 105), ('gospel', 105), ('heart', 105), ('themselves', 104), ('wherefore', 104), ('why', 102), ('blood', 101)]\n"
     ]
    }
   ],
   "source": [
    "bible = open('/Users/chungyanwan/Stat504_wan/hw1/bible.txt','r+')\n",
    "process_file3(bible, 100)"
   ]
  },
  {
   "cell_type": "markdown",
   "metadata": {
    "collapsed": true
   },
   "source": [
    "###Exercise 3\n",
    "####Part a\n",
    "Modify the previous program to read a word list (see Section 9.1) and then print all the words in the Old Testament that are not in the word list, where this word list is user-input.<br>\n",
    "Try the word list which includes all prepositions, pronouns, article, and conjunctions on Exercise 2. Print out the output with all other interesting words like nouns, proper nouns, verbs, adverbs, and adjectives which occur more than 100 times in the Old Testament.\n"
   ]
  },
  {
   "cell_type": "markdown",
   "metadata": {},
   "source": [
    "<b> A list of prepositions, pronouns, article, and conjunctions that we are not interested </b>"
   ]
  },
  {
   "cell_type": "code",
   "execution_count": 351,
   "metadata": {
    "collapsed": false
   },
   "outputs": [],
   "source": [
    "text_file = open('/Users/chungyanwan/Stat504_wan/hw1/remove_list.txt','r+')\n",
    "global rm_word_list\n",
    "rm_word_list = text_file.read() \n",
    "rm_word_list = rm_word_list.lower()\n",
    "rm_word_list = rm_word_list.strip()\n",
    "rm_word_list = \" \".join(rm_word_list.split())\n",
    "rm_word_list = re.split(\" \", rm_word_list)"
   ]
  },
  {
   "cell_type": "markdown",
   "metadata": {},
   "source": [
    "<b> Funtion that excludes the words in rm_word_list from a dictionary </b>"
   ]
  },
  {
   "cell_type": "code",
   "execution_count": 352,
   "metadata": {
    "collapsed": true
   },
   "outputs": [],
   "source": [
    "def delete_keys(my_dict, list):\n",
    "    n = len(list)\n",
    "    for i in range(0,n):\n",
    "        for key,value in my_dict.items():\n",
    "            if key == list[i]:\n",
    "                my_dict.pop(key)"
   ]
  },
  {
   "cell_type": "markdown",
   "metadata": {},
   "source": [
    "<b> List all interesting words and their numbers of occurance in the Old Testament </b>"
   ]
  },
  {
   "cell_type": "code",
   "execution_count": 353,
   "metadata": {
    "collapsed": false,
    "scrolled": true
   },
   "outputs": [
    {
     "name": "stdout",
     "output_type": "stream",
     "text": [
      "[('lord', 7119), ('god', 3089), ('said', 2938), ('israel', 2490), ('king', 2171), ('son', 1948), ('people', 1908), ('house', 1818), ('man', 1744), ('land', 1668), ('children', 1645), ('came', 1587), ('day', 1418), ('come', 1384), ('one', 1360), ('hand', 1308), ('men', 1267), ('go', 1240), ('made', 1119), ('behold', 1104), ('sons', 1084), ('went', 1062), ('saying', 990), ('saith', 955), ('david', 953), ('do', 952), ('now', 949), ('make', 910), ('judah', 811), ('earth', 795), ('moses', 772), ('name', 755), ('put', 754), ('brought', 730), ('heart', 725), ('city', 716), ('take', 713), ('offering', 713), ('pass', 712), ('great', 708), ('days', 708), ('away', 704), ('two', 698), ('jerusalem', 667), ('according', 666), ('bring', 641), ('say', 628), ('father', 627), ('fathers', 620), ('place', 611), ('set', 611), ('kings', 588), ('egypt', 587), ('took', 586), ('hundred', 556), ('way', 527), ('eat', 520), ('word', 491), ('sent', 489), ('years', 483), ('evil', 481), ('good', 472), ('fire', 466), ('thousand', 466), ('know', 464), ('time', 453), ('spake', 451), ('words', 450), ('again', 445), ('things', 433), ('holy', 430), ('cities', 429), ('eyes', 428), ('priest', 427), ('done', 424), ('thing', 423), ('servants', 419), ('soul', 419), ('three', 410), ('servant', 407), ('hear', 405), ('called', 405), ('side', 399), ('heard', 393), ('sword', 393), ('gold', 391), ('own', 390), ('see', 389), ('ever', 388), ('voice', 386), ('commanded', 381), ('seven', 372), ('congregation', 363), ('saul', 363), ('art', 361), ('burnt', 361), ('face', 359), ('priests', 358), ('altar', 355), ('hands', 355), ('mouth', 352), ('speak', 352), ('work', 350), ('year', 349), ('together', 347), ('blood', 346), ('sin', 335), ('cast', 334), ('jacob', 332), ('high', 332), ('brethren', 332), ('gave', 331), ('old', 329), ('heaven', 327), ('saw', 327), ('water', 326), ('wicked', 320), ('peace', 318), ('fear', 316), ('aaron', 315), ('those', 314), ('other', 314), ('wife', 312), ('tabernacle', 308), ('themselves', 305), ('dwell', 305), ('head', 305), ('sea', 302), ('silver', 302), ('law', 300), ('keep', 300), ('drink', 300), ('five', 300), ('nations', 299), ('hosts', 299), ('cut', 298), ('daughter', 295), ('right', 293), ('none', 291), ('answered', 289), ('found', 285), ('bread', 281), ('twenty', 281), ('sight', 280), ('cause', 278), ('surely', 277), ('first', 277), ('yea', 275), ('four', 274), ('left', 274), ('babylon', 274), ('die', 273), ('covenant', 272), ('princes', 272), ('waters', 271), ('solomon', 271), ('flesh', 271), ('taken', 270), ('wilderness', 269), ('deliver', 267), ('young', 266), ('field', 266), ('where', 264), ('life', 264), ('levites', 264), ('iniquity', 262), ('gate', 260), ('offerings', 260), ('turn', 258), ('philistines', 254), ('both', 254), ('brother', 252), ('woman', 251), ('end', 251), ('return', 250), ('enemies', 250), ('turned', 249), ('daughters', 249), ('stood', 248), ('mighty', 247), ('month', 246), ('pray', 245), ('gods', 245), ('night', 245), ('wherefore', 244), ('spirit', 244), ('mount', 240), ('whose', 236), ('might', 236), ('another', 234), ('death', 234), ('meat', 233), ('rest', 231), ('anger', 229), ('destroy', 228), ('strong', 227), ('strength', 225), ('glory', 225), ('gathered', 224), ('seed', 224), ('ark', 224), ('pharaoh', 222), ('tribe', 222), ('told', 221), ('inheritance', 221), ('praise', 220), ('stand', 220), ('been', 219), ('offer', 219), ('judgment', 218), ('ten', 217), ('joshua', 217), ('mercy', 217), ('delivered', 217), ('blessed', 217), ('smote', 213), ('fall', 212), ('cubits', 211), ('very', 210), ('morning', 210), ('war', 210), ('dwelt', 208), ('wilt', 207), ('righteousness', 207), ('inhabitants', 201), ('therein', 199), ('places', 198), ('spoken', 196), ('righteous', 195), ('joseph', 195), ('wine', 194), ('laid', 194), ('sacrifice', 194), ('lay', 192), ('full', 191), ('oil', 191), ('wise', 191), ('six', 188), ('host', 188), ('seek', 187), ('slew', 185), ('ways', 185), ('kingdom', 184), ('well', 183), ('jordan', 182), ('wisdom', 181), ('why', 180), ('begat', 180), ('live', 179), ('feet', 178), ('seen', 178), ('light', 177), ('dead', 177), ('serve', 176), ('families', 174), ('gone', 174), ('prophet', 173), ('chief', 172), ('cry', 172), ('book', 172), ('ephraim', 172), ('reigned', 170), ('poor', 170), ('send', 169), ('river', 169), ('wall', 169), ('moab', 168), ('died', 166), ('battle', 165), ('thirty', 165), ('slain', 165), ('mountains', 165), ('ground', 164), ('bare', 164), ('thyself', 163), ('abraham', 162), ('unclean', 162), ('shew', 162), ('stones', 161), ('broken', 161), ('long', 160), ('can', 159), ('little', 159), ('cometh', 159), ('mother', 159), ('fell', 159), ('door', 158), ('benjamin', 158), ('same', 158), ('afraid', 158), ('whole', 157), ('much', 157), ('such', 156), ('border', 156), ('built', 155), ('only', 155), ('bear', 155), ('returned', 154), ('multitude', 154), ('number', 154), ('lords', 153), ('moreover', 153), ('part', 152), ('zion', 152), ('reign', 151), ('prophets', 151), ('wrath', 151), ('tree', 151), ('fifty', 151), ('cattle', 151), ('doth', 150), ('lest', 150), ('destroyed', 149), ('though', 149), ('rejoice', 149), ('call', 148), ('jeremiah', 148), ('east', 148), ('walk', 147), ('build', 147), ('trees', 146), ('hearken', 145), ('sheep', 145), ('written', 145), ('manasseh', 143), ('vessels', 143), ('heathen', 143), ('gather', 142), ('fruit', 141), ('samuel', 141), ('child', 141), ('desolate', 141), ('far', 141), ('stone', 140), ('commandments', 139), ('hold', 139), ('valley', 138), ('women', 137), ('manner', 137), ('joab', 137), ('understanding', 136), ('back', 136), ('second', 135), ('wood', 135), ('south', 134), ('forty', 133), ('sanctuary', 133), ('tell', 133), ('camp', 133), ('known', 132), ('lifted', 132), ('beast', 132), ('cried', 132), ('statutes', 132), ('love', 131), ('fled', 131), ('lie', 131), ('country', 131), ('gates', 131), ('departed', 131), ('fat', 130), ('sun', 130), ('break', 130), ('wherein', 130), ('burn', 130), ('look', 129), ('half', 129), ('north', 129), ('hezekiah', 128), ('kept', 128), ('third', 127), ('lo', 127), ('beasts', 127), ('carried', 126), ('passed', 125), ('throne', 125), ('incense', 124), ('judge', 124), ('counsel', 124), ('houses', 123), ('numbered', 123), ('captivity', 122), ('family', 122), ('judgments', 122), ('remember', 121), ('commandment', 121), ('court', 121), ('stranger', 121), ('knowledge', 120), ('arise', 120), ('arose', 120), ('power', 120), ('brass', 120), ('salvation', 119), ('ears', 119), ('elders', 119), ('wives', 119), ('works', 119), ('assyria', 118), ('jonathan', 118), ('wickedness', 118), ('bless', 117), ('truth', 117), ('service', 117), ('money', 117), ('captain', 116), ('help', 116), ('while', 115), ('smite', 115), ('offered', 115), ('suburbs', 115), ('nation', 114), ('most', 114), ('clean', 114), ('heavens', 114), ('sing', 113), ('captains', 113), ('cannot', 113), ('spoil', 113), ('twelve', 113), ('lips', 113), ('generations', 112), ('darkness', 111), ('pieces', 111), ('chariots', 111), ('could', 111), ('samaria', 111), ('didst', 111), ('yourselves', 110), ('seventh', 110), ('slay', 110), ('nothing', 110), ('looked', 110), ('meet', 109), ('find', 109), ('born', 109), ('isaac', 108), ('mountain', 108), ('thence', 107), ('living', 107), ('rose', 107), ('trust', 107), ('rock', 106), ('firstborn', 106), ('tribes', 106), ('began', 105), ('maketh', 105), ('goeth', 105), ('here', 104), ('bullock', 104), ('names', 104), ('get', 104), ('lot', 104), ('angel', 104), ('become', 104), ('horses', 103), ('appointed', 103), ('answer', 103), ('fine', 103), ('possess', 103), ('absalom', 103), ('whither', 102), ('flock', 102), ('joy', 102), ('sweet', 102), ('sinned', 102), ('jeroboam', 102), ('walked', 101), ('mayest', 101), ('being', 101), ('hid', 101), ('dust', 101), ('spread', 101), ('whether', 101), ('giveth', 101)]\n"
     ]
    }
   ],
   "source": [
    "# sorted_common_words_old_test was a \"list\", convert it to a \"dictionary\"\n",
    "sorted_common_words_old_test = dict(sorted_common_words_old_test)\n",
    "\n",
    "delete_keys(sorted_common_words_old_test,rm_word_list)\n",
    "\n",
    "# sort sorted_common_words_old_test in decending order\n",
    "sorted_common_words_old_test = sorted(sorted_common_words_old_test.items(), key=lambda (k,v): v, reverse = True)\n",
    "\n",
    "print sorted_common_words_old_test"
   ]
  },
  {
   "cell_type": "markdown",
   "metadata": {},
   "source": [
    "####Part b\n",
    "Repeat the above for the New Testament."
   ]
  },
  {
   "cell_type": "markdown",
   "metadata": {},
   "source": [
    "<b> List all interesting words and their numbers of occurance in the New Testament </b>"
   ]
  },
  {
   "cell_type": "code",
   "execution_count": 354,
   "metadata": {
    "collapsed": false
   },
   "outputs": [
    {
     "name": "stdout",
     "output_type": "stream",
     "text": [
      "[('god', 1356), ('said', 1061), ('jesus', 983), ('man', 869), ('things', 729), ('lord', 711), ('one', 607), ('come', 587), ('christ', 555), ('came', 506), ('saying', 455), ('say', 428), ('son', 422), ('do', 416), ('now', 407), ('men', 386), ('father', 352), ('went', 338), ('day', 316), ('saith', 307), ('know', 299), ('made', 286), ('spirit', 261), ('heaven', 255), ('great', 254), ('go', 252), ('heard', 248), ('good', 248), ('faith', 245), ('disciples', 243), ('world', 241), ('might', 239), ('people', 231), ('brethren', 231), ('called', 229), ('again', 227), ('law', 223), ('behold', 222), ('saw', 221), ('another', 214), ('away', 211), ('see', 208), ('house', 206), ('own', 206), ('word', 206), ('answered', 203), ('sent', 196), ('earth', 192), ('being', 190), ('dead', 187), ('life', 186), ('holy', 181), ('love', 179), ('glory', 177), ('jews', 175), ('same', 174), ('name', 173), ('paul', 170), ('time', 170), ('days', 169), ('first', 167), ('cast', 167), ('took', 164), ('speak', 161), ('take', 161), ('peter', 160), ('kingdom', 158), ('hand', 158), ('children', 157), ('put', 157), ('having', 155), ('power', 152), ('city', 152), ('those', 151), ('other', 150), ('flesh', 149), ('some', 148), ('make', 146), ('hear', 145), ('jerusalem', 144), ('done', 141), ('two', 139), ('death', 138), ('where', 137), ('way', 137), ('together', 137), ('spake', 136), ('john', 136), ('certain', 136), ('body', 135), ('eat', 135), ('gave', 134), ('brought', 133), ('art', 133), ('written', 132), ('evil', 132), ('according', 131), ('grace', 131), ('much', 130), ('receive', 128), ('received', 128), ('verily', 124), ('believe', 124), ('cometh', 123), ('works', 119), ('thing', 119), ('voice', 119), ('truth', 118), ('pass', 118), ('found', 117), ('temple', 117), ('brother', 115), ('nothing', 115), ('been', 112), ('sin', 112), ('peace', 111), ('chief', 111), ('whosoever', 110), ('both', 107), ('hands', 107), ('woman', 106), ('place', 105), ('gospel', 105), ('heart', 105), ('wherefore', 104), ('themselves', 104), ('why', 102), ('blood', 101)]\n"
     ]
    }
   ],
   "source": [
    "# sorted_common_words_old_test was a \"list\", convert it to a \"dictionary\"\n",
    "sorted_common_words_new_test = dict(sorted_common_words_new_test)\n",
    "\n",
    "delete_keys(sorted_common_words_new_test,rm_word_list)\n",
    "\n",
    "# sort sorted_common_words_old_test in decending order\n",
    "sorted_common_words_new_test = sorted(sorted_common_words_new_test.items(), key=lambda (k,v): v, reverse = True)\n",
    "print sorted_common_words_new_test"
   ]
  }
 ],
 "metadata": {
  "kernelspec": {
   "display_name": "Python 2",
   "language": "python",
   "name": "python2"
  },
  "language_info": {
   "codemirror_mode": {
    "name": "ipython",
    "version": 2
   },
   "file_extension": ".py",
   "mimetype": "text/x-python",
   "name": "python",
   "nbconvert_exporter": "python",
   "pygments_lexer": "ipython2",
   "version": "2.7.10"
  }
 },
 "nbformat": 4,
 "nbformat_minor": 0
}
