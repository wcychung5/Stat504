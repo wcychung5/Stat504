{
 "cells": [
  {
   "cell_type": "markdown",
   "metadata": {},
   "source": [
    "<h2> Stat 504 HW 2 </h2> <br>\n",
    "<b> University of Idhao </b><br>\n",
    "<b> Fall 2015 </b> <br>\n",
    "<b> Chung Yan Wan </b><br>\n",
    "<b> 10/28/2015 </b><br><br>\n",
    "This assignment uses a small subset of the data from Kaggle's Yelp Business Rating Prediction competition. The data set is at https://github.com/justmarkham/DAT7/tree/master/data/yelp.csv\n",
    "Description of the data: Each observation in this dataset is a review of a particular business by a particular user. The \"stars\" column is the number of stars (1 through 5) assigned by the reviewer to the business. (Higher stars is better.) The \"cool\" column is the number of \"cool\" votes this particular review received from other Yelp users. There is no limit to how many \"cool\" votes a review can receive. The \"useful\" and \"funny\" columns are similar to the \"cool\" column.<br><br>\n",
    "Our tasks are to create a subset of the data set which contains only the 5-stars and 1-star reviews, split the data into 2 parts, <i>train</i> and <i>test</i>, fit the <i>train</i> data set to three models, Logistic Regression, k-Nearest Neighbors, and Classification Tree, use the models to predict the star rating in the <i>test</i> data set, and finally, compare the three models in terms of their performance.  \n"
   ]
  },
  {
   "cell_type": "markdown",
   "metadata": {},
   "source": [
    "<h4> 1. Read yelp.csv into a DataFrame </h4>"
   ]
  },
  {
   "cell_type": "code",
   "execution_count": 49,
   "metadata": {
    "collapsed": false
   },
   "outputs": [],
   "source": [
    "import pandas as pd\n",
    "yelp = pd.read_csv('yelp.csv')"
   ]
  },
  {
   "cell_type": "markdown",
   "metadata": {
    "collapsed": true
   },
   "source": [
    "<h4> 2. Create a new DataFrame that only contains the 5-star and 1-star reviews </h4>"
   ]
  },
  {
   "cell_type": "code",
   "execution_count": 50,
   "metadata": {
    "collapsed": true
   },
   "outputs": [],
   "source": [
    "yelp_best_worst = yelp[(yelp.stars==5) | (yelp.stars==1)]"
   ]
  },
  {
   "cell_type": "markdown",
   "metadata": {},
   "source": [
    "<h4> 3. Split the new DataFrame into training and testing sets, using the review text as the feature and the star rating as the response variable. </h4>"
   ]
  },
  {
   "cell_type": "code",
   "execution_count": 51,
   "metadata": {
    "collapsed": true
   },
   "outputs": [],
   "source": [
    "from sklearn.cross_validation import train_test_split\n",
    "X_train, X_test, y_train, y_test = train_test_split(yelp_best_worst.text, yelp_best_worst.stars, random_state=1234567)"
   ]
  },
  {
   "cell_type": "markdown",
   "metadata": {},
   "source": [
    "<h4> 4. Use CountVectorizer to create document-term matrices from X_train and X_test. </h4>"
   ]
  },
  {
   "cell_type": "code",
   "execution_count": 52,
   "metadata": {
    "collapsed": false
   },
   "outputs": [],
   "source": [
    "from sklearn.feature_extraction.text import CountVectorizer\n",
    "vect = CountVectorizer()\n",
    "train_dtm = vect.fit_transform(X_train)\n",
    "test_dtm = vect.transform(X_test)"
   ]
  },
  {
   "cell_type": "markdown",
   "metadata": {},
   "source": [
    "<h4> 5.1 Use Logistic Regression to predict the star rating </h4>"
   ]
  },
  {
   "cell_type": "code",
   "execution_count": 53,
   "metadata": {
    "collapsed": false,
    "scrolled": true
   },
   "outputs": [
    {
     "data": {
      "text/plain": [
       "array([1, 5, 5, ..., 5, 5, 5])"
      ]
     },
     "execution_count": 53,
     "metadata": {},
     "output_type": "execute_result"
    }
   ],
   "source": [
    "from sklearn.linear_model import LogisticRegression\n",
    "logreg = LogisticRegression(C=1e9)\n",
    "logreg.fit(train_dtm, y_train)\n",
    "logreg.predict(test_dtm)"
   ]
  },
  {
   "cell_type": "markdown",
   "metadata": {},
   "source": [
    "<h4> 5.2 Use k-Nearest Neighbors to predict the star rating </h4>"
   ]
  },
  {
   "cell_type": "code",
   "execution_count": 54,
   "metadata": {
    "collapsed": false
   },
   "outputs": [
    {
     "data": {
      "text/plain": [
       "array([5, 5, 5, ..., 5, 5, 5])"
      ]
     },
     "execution_count": 54,
     "metadata": {},
     "output_type": "execute_result"
    }
   ],
   "source": [
    "from sklearn.neighbors import KNeighborsClassifier\n",
    "# instantiate the model (using the value K=11)\n",
    "knn = KNeighborsClassifier(n_neighbors=11)\n",
    "knn.fit(train_dtm,y_train)\n",
    "knn.predict(test_dtm)"
   ]
  },
  {
   "cell_type": "markdown",
   "metadata": {},
   "source": [
    "<h4> 5.3 Use Classification Tree to predict the star rating </h4>"
   ]
  },
  {
   "cell_type": "code",
   "execution_count": 55,
   "metadata": {
    "collapsed": false,
    "scrolled": true
   },
   "outputs": [
    {
     "data": {
      "text/plain": [
       "array([5, 5, 5, ..., 5, 5, 5])"
      ]
     },
     "execution_count": 55,
     "metadata": {},
     "output_type": "execute_result"
    }
   ],
   "source": [
    "from sklearn.tree import DecisionTreeClassifier\n",
    "treeclf = DecisionTreeClassifier()\n",
    "treeclf.fit(train_dtm,y_train)\n",
    "treeclf.predict(test_dtm)"
   ]
  },
  {
   "cell_type": "markdown",
   "metadata": {},
   "source": [
    "<h4> 5.4 Calculate the AUC for the 3 models </h4>"
   ]
  },
  {
   "cell_type": "code",
   "execution_count": 56,
   "metadata": {
    "collapsed": false
   },
   "outputs": [
    {
     "name": "stdout",
     "output_type": "stream",
     "text": [
      "Logistic Regression:  0.956798686961\n",
      "k-Nearest Neighbors:  0.735536059712\n",
      "Classification Tree:  0.736972195627\n"
     ]
    }
   ],
   "source": [
    "import numpy as np\n",
    "from sklearn import metrics\n",
    "lr_y_pred_prob = logreg.predict_proba(test_dtm)[:, 1]\n",
    "y_test_binary = np.where(y_test==5, 1, 0)\n",
    "print 'Logistic Regression: ', metrics.roc_auc_score(y_test_binary, lr_y_pred_prob)\n",
    "knn_y_pred_prob = knn.predict_proba(test_dtm)[:, 1]\n",
    "print 'k-Nearest Neighbors: ', metrics.roc_auc_score(y_test_binary, knn_y_pred_prob)\n",
    "ct_y_pred_prob = treeclf.predict_proba(test_dtm)[:, 1]\n",
    "print 'Classification Tree: ', metrics.roc_auc_score(y_test_binary, ct_y_pred_prob)"
   ]
  },
  {
   "cell_type": "markdown",
   "metadata": {},
   "source": [
    "<h4> 5.5 Plot and compare the ROC Curves for the 3 models </h4>"
   ]
  },
  {
   "cell_type": "code",
   "execution_count": 57,
   "metadata": {
    "collapsed": false
   },
   "outputs": [
    {
     "data": {
      "text/plain": [
       "<matplotlib.legend.Legend at 0x1023eb4d0>"
      ]
     },
     "execution_count": 57,
     "metadata": {},
     "output_type": "execute_result"
    },
    {
     "data": {
      "image/png": "[encoded data removed]",
      "text/plain": [
       "<matplotlib.figure.Figure at 0x102407490>"
      ]
     },
     "metadata": {},
     "output_type": "display_data"
    }
   ],
   "source": [
    "%matplotlib inline\n",
    "import matplotlib.pyplot as plt\n",
    "lr_fpr, lr_tpr, lr_thresholds = metrics.roc_curve(y_test_binary, lr_y_pred_prob)\n",
    "knn_fpr, knn_tpr, knn_thresholds = metrics.roc_curve(y_test_binary, knn_y_pred_prob)\n",
    "ct_fpr, ct_tpr, ct_thresholds = metrics.roc_curve(y_test_binary, ct_y_pred_prob)\n",
    "plt.plot(lr_fpr, lr_tpr, 'r', label ='Logistic Regression')\n",
    "plt.plot(knn_fpr, knn_tpr, 'b', label ='k-Nearest Neighbors')\n",
    "plt.plot(ct_fpr, ct_tpr, 'g', label = 'Classification Tree')\n",
    "plt.xlim([0.0, 1.0])\n",
    "plt.ylim([0.0, 1.0])\n",
    "plt.xlabel('False Positive Rate (1 - Specificity)')\n",
    "plt.ylabel('True Positive Rate (Sensitivity)')\n",
    "plt.legend(loc='lower right')"
   ]
  },
  {
   "cell_type": "markdown",
   "metadata": {
    "collapsed": true
   },
   "source": [
    "<h4> 6.1 Add vote types (cool/useful/funny) as an additional features into the modeling process and refit the three models to predict the star rating. </h4>"
   ]
  },
  {
   "cell_type": "code",
   "execution_count": 58,
   "metadata": {
    "collapsed": false
   },
   "outputs": [],
   "source": [
    "from sklearn.cross_validation import train_test_split\n",
    "feature_columns = yelp_best_worst[['cool','useful','funny']]\n",
    "X_train, X_test, y_train, y_test = train_test_split(feature_columns, yelp_best_worst.stars, random_state=1234567)"
   ]
  },
  {
   "cell_type": "markdown",
   "metadata": {},
   "source": [
    "<h4> 6.2 Use Logistic Regression to predict the star rating </h4>"
   ]
  },
  {
   "cell_type": "code",
   "execution_count": 59,
   "metadata": {
    "collapsed": false
   },
   "outputs": [
    {
     "data": {
      "text/plain": [
       "array([1, 5, 5, ..., 5, 5, 5])"
      ]
     },
     "execution_count": 59,
     "metadata": {},
     "output_type": "execute_result"
    }
   ],
   "source": [
    "from sklearn.linear_model import LogisticRegression\n",
    "logreg = LogisticRegression(C=1e9)\n",
    "logreg.fit(X_train, y_train)\n",
    "logreg.predict(X_test)"
   ]
  },
  {
   "cell_type": "markdown",
   "metadata": {},
   "source": [
    "<h4> 6.3 Use k-Nearest Neighbors to predict the star rating </h4>"
   ]
  },
  {
   "cell_type": "code",
   "execution_count": 60,
   "metadata": {
    "collapsed": false
   },
   "outputs": [
    {
     "data": {
      "text/plain": [
       "array([1, 5, 5, ..., 5, 5, 5])"
      ]
     },
     "execution_count": 60,
     "metadata": {},
     "output_type": "execute_result"
    }
   ],
   "source": [
    "from sklearn.neighbors import KNeighborsClassifier\n",
    "# instantiate the model (using the value K=11)\n",
    "knn = KNeighborsClassifier(n_neighbors=11)\n",
    "knn.fit(X_train,y_train)\n",
    "knn.predict(X_test)"
   ]
  },
  {
   "cell_type": "markdown",
   "metadata": {},
   "source": [
    "<h4> 6.4 Use Classification Tree to predict the star rating </h4>"
   ]
  },
  {
   "cell_type": "code",
   "execution_count": 61,
   "metadata": {
    "collapsed": false
   },
   "outputs": [
    {
     "data": {
      "text/plain": [
       "array([5, 5, 5, ..., 5, 5, 5])"
      ]
     },
     "execution_count": 61,
     "metadata": {},
     "output_type": "execute_result"
    }
   ],
   "source": [
    "from sklearn.tree import DecisionTreeClassifier\n",
    "treeclf = DecisionTreeClassifier()\n",
    "treeclf.fit(X_train,y_train)\n",
    "treeclf.predict(X_test)"
   ]
  },
  {
   "cell_type": "markdown",
   "metadata": {},
   "source": [
    "<h4> 6.5 Calculate the AUC for the 3 models </h4>"
   ]
  },
  {
   "cell_type": "code",
   "execution_count": 62,
   "metadata": {
    "collapsed": false
   },
   "outputs": [
    {
     "name": "stdout",
     "output_type": "stream",
     "text": [
      "Logistic Regression:  0.674433524167\n",
      "k-Nearest Neighbors:  0.651455349525\n",
      "Classification Tree:  0.620387919524\n"
     ]
    }
   ],
   "source": [
    "import numpy as np\n",
    "from sklearn import metrics\n",
    "lr_y_pred_prob = logreg.predict_proba(X_test)[:, 1]\n",
    "y_test_binary = np.where(y_test==5, 1, 0)\n",
    "print 'Logistic Regression: ', metrics.roc_auc_score(y_test_binary, lr_y_pred_prob)\n",
    "knn_y_pred_prob = knn.predict_proba(X_test)[:, 1]\n",
    "print 'k-Nearest Neighbors: ', metrics.roc_auc_score(y_test_binary, knn_y_pred_prob)\n",
    "ct_y_pred_prob = treeclf.predict_proba(X_test)[:, 1]\n",
    "print 'Classification Tree: ', metrics.roc_auc_score(y_test_binary, ct_y_pred_prob)"
   ]
  },
  {
   "cell_type": "markdown",
   "metadata": {},
   "source": [
    "<h4> 6.6 Plot and compare the ROC Curves for the 3 models </h4>"
   ]
  },
  {
   "cell_type": "code",
   "execution_count": 63,
   "metadata": {
    "collapsed": false,
    "scrolled": true
   },
   "outputs": [
    {
     "data": {
      "text/plain": [
       "<matplotlib.legend.Legend at 0x1023c3fd0>"
      ]
     },
     "execution_count": 63,
     "metadata": {},
     "output_type": "execute_result"
    },
    {
     "data": {
      "image/png": "[encoded data removed]",
      "text/plain": [
       "<matplotlib.figure.Figure at 0x1023e0f10>"
      ]
     },
     "metadata": {},
     "output_type": "display_data"
    }
   ],
   "source": [
    "%matplotlib inline\n",
    "import matplotlib.pyplot as plt\n",
    "lr_fpr, lr_tpr, lr_thresholds = metrics.roc_curve(y_test_binary, lr_y_pred_prob)\n",
    "knn_fpr, knn_tpr, knn_thresholds = metrics.roc_curve(y_test_binary, knn_y_pred_prob)\n",
    "ct_fpr, ct_tpr, ct_thresholds = metrics.roc_curve(y_test_binary, ct_y_pred_prob)\n",
    "plt.plot(lr_fpr, lr_tpr, 'r', label ='Logistic Regression')\n",
    "plt.plot(knn_fpr, knn_tpr, 'b', label ='k-Nearest Neighbors')\n",
    "plt.plot(ct_fpr, ct_tpr, 'g', label = 'Classification Tree')\n",
    "plt.xlim([0.0, 1.0])\n",
    "plt.ylim([0.0, 1.0])\n",
    "plt.xlabel('False Positive Rate (1 - Specificity)')\n",
    "plt.ylabel('True Positive Rate (Sensitivity)')\n",
    "plt.legend(loc='lower right')"
   ]
  }
 ],
 "metadata": {
  "kernelspec": {
   "display_name": "Python 2",
   "language": "python",
   "name": "python2"
  },
  "language_info": {
   "codemirror_mode": {
    "name": "ipython",
    "version": 2
   },
   "file_extension": ".py",
   "mimetype": "text/x-python",
   "name": "python",
   "nbconvert_exporter": "python",
   "pygments_lexer": "ipython2",
   "version": "2.7.10"
  }
 },
 "nbformat": 4,
 "nbformat_minor": 0
}
