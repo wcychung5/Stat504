{
 "cells": [
  {
   "cell_type": "markdown",
   "metadata": {},
   "source": [
    "<h1> Stat504 Project: Personal Financial distress in the next two years </h1><br>\n",
    "<b> University Of Idaho<br>\n",
    "Chung Yan Wan <br>\n",
    "12/13/2015</b>"
   ]
  },
  {
   "cell_type": "markdown",
   "metadata": {},
   "source": [
    "<h2>Abstract</h2><br>\n",
    "The goal of this project is to find the variables and model that would best predict whether an individual would or would not experience financial distress in the following two years, given his or her personal and financial information. Building the best model possible is important to banks and credit unions to predict their future returns from financing. It will also be useful for them on future planning for monetary resource allocations. The first part of this project was to evaluate models without feature selection. 10-fold cross-validation would be used for parameter tuning for some of the models and model evaluations. The second part of this project was to find the importance of each feature using the best performing model, and to conduct model evaluations with feature selection if necessary. A total of eight models were used in this project and they were listed as follows, <br>\n",
    "1. Gaussian Naive Bayes<br>\n",
    "2. Logistic Regression <br>\n",
    "3. Decision Tree <br>\n",
    "4. (a) Ensemble Bagging (Decision Tree as Base Estimator)<br>\n",
    "(b) Ensemble Bagging (GNB as Base Estimator)<br>\n",
    "5. Ensemble Random Forest<br>\n",
    "6. Knn <br>\n",
    "7. SVM Gassian Kernel <br>\n",
    "8. Ensemble Voting Classifier"
   ]
  },
  {
   "cell_type": "markdown",
   "metadata": {},
   "source": [
    "It turned out that Random Forest was the best performing model yielding the highest accuracy and AUC, and results showed that no feature selection was necessary for this dataset.  "
   ]
  },
  {
   "cell_type": "markdown",
   "metadata": {},
   "source": [
    "<h2>Data Source and data description</h2><br>\n",
    "This dataset is originally posted on https://www.kaggle.com/c/GiveMeSomeCredit/data in 2011. It was collected from 150,000 borrowers who borrowed loans from banks in previous years. There are 11 variables and 150,000 observations in this dataset. The variables are defined as follows, "
   ]
  },
  {
   "cell_type": "markdown",
   "metadata": {},
   "source": [
    "<b>Response Variable:</b>\n",
    "1. SeriousDlqin2yrs - Person experienced 90 days past due delinquency or worse (0 or 1) "
   ]
  },
  {
   "cell_type": "markdown",
   "metadata": {},
   "source": [
    "<b>Independent Variables:</b>\n",
    "1. RevolvingUtilizationOfUnsecuredLines - Total balance on credit cards and personal lines of credit except real estate and no installment debt like car loans divided by the sum of credit limits (integer) <br>\n",
    "3. Age - Age of borrower in years (integer) <br>\n",
    "4. NumberOfTime30-59DaysPastDueNotWorse - Number of times borrower has been 30-59 days past due but no worse in the last 2 years (integer)<br>\n",
    "5. DebtRatio - Monthly debt payments, alimony,living costs divided by monthy gross income (percentage)<br>\n",
    "6. MonthlyIncome - Monthly income (real) <br>\n",
    "7. NumberOfOpenCreditLinesAndLoans - Number of Open loans (installment like car loan or mortgage) and Lines of credit (e.g. credit cards) (integer) <br>\n",
    "8. NumberOfTimes90DaysLate - Number of times borrower has been 90 days or more past due (integer) <br>\n",
    "9. NumberRealEstateLoansOrLines - Number of mortgage and real estate loans including home equity lines of credit (integer)<br>\n",
    "10. NumberOfTime60-89DaysPastDueNotWorse - Number of times borrower has been 60-89 days past due but no worse in the last 2 years (integer) <br>\n",
    "11. NumberOfDependents - Number of dependents in family excluding themselves (spouse, children etc.) (integer)"
   ]
  },
  {
   "cell_type": "code",
   "execution_count": 2,
   "metadata": {
    "collapsed": false
   },
   "outputs": [],
   "source": [
    "import pandas as pd\n",
    "import numpy as np\n",
    "from sklearn.feature_selection import SelectKBest\n",
    "from sklearn.feature_selection import chi2\n",
    "from sklearn.feature_selection import f_classif\n",
    "from sklearn.cross_validation import train_test_split\n",
    "from sklearn.naive_bayes import GaussianNB\n",
    "from sklearn.cross_validation import cross_val_score\n",
    "from sklearn.neighbors import KNeighborsClassifier\n",
    "from sklearn import metrics\n",
    "import time\n",
    "import matplotlib.pyplot as plt\n",
    "from sklearn.linear_model import LogisticRegression\n",
    "from sklearn import svm\n",
    "from sklearn.tree import DecisionTreeClassifier\n",
    "import matplotlib.pyplot as plt\n",
    "from sklearn.ensemble import BaggingClassifier\n",
    "from sklearn.ensemble import RandomForestClassifier\n",
    "from sklearn.cross_validation import KFold\n",
    "import json\n",
    "from pprint import pprint\n",
    "import StringIO\n",
    "from IPython.display import Image\n",
    "from sklearn.feature_extraction.text import CountVectorizer\n",
    "#this module cannot be imported on a Mac, so model 8 Voting Classifier can only be reproduced on Windows or Linux\n",
    "from sklearn.ensemble import VotingClassifier  \n",
    "import urllib\n",
    "from sklearn.naive_bayes import BernoulliNB\n",
    "import matplotlib.pyplot as plt\n",
    "from astropy.table import Table, Column\n",
    "from sklearn.feature_selection import VarianceThreshold"
   ]
  },
  {
   "cell_type": "markdown",
   "metadata": {},
   "source": [
    "<h3> Import the data </h3>"
   ]
  },
  {
   "cell_type": "code",
   "execution_count": 2,
   "metadata": {
    "collapsed": false,
    "scrolled": true
   },
   "outputs": [
    {
     "data": {
      "text/html": [
       "<div>\n",
       "<table border=\"1\" class=\"dataframe\">\n",
       "  <thead>\n",
       "    <tr style=\"text-align: right;\">\n",
       "      <th></th>\n",
       "      <th></th>\n",
       "      <th>SeriousDlqin2yrs</th>\n",
       "      <th>RevolvingUtilizationOfUnsecuredLines</th>\n",
       "      <th>age</th>\n",
       "      <th>NumberOfTime30-59DaysPastDueNotWorse</th>\n",
       "      <th>DebtRatio</th>\n",
       "      <th>MonthlyIncome</th>\n",
       "      <th>NumberOfOpenCreditLinesAndLoans</th>\n",
       "      <th>NumberOfTimes90DaysLate</th>\n",
       "      <th>NumberRealEstateLoansOrLines</th>\n",
       "      <th>NumberOfTime60-89DaysPastDueNotWorse</th>\n",
       "      <th>NumberOfDependents</th>\n",
       "    </tr>\n",
       "  </thead>\n",
       "  <tbody>\n",
       "    <tr>\n",
       "      <th>0</th>\n",
       "      <td>1</td>\n",
       "      <td>1</td>\n",
       "      <td>0.766127</td>\n",
       "      <td>45</td>\n",
       "      <td>2</td>\n",
       "      <td>0.802982</td>\n",
       "      <td>9120</td>\n",
       "      <td>13</td>\n",
       "      <td>0</td>\n",
       "      <td>6</td>\n",
       "      <td>0</td>\n",
       "      <td>2</td>\n",
       "    </tr>\n",
       "    <tr>\n",
       "      <th>1</th>\n",
       "      <td>2</td>\n",
       "      <td>0</td>\n",
       "      <td>0.957151</td>\n",
       "      <td>40</td>\n",
       "      <td>0</td>\n",
       "      <td>0.121876</td>\n",
       "      <td>2600</td>\n",
       "      <td>4</td>\n",
       "      <td>0</td>\n",
       "      <td>0</td>\n",
       "      <td>0</td>\n",
       "      <td>1</td>\n",
       "    </tr>\n",
       "    <tr>\n",
       "      <th>2</th>\n",
       "      <td>3</td>\n",
       "      <td>0</td>\n",
       "      <td>0.658180</td>\n",
       "      <td>38</td>\n",
       "      <td>1</td>\n",
       "      <td>0.085113</td>\n",
       "      <td>3042</td>\n",
       "      <td>2</td>\n",
       "      <td>1</td>\n",
       "      <td>0</td>\n",
       "      <td>0</td>\n",
       "      <td>0</td>\n",
       "    </tr>\n",
       "    <tr>\n",
       "      <th>3</th>\n",
       "      <td>4</td>\n",
       "      <td>0</td>\n",
       "      <td>0.233810</td>\n",
       "      <td>30</td>\n",
       "      <td>0</td>\n",
       "      <td>0.036050</td>\n",
       "      <td>3300</td>\n",
       "      <td>5</td>\n",
       "      <td>0</td>\n",
       "      <td>0</td>\n",
       "      <td>0</td>\n",
       "      <td>0</td>\n",
       "    </tr>\n",
       "    <tr>\n",
       "      <th>4</th>\n",
       "      <td>5</td>\n",
       "      <td>0</td>\n",
       "      <td>0.907239</td>\n",
       "      <td>49</td>\n",
       "      <td>1</td>\n",
       "      <td>0.024926</td>\n",
       "      <td>63588</td>\n",
       "      <td>7</td>\n",
       "      <td>0</td>\n",
       "      <td>1</td>\n",
       "      <td>0</td>\n",
       "      <td>0</td>\n",
       "    </tr>\n",
       "  </tbody>\n",
       "</table>\n",
       "</div>"
      ],
      "text/plain": [
       "      SeriousDlqin2yrs  RevolvingUtilizationOfUnsecuredLines  age  \\\n",
       "0  1                 1                              0.766127   45   \n",
       "1  2                 0                              0.957151   40   \n",
       "2  3                 0                              0.658180   38   \n",
       "3  4                 0                              0.233810   30   \n",
       "4  5                 0                              0.907239   49   \n",
       "\n",
       "   NumberOfTime30-59DaysPastDueNotWorse  DebtRatio  MonthlyIncome  \\\n",
       "0                                     2   0.802982           9120   \n",
       "1                                     0   0.121876           2600   \n",
       "2                                     1   0.085113           3042   \n",
       "3                                     0   0.036050           3300   \n",
       "4                                     1   0.024926          63588   \n",
       "\n",
       "   NumberOfOpenCreditLinesAndLoans  NumberOfTimes90DaysLate  \\\n",
       "0                               13                        0   \n",
       "1                                4                        0   \n",
       "2                                2                        1   \n",
       "3                                5                        0   \n",
       "4                                7                        0   \n",
       "\n",
       "   NumberRealEstateLoansOrLines  NumberOfTime60-89DaysPastDueNotWorse  \\\n",
       "0                             6                                     0   \n",
       "1                             0                                     0   \n",
       "2                             0                                     0   \n",
       "3                             0                                     0   \n",
       "4                             1                                     0   \n",
       "\n",
       "   NumberOfDependents  \n",
       "0                   2  \n",
       "1                   1  \n",
       "2                   0  \n",
       "3                   0  \n",
       "4                   0  "
      ]
     },
     "execution_count": 2,
     "metadata": {},
     "output_type": "execute_result"
    }
   ],
   "source": [
    "data = pd.read_csv('C:\\Users\\Joanne Wan\\Desktop\\project\\finance_data.csv')\n",
    "data.head()"
   ]
  },
  {
   "cell_type": "markdown",
   "metadata": {},
   "source": [
    "<h3>Information about the data (some values are missing)</h3>"
   ]
  },
  {
   "cell_type": "code",
   "execution_count": 3,
   "metadata": {
    "collapsed": false
   },
   "outputs": [
    {
     "name": "stdout",
     "output_type": "stream",
     "text": [
      "<class 'pandas.core.frame.DataFrame'>\n",
      "<class 'pandas.core.frame.DataFrame'>\n",
      "Int64Index: 150000 entries, 0 to 149999\n",
      "Data columns (total 12 columns):\n",
      "                                        150000 non-null int64\n",
      "SeriousDlqin2yrs                        150000 non-null int64\n",
      "RevolvingUtilizationOfUnsecuredLines    150000 non-null float64\n",
      "age                                     150000 non-null int64\n",
      "NumberOfTime30-59DaysPastDueNotWorse    150000 non-null int64\n",
      "DebtRatio                               150000 non-null float64\n",
      "MonthlyIncome                           120269 non-null float64\n",
      "NumberOfOpenCreditLinesAndLoans         150000 non-null int64\n",
      "NumberOfTimes90DaysLate                 150000 non-null int64\n",
      "NumberRealEstateLoansOrLines            150000 non-null int64\n",
      "NumberOfTime60-89DaysPastDueNotWorse    150000 non-null int64\n",
      "NumberOfDependents                      146076 non-null float64\n",
      "dtypes: float64(4), int64(8)\n",
      "memory usage: 14.9 MB\n"
     ]
    }
   ],
   "source": [
    "print type(data)\n",
    "data.info()"
   ]
  },
  {
   "cell_type": "code",
   "execution_count": 4,
   "metadata": {
    "collapsed": false
   },
   "outputs": [
    {
     "name": "stdout",
     "output_type": "stream",
     "text": [
      "                                       count          mean           std  min  \\\n",
      "                                      150000  75000.500000  43301.414527    1   \n",
      "SeriousDlqin2yrs                      150000      0.066840      0.249746    0   \n",
      "RevolvingUtilizationOfUnsecuredLines  150000      6.048438    249.755371    0   \n",
      "age                                   150000     52.295207     14.771866    0   \n",
      "NumberOfTime30-59DaysPastDueNotWorse  150000      0.421033      4.192781    0   \n",
      "DebtRatio                             150000    353.005076   2037.818523    0   \n",
      "MonthlyIncome                         120269   6670.221237  14384.674215    0   \n",
      "NumberOfOpenCreditLinesAndLoans       150000      8.452760      5.145951    0   \n",
      "NumberOfTimes90DaysLate               150000      0.265973      4.169304    0   \n",
      "NumberRealEstateLoansOrLines          150000      1.018240      1.129771    0   \n",
      "NumberOfTime60-89DaysPastDueNotWorse  150000      0.240387      4.155179    0   \n",
      "NumberOfDependents                    146076      0.757222      1.115086    0   \n",
      "\n",
      "                                               25%           50%  \\\n",
      "                                      37500.750000  75000.500000   \n",
      "SeriousDlqin2yrs                          0.000000      0.000000   \n",
      "RevolvingUtilizationOfUnsecuredLines      0.029867      0.154181   \n",
      "age                                      41.000000     52.000000   \n",
      "NumberOfTime30-59DaysPastDueNotWorse      0.000000      0.000000   \n",
      "DebtRatio                                 0.175074      0.366508   \n",
      "MonthlyIncome                          3400.000000   5400.000000   \n",
      "NumberOfOpenCreditLinesAndLoans           5.000000      8.000000   \n",
      "NumberOfTimes90DaysLate                   0.000000      0.000000   \n",
      "NumberRealEstateLoansOrLines              0.000000      1.000000   \n",
      "NumberOfTime60-89DaysPastDueNotWorse      0.000000      0.000000   \n",
      "NumberOfDependents                        0.000000      0.000000   \n",
      "\n",
      "                                                75%      max  \n",
      "                                      112500.250000   150000  \n",
      "SeriousDlqin2yrs                           0.000000        1  \n",
      "RevolvingUtilizationOfUnsecuredLines       0.559046    50708  \n",
      "age                                       63.000000      109  \n",
      "NumberOfTime30-59DaysPastDueNotWorse       0.000000       98  \n",
      "DebtRatio                                  0.868254   329664  \n",
      "MonthlyIncome                           8249.000000  3008750  \n",
      "NumberOfOpenCreditLinesAndLoans           11.000000       58  \n",
      "NumberOfTimes90DaysLate                    0.000000       98  \n",
      "NumberRealEstateLoansOrLines               2.000000       54  \n",
      "NumberOfTime60-89DaysPastDueNotWorse       0.000000       98  \n",
      "NumberOfDependents                         1.000000       20  \n"
     ]
    }
   ],
   "source": [
    "print data.describe().transpose()"
   ]
  },
  {
   "cell_type": "code",
   "execution_count": 5,
   "metadata": {
    "collapsed": false
   },
   "outputs": [
    {
     "data": {
      "text/plain": [
       "(120269, 11)"
      ]
     },
     "execution_count": 5,
     "metadata": {},
     "output_type": "execute_result"
    }
   ],
   "source": [
    "#drop any row that has missing values\n",
    "data = data.dropna()\n",
    "#drop the index column\n",
    "data = data.drop(data.columns[0], axis=1)\n",
    "data.shape"
   ]
  },
  {
   "cell_type": "markdown",
   "metadata": {},
   "source": [
    "<h3>Graphical visualizations of the data </h3>"
   ]
  },
  {
   "cell_type": "code",
   "execution_count": 6,
   "metadata": {
    "collapsed": false
   },
   "outputs": [
    {
     "data": {
      "text/plain": [
       "<matplotlib.text.Text at 0x200cd278>"
      ]
     },
     "execution_count": 6,
     "metadata": {},
     "output_type": "execute_result"
    },
    {
     "data": {
      "image/png": "[encoded data removed]",
      "text/plain": [
       "<matplotlib.figure.Figure at 0x2009a2e8>"
      ]
     },
     "metadata": {},
     "output_type": "display_data"
    }
   ],
   "source": [
    "%matplotlib inline\n",
    "plt.hist(data[data['SeriousDlqin2yrs'] ==1]['age'])\n",
    "plt.title(\"Age of People who experienced serious financial destress\")\n",
    "plt.xlabel(\"Age\")\n",
    "plt.ylabel(\"Frequency\")"
   ]
  },
  {
   "cell_type": "code",
   "execution_count": 7,
   "metadata": {
    "collapsed": false
   },
   "outputs": [
    {
     "data": {
      "text/plain": [
       "<matplotlib.text.Text at 0x20188f28>"
      ]
     },
     "execution_count": 7,
     "metadata": {},
     "output_type": "execute_result"
    },
    {
     "data": {
      "image/png": "[encoded data removed]",
      "text/plain": [
       "<matplotlib.figure.Figure at 0x2268a0b8>"
      ]
     },
     "metadata": {},
     "output_type": "display_data"
    }
   ],
   "source": [
    "%matplotlib inline\n",
    "plt.hist(data[data['SeriousDlqin2yrs'] ==1]['NumberOfOpenCreditLinesAndLoans'])\n",
    "plt.title(\"Number of Open loans of People who experienced serious financial destress\")\n",
    "plt.xlabel(\"Number of Open loans\")\n",
    "plt.ylabel(\"Frequency\")"
   ]
  },
  {
   "cell_type": "code",
   "execution_count": 8,
   "metadata": {
    "collapsed": false
   },
   "outputs": [
    {
     "data": {
      "text/plain": [
       "<matplotlib.text.Text at 0x21ed5748>"
      ]
     },
     "execution_count": 8,
     "metadata": {},
     "output_type": "execute_result"
    },
    {
     "data": {
      "image/png": "[encoded data removed]",
      "text/plain": [
       "<matplotlib.figure.Figure at 0x2268a0f0>"
      ]
     },
     "metadata": {},
     "output_type": "display_data"
    }
   ],
   "source": [
    "%matplotlib inline\n",
    "plt.hist(data[data['SeriousDlqin2yrs'] ==1]['NumberOfDependents'])\n",
    "plt.title(\"Number Of Dependents of People who experienced serious financial destress\")\n",
    "plt.xlabel(\"Number Of Dependents\")\n",
    "plt.ylabel(\"Frequency\")\n",
    "#plt.xlim([0.0, 3000.0])"
   ]
  },
  {
   "cell_type": "markdown",
   "metadata": {},
   "source": [
    "<h3> Set up subsets X and y, and split them into train and test</h3>"
   ]
  },
  {
   "cell_type": "code",
   "execution_count": 9,
   "metadata": {
    "collapsed": false
   },
   "outputs": [],
   "source": [
    "feature_cols = ['RevolvingUtilizationOfUnsecuredLines', 'age', 'NumberOfTime30-59DaysPastDueNotWorse', \n",
    "                'DebtRatio', 'MonthlyIncome', 'NumberOfOpenCreditLinesAndLoans','NumberOfTimes90DaysLate',\n",
    "                'NumberRealEstateLoansOrLines', 'NumberOfTime60-89DaysPastDueNotWorse', 'NumberOfDependents']\n",
    "X = data[feature_cols]\n",
    "y = data['SeriousDlqin2yrs']\n",
    "X_train, X_test, y_train, y_test = train_test_split(X, y, random_state=1234567)"
   ]
  },
  {
   "cell_type": "markdown",
   "metadata": {},
   "source": [
    "<h3>Null Model</h3>"
   ]
  },
  {
   "cell_type": "code",
   "execution_count": 49,
   "metadata": {
    "collapsed": false
   },
   "outputs": [
    {
     "name": "stdout",
     "output_type": "stream",
     "text": [
      "Number of people who have financial distress: 8357\n",
      "Null model accuracy: 0.930514\n",
      "Null model AUC: 0.500000\n"
     ]
    }
   ],
   "source": [
    "#null model and its accuracy\n",
    "distress_y = np.count_nonzero(y)\n",
    "print 'Number of people who have financial distress: %d' %distress_y\n",
    "# total observation is 120269, and distress_y = 8357, so the null model is all zeros. \n",
    "null_ypred = np.ones(120269)\n",
    "null_score = 1 - 8357/120269.0\n",
    "print ('Null model accuracy: %f' %null_score)\n",
    "null_auc = metrics.roc_auc_score(y, null_ypred)\n",
    "print ('Null model AUC: %f' %null_auc)"
   ]
  },
  {
   "cell_type": "markdown",
   "metadata": {},
   "source": [
    "<h2>Part 1: Model Evaluations without Feature Selection </h2>\n",
    "<h3>Model 1: Gaussian Naive Bayes</h3><br>\n",
    "<b> Average accuracy and AUC </b>"
   ]
  },
  {
   "cell_type": "code",
   "execution_count": 50,
   "metadata": {
    "collapsed": false
   },
   "outputs": [
    {
     "name": "stdout",
     "output_type": "stream",
     "text": [
      "Gaussian NB average accracy: 0.929466\n",
      "Gaussian NB average AUC: 0.717931\n",
      "Computational time (in second): 2.899693\n"
     ]
    }
   ],
   "source": [
    "# 10-fold cross-validation for GaussianNB \n",
    "m1_start = time.time()\n",
    "gnb = GaussianNB()\n",
    "m1_scores = cross_val_score(gnb, X, y, cv=10, scoring='accuracy')\n",
    "# use average accuracy as an estimate of out-of-sample accuracy\n",
    "print (\"Gaussian NB average accracy: %f\" %m1_scores.mean())\n",
    "m1_auc = cross_val_score(gnb, X, y, cv=10, scoring='roc_auc')\n",
    "print (\"Gaussian NB average AUC: %f\" %m1_auc.mean())\n",
    "m1_end = time.time()\n",
    "m1_time = m1_end - m1_start \n",
    "print (\"Computation time (in second): %f\"\n",
    "      % m1_time)"
   ]
  },
  {
   "cell_type": "markdown",
   "metadata": {},
   "source": [
    "<h3> Model 2: Logistcl Regression </h3><br>\n",
    "<b> Average accuracy and AUC </b>"
   ]
  },
  {
   "cell_type": "code",
   "execution_count": 51,
   "metadata": {
    "collapsed": false
   },
   "outputs": [
    {
     "name": "stdout",
     "output_type": "stream",
     "text": [
      "Logistic regression average accracy: 0.930805\n",
      "Logistic regression average auc: 0.676303\n",
      "Computational time (in second): 26.495750\n"
     ]
    }
   ],
   "source": [
    "#10-fold cross-validation for logreg\n",
    "m2_start = time.time()\n",
    "logreg = LogisticRegression(C=1e9)\n",
    "m2_scores = cross_val_score(logreg, X, y, cv=10, scoring='accuracy')\n",
    "# use average accuracy as an estimate of out-of-sample accuracy\n",
    "print (\"Logistic regression average accracy: %f\" %m2_scores.mean())\n",
    "m2_auc = cross_val_score(logreg, X, y, cv=10, scoring='roc_auc')\n",
    "print (\"Logistic regression average auc: %f\" %m2_auc.mean())\n",
    "m2_end = time.time()\n",
    "m2_time = m2_end - m2_start \n",
    "print (\"Computation time (in second): %f\" % m2_time)"
   ]
  },
  {
   "cell_type": "markdown",
   "metadata": {},
   "source": [
    "<h3>Model 3: Decision Tree Classifier </h3><br>\n",
    "<b>Parameter tunning: max_depth </b>"
   ]
  },
  {
   "cell_type": "code",
   "execution_count": 52,
   "metadata": {
    "collapsed": false
   },
   "outputs": [
    {
     "name": "stdout",
     "output_type": "stream",
     "text": [
      "Computational time : 244.110826\n",
      "Index of the best score:\n"
     ]
    },
    {
     "data": {
      "text/plain": [
       "(array([4]),)"
      ]
     },
     "execution_count": 52,
     "metadata": {},
     "output_type": "execute_result"
    }
   ],
   "source": [
    "# search for an optimal value of max_depth for treeclf\n",
    "tune1_start = time.time()\n",
    "d_range = range(1,30)\n",
    "d_scores = []\n",
    "for d in d_range:\n",
    "    treeclf = DecisionTreeClassifier(max_depth=d)\n",
    "    scores = cross_val_score(treeclf, X, y, cv=10, scoring='accuracy')\n",
    "    d_scores.append(scores.mean())\n",
    "tune1_end = time.time()\n",
    "print \"Computation time : %f\" % (tune1_end - tune1_start)\n",
    "print \"Index of the best score:\" \n",
    "np.where(d_scores == max(d_scores))"
   ]
  },
  {
   "cell_type": "code",
   "execution_count": 53,
   "metadata": {
    "collapsed": false
   },
   "outputs": [
    {
     "data": {
      "text/plain": [
       "<matplotlib.text.Text at 0x10bc16490>"
      ]
     },
     "execution_count": 53,
     "metadata": {},
     "output_type": "execute_result"
    },
    {
     "data": {
      "image/png": "[encoded data removed]",
      "text/plain": [
       "<matplotlib.figure.Figure at 0x10395e4d0>"
      ]
     },
     "metadata": {},
     "output_type": "display_data"
    }
   ],
   "source": [
    "%matplotlib inline\n",
    "# plot the value of d for treeclf (x-axis) versus the cross-validated accuracy (y-axis)\n",
    "plt.plot(d_range, d_scores)\n",
    "plt.xlabel('Value of d for depth')\n",
    "plt.ylabel('Cross-Validated Accuracy')"
   ]
  },
  {
   "cell_type": "markdown",
   "metadata": {},
   "source": [
    "<b> Average accuracy and AUC </b>"
   ]
  },
  {
   "cell_type": "code",
   "execution_count": 131,
   "metadata": {
    "collapsed": false
   },
   "outputs": [
    {
     "name": "stdout",
     "output_type": "stream",
     "text": [
      "Decision Tree average accuracy: 0.933383\n",
      "Decision Tree averageAUC: 0.831738\n",
      "Computation time (in second): 7.848564\n"
     ]
    }
   ],
   "source": [
    "# 10-fold cross-validation for Decision Tree with the optimal max depth (previously found max_depth=4)\n",
    "m3_start = time.time()\n",
    "treeclf = DecisionTreeClassifier(max_depth = 5)\n",
    "m3_scores = cross_val_score(treeclf, X, y, cv=10, scoring='accuracy').mean()\n",
    "# use average accuracy as an estimate of out-of-sample accuracy\n",
    "print (\"Decision Tree average accuracy: %f\" % m3_scores.mean())\n",
    "m3_auc = cross_val_score(treeclf, X, y, cv=10, scoring='roc_auc')\n",
    "print (\"Decision Tree average AUC: %f\" % m3_auc.mean())\n",
    "m3_end = time.time()\n",
    "m3_time = m3_end - m3_start\n",
    "print (\"Computation time (in second): %f\" % m3_time)"
   ]
  },
  {
   "cell_type": "markdown",
   "metadata": {},
   "source": [
    "<h3> Model 4.1: Ensemble Bagging (use Decision Tree as base estimator)</h3>"
   ]
  },
  {
   "cell_type": "markdown",
   "metadata": {},
   "source": [
    "<b> Parameter tuning: n_estimator and max_samples </b>"
   ]
  },
  {
   "cell_type": "code",
   "execution_count": 81,
   "metadata": {
    "collapsed": false
   },
   "outputs": [
    {
     "name": "stdout",
     "output_type": "stream",
     "text": [
      "Computational time : 1347.007179\n",
      "Index of the best score: \n"
     ]
    },
    {
     "data": {
      "text/plain": [
       "(array([19]), array([18]))"
      ]
     },
     "execution_count": 81,
     "metadata": {},
     "output_type": "execute_result"
    }
   ],
   "source": [
    "# search for an optimal values of n_estimator and max_samples for bagging\n",
    "tune4_start = time.time()\n",
    "est_range = range(1,21)  \n",
    "sam_range = range(100,2001,100)\n",
    "tune4_scores = np.empty(shape=[20,20])\n",
    "i = 0\n",
    "for est in est_range:\n",
    "    for sam in sam_range:\n",
    "        bag = BaggingClassifier(n_estimators=est, max_samples=sam)\n",
    "        scores = cross_val_score(bag, X, y, cv=10, scoring='accuracy')\n",
    "        tune4_scores[est-1, i] = scores.mean()\n",
    "        i = i+1\n",
    "    i = 0\n",
    "tune4_end = time.time()\n",
    "print (\"Computation time : %f\" % (tune4_end - tune4_start))\n",
    "print \"Index of the best score: \"\n",
    "np.where(tune4_scores == tune4_scores.max())"
   ]
  },
  {
   "cell_type": "code",
   "execution_count": 82,
   "metadata": {
    "collapsed": false
   },
   "outputs": [
    {
     "data": {
      "text/plain": [
       "<matplotlib.legend.Legend at 0x10a5d60d0>"
      ]
     },
     "execution_count": 82,
     "metadata": {},
     "output_type": "execute_result"
    },
    {
     "data": {
      "image/png": "[encoded data removed]",
      "text/plain": [
       "<matplotlib.figure.Figure at 0x10a52e210>"
      ]
     },
     "metadata": {},
     "output_type": "display_data"
    }
   ],
   "source": [
    "%matplotlib inline\n",
    "# plot the value of max_samples for bagging (x-axis) versus the cross-validated accuracy (y-axis)\n",
    "# each line represents a different value of n_estimators\n",
    "plt.plot(sam_range, tune4_scores[0,:],'r', label ='n_est=1')\n",
    "plt.plot(sam_range, tune4_scores[4,:],'g',label = 'n_est=5')\n",
    "plt.plot(sam_range, tune4_scores[9,:],'b',label = 'n_est=10')\n",
    "plt.plot(sam_range, tune4_scores[14,:],'c', label ='n_est=15')\n",
    "plt.plot(sam_range, tune4_scores[19,:],'m',label = 'n_est=20')\n",
    "plt.xlabel('Value of Max_samples for Bagging')\n",
    "plt.ylabel('Cross-Validated Accuracy')\n",
    "plt.legend(bbox_to_anchor=(1, 1), loc=2, borderaxespad=0.)"
   ]
  },
  {
   "cell_type": "markdown",
   "metadata": {},
   "source": [
    "<b> Average accuracy and AUC </b>"
   ]
  },
  {
   "cell_type": "code",
   "execution_count": 84,
   "metadata": {
    "collapsed": false
   },
   "outputs": [
    {
     "name": "stdout",
     "output_type": "stream",
     "text": [
      "Bagging average acurracy: 0.932659\n",
      "Bagging average AUC: 0.811993\n",
      "Computation time (in second): 14.602276\n"
     ]
    }
   ],
   "source": [
    "# 10-fold cross-validation for Bagging using Decision Tree as the base estimator \n",
    "# previously found n_estimators=20, max_samples=1900\n",
    "m4a_start = time.time()\n",
    "bag = BaggingClassifier(n_estimators=20, max_samples=1900)\n",
    "m4a_scores = cross_val_score(bag, X, y, cv=10, scoring='accuracy').mean()\n",
    "# use average accuracy as an estimate of out-of-sample accuracy\n",
    "print (\"Bagging average acurracy: %f\" % m4a_scores.mean())\n",
    "m4a_auc = cross_val_score(bag, X, y, cv=10, scoring='roc_auc')\n",
    "print (\"Bagging average AUC: %f\" % m4a_auc.mean())\n",
    "m4a_end = time.time()\n",
    "m4a_time = m4a_end - m4a_start\n",
    "print (\"Computation time (in second): %f\" % m4a_time)"
   ]
  },
  {
   "cell_type": "markdown",
   "metadata": {},
   "source": [
    "<h3> Model 4.2: Ensemble Bagging (use Gaussian NB as base estimator)</h3>"
   ]
  },
  {
   "cell_type": "markdown",
   "metadata": {},
   "source": [
    "<b> Parameter tuning: n_estimator and max_samples  </b>"
   ]
  },
  {
   "cell_type": "code",
   "execution_count": 25,
   "metadata": {
    "collapsed": false
   },
   "outputs": [
    {
     "name": "stdout",
     "output_type": "stream",
     "text": [
      "Computation time : 922.940000\n",
      "Index of the best score: \n"
     ]
    },
    {
     "data": {
      "text/plain": [
       "(array([ 0,  1,  2,  3,  4,  5,  6,  7,  8,  9, 10, 11, 12, 13, 14, 15, 16,\n",
       "        17, 18, 19], dtype=int64),\n",
       " array([0, 0, 0, 0, 0, 0, 0, 0, 0, 0, 0, 0, 0, 0, 0, 0, 0, 0, 0, 0], dtype=int64))"
      ]
     },
     "execution_count": 25,
     "metadata": {},
     "output_type": "execute_result"
    }
   ],
   "source": [
    "# search for an optimal values of n_estimator and max_samples for bagging using GNB as the base estimator \n",
    "# the accuracy didn't look right! All of them are about zero???!!!\n",
    "tune4b_start = time.time()\n",
    "gnb = GaussianNB()\n",
    "est_range = range(1,21)  \n",
    "sam_range = (1,100,200,300,400,500)\n",
    "tune4b_scores = np.empty(shape=[20,6])\n",
    "i = 0\n",
    "for est in est_range:\n",
    "    for sam in sam_range:\n",
    "        bag = BaggingClassifier(base_estimator= gnb, n_estimators=est, max_samples=sam)\n",
    "        scores = cross_val_score(bag, X, y, cv=10, scoring='accuracy')\n",
    "        tune4b_scores[est-1, i] = scores.mean()\n",
    "        i = i+1\n",
    "    i = 0\n",
    "tune4b_end = time.time()\n",
    "print (\"Computation time : %f\" % (tune4b_end - tune4b_start))\n",
    "print \"Index of the best score: \"\n",
    "np.where(tune4b_scores == tune4b_scores.max())"
   ]
  },
  {
   "cell_type": "code",
   "execution_count": 26,
   "metadata": {
    "collapsed": false
   },
   "outputs": [
    {
     "data": {
      "text/plain": [
       "<matplotlib.legend.Legend at 0x26c0be48>"
      ]
     },
     "execution_count": 26,
     "metadata": {},
     "output_type": "execute_result"
    },
    {
     "data": {
      "image/png": "[encoded data removed]",
      "text/plain": [
       "<matplotlib.figure.Figure at 0x24819710>"
      ]
     },
     "metadata": {},
     "output_type": "display_data"
    }
   ],
   "source": [
    "%matplotlib inline\n",
    "# plot the value of max_samples for bagging (x-axis) versus the cross-validated accuracy (y-axis)\n",
    "# each line represents a different value of n_estimators\n",
    "plt.plot(sam_range, tune4b_scores[0,:],'r', label ='n_est=1')\n",
    "plt.plot(sam_range, tune4b_scores[4,:],'g',label = 'n_est=5')\n",
    "plt.plot(sam_range, tune4b_scores[9,:],'b',label = 'n_est=10')\n",
    "plt.plot(sam_range, tune4b_scores[14,:],'c', label ='n_est=15')\n",
    "plt.plot(sam_range, tune4b_scores[19,:],'m',label = 'n_est=20')\n",
    "plt.xlabel('Value of Max_samples for Bagging (GNB)')\n",
    "plt.ylabel('Cross-Validated Accuracy')\n",
    "plt.legend(bbox_to_anchor=(1, 1), loc=2, borderaxespad=0.)"
   ]
  },
  {
   "cell_type": "markdown",
   "metadata": {},
   "source": [
    "<b> Average accuracy and AUC </b>"
   ]
  },
  {
   "cell_type": "code",
   "execution_count": 27,
   "metadata": {
    "collapsed": false
   },
   "outputs": [
    {
     "name": "stdout",
     "output_type": "stream",
     "text": [
      "Bagging (GNB) average acurracy: 0.929832\n",
      "Bagging (GNB) average AUC: 0.719633\n",
      "Computation time (in second): 16.261000\n"
     ]
    }
   ],
   "source": [
    "# 10-fold cross-validation for Bagging using GNB as the base estimator \n",
    "# we will use the default parameters \n",
    "m4b_start = time.time()\n",
    "gnb = GaussianNB()\n",
    "bag2 = BaggingClassifier(base_estimator=gnb)\n",
    "m4b_scores = cross_val_score(bag2, X, y, cv=10, scoring='accuracy').mean()\n",
    "# use average accuracy as an estimate of out-of-sample accuracy\n",
    "print (\"Bagging (GNB) average acurracy: %f\" % m4b_scores.mean())\n",
    "m4b_auc = cross_val_score(bag2, X, y, cv=10, scoring='roc_auc')\n",
    "print (\"Bagging (GNB) average AUC: %f\" % m4b_auc.mean())\n",
    "m4b_end = time.time()\n",
    "m4b_time = m4b_end - m4b_start\n",
    "print (\"Computation time (in second): %f\" % m4b_time)"
   ]
  },
  {
   "cell_type": "markdown",
   "metadata": {},
   "source": [
    "<h3> Model 5: Ensemble Random Forest </h3>"
   ]
  },
  {
   "cell_type": "markdown",
   "metadata": {},
   "source": [
    "<b>Parameter tuning: n_estimator and max_depth</b>"
   ]
  },
  {
   "cell_type": "code",
   "execution_count": 96,
   "metadata": {
    "collapsed": false
   },
   "outputs": [
    {
     "name": "stdout",
     "output_type": "stream",
     "text": [
      "Computational time : 2282.234968\n",
      "Index of the best score: \n"
     ]
    },
    {
     "data": {
      "text/plain": [
       "(array([13]), array([7]))"
      ]
     },
     "execution_count": 96,
     "metadata": {},
     "output_type": "execute_result"
    }
   ],
   "source": [
    "# search for an optimal values of n_estimator and max_depth for Random Forest Classifier \n",
    "tune5_start = time.time()\n",
    "est_range = range(1,16)\n",
    "dep_range = range(1,16)\n",
    "tune5_scores = np.empty(shape=[15,15])\n",
    "for est in est_range:\n",
    "    for dep in dep_range:\n",
    "        rfc = RandomForestClassifier(n_estimators=est, max_depth=dep)\n",
    "        scores = cross_val_score(rfc, X, y, cv=10, scoring='accuracy')\n",
    "        tune5_scores[est-1, dep-1] = scores.mean()\n",
    "tune5_end = time.time()\n",
    "print (\"Computation time : %f\" % (tune5_end - tune5_start))\n",
    "print \"Index of the best score: \"\n",
    "np.where(tune5_scores == tune5_scores.max())"
   ]
  },
  {
   "cell_type": "code",
   "execution_count": 97,
   "metadata": {
    "collapsed": false
   },
   "outputs": [
    {
     "data": {
      "text/plain": [
       "<matplotlib.legend.Legend at 0x10b7719d0>"
      ]
     },
     "execution_count": 97,
     "metadata": {},
     "output_type": "execute_result"
    },
    {
     "data": {
      "image/png": "[encoded data removed]",
      "text/plain": [
       "<matplotlib.figure.Figure at 0x10a802e10>"
      ]
     },
     "metadata": {},
     "output_type": "display_data"
    }
   ],
   "source": [
    "%matplotlib inline\n",
    "# plot the value of max_samples for bagging (x-axis) versus the cross-validated accuracy (y-axis)\n",
    "# each line represents a different value of n_estimators\n",
    "plt.plot(dep_range, tune5_scores[0,:],'r', label ='n_est=1')\n",
    "plt.plot(dep_range, tune5_scores[4,:],'g',label = 'n_est=5')\n",
    "plt.plot(dep_range, tune5_scores[9,:],'b',label = 'n_est=10')\n",
    "plt.plot(dep_range, tune5_scores[14,:],'c', label ='n_est=15')\n",
    "plt.xlabel('Value of max_depth for Random Forest')\n",
    "plt.ylabel('Cross-Validated Accuracy')\n",
    "plt.legend(bbox_to_anchor=(1, 1), loc=2, borderaxespad=0.)"
   ]
  },
  {
   "cell_type": "markdown",
   "metadata": {},
   "source": [
    "<b> Average accuracy and AUC </b>"
   ]
  },
  {
   "cell_type": "code",
   "execution_count": 142,
   "metadata": {
    "collapsed": false
   },
   "outputs": [
    {
     "name": "stdout",
     "output_type": "stream",
     "text": [
      "Random Forest average scores: 0.934048\n",
      "Random Forest AUC: 0.851587\n",
      "Computation time (in second): 35.121206\n"
     ]
    }
   ],
   "source": [
    "# 10-fold cross-validation for Bagging\n",
    "# previously found best n_estimator = 14, max_depth = 8\n",
    "m5_start = time.time()\n",
    "rfc = RandomForestClassifier(n_estimators=14, max_depth=8)\n",
    "m5_scores = cross_val_score(rfc, X, y, cv=10, scoring='accuracy').mean()\n",
    "# use average accuracy as an estimate of out-of-sample accuracy\n",
    "print (\"Random Forest average scores: %f\" % m5_scores.mean())\n",
    "m5_auc = cross_val_score(rfc, X, y, cv=10, scoring='roc_auc')\n",
    "print (\"Random Forest AUC: %f\" % m5_auc.mean())\n",
    "m5_end = time.time()\n",
    "m5_time = m5_end - m5_start\n",
    "print (\"Computation time (in second): %f\" % m5_time)"
   ]
  },
  {
   "cell_type": "markdown",
   "metadata": {},
   "source": [
    "<h3> Model 6: K Nearest Neighbor</h3><br>\n",
    "<b>Parameter tuning: k </b>"
   ]
  },
  {
   "cell_type": "code",
   "execution_count": 99,
   "metadata": {
    "collapsed": false
   },
   "outputs": [
    {
     "name": "stdout",
     "output_type": "stream",
     "text": [
      "Computation time: 2493.534561\n",
      "Index of the best score:\n"
     ]
    },
    {
     "data": {
      "text/plain": [
       "(array([24]),)"
      ]
     },
     "execution_count": 99,
     "metadata": {},
     "output_type": "execute_result"
    }
   ],
   "source": [
    "# search for an optimal value of K for KNN\n",
    "tune6_start = time.time()\n",
    "k_range = range(1, 140)\n",
    "tune6_scores = []\n",
    "for k in k_range:\n",
    "    knn = KNeighborsClassifier(n_neighbors=k)\n",
    "    scores = cross_val_score(knn, X, y, cv=10, scoring='accuracy')\n",
    "    tune6_scores.append(scores.mean())\n",
    "tune6_end = time.time()\n",
    "print (\"Computation time: %f\" % (tune6_end - tune6_start))\n",
    "print \"Index of the best score:\"\n",
    "np.where(tune6_scores == max(tune6_scores))"
   ]
  },
  {
   "cell_type": "code",
   "execution_count": 100,
   "metadata": {
    "collapsed": false
   },
   "outputs": [
    {
     "data": {
      "text/plain": [
       "(array([24]),)"
      ]
     },
     "execution_count": 100,
     "metadata": {},
     "output_type": "execute_result"
    },
    {
     "data": {
      "image/png": "[encoded data removed]",
      "text/plain": [
       "<matplotlib.figure.Figure at 0x10c466710>"
      ]
     },
     "metadata": {},
     "output_type": "display_data"
    }
   ],
   "source": [
    "%matplotlib inline\n",
    "# plot the value of K for KNN (x-axis) versus the cross-validated accuracy (y-axis)\n",
    "plt.plot(k_range, tune6_scores)\n",
    "plt.xlabel('Value of K for KNN')\n",
    "plt.ylabel('Cross-Validated Accuracy')\n",
    "np.where(tune6_scores == max(tune6_scores))"
   ]
  },
  {
   "cell_type": "markdown",
   "metadata": {},
   "source": [
    "<b> Average accuracy and AUC </b>"
   ]
  },
  {
   "cell_type": "code",
   "execution_count": 101,
   "metadata": {
    "collapsed": false
   },
   "outputs": [
    {
     "name": "stdout",
     "output_type": "stream",
     "text": [
      "Knn average accuracy: 0.930722\n",
      "knn average AUC: 0.609942\n",
      "Computation time (in second): 37.716885\n"
     ]
    }
   ],
   "source": [
    "#previously found optimal k = 25\n",
    "m6_start = time.time()\n",
    "knn = KNeighborsClassifier(n_neighbors=25)\n",
    "m6_scores = cross_val_score(knn, X, y, cv=10, scoring='accuracy')\n",
    "# use average accuracy as an estimate of out-of-sample accuracy\n",
    "print (\"Knn average accuracy: %f\" %m6_scores.mean())\n",
    "m6_auc = cross_val_score(knn, X, y, cv=10, scoring='roc_auc')\n",
    "print (\"knn average AUC: %f\" %m6_auc.mean())\n",
    "m6_end = time.time()\n",
    "m6_time = m6_end - m6_start \n",
    "print (\"Computation time (in second): %f\" % m6_time)"
   ]
  },
  {
   "cell_type": "markdown",
   "metadata": {},
   "source": [
    "<h3> Model 7: SVM Gaussian Kernel </h3><br>\n",
    "<b> Parameter tuning: Gamma</b>"
   ]
  },
  {
   "cell_type": "code",
   "execution_count": null,
   "metadata": {
    "collapsed": false
   },
   "outputs": [],
   "source": [
    "#parameter tuning hasn't been computed, it should take a LONG time\n",
    "tune7_start = time.time()\n",
    "gamma_range = [.1,1,5,10]\n",
    "tune7_scores = []\n",
    "for g in gamma_range:\n",
    "    svm_rbf = svm.SVC(kernel='rbf', gamma=g)\n",
    "    scores = cross_val_score(svm_rbf, X, y, cv=10, scoring='accuracy')\n",
    "    tune7_scores.append(scores.mean())\n",
    "tune7_end = time.time()\n",
    "print (\"Computation time: %f\"\n",
    "      % tune7_end - tune7_start)"
   ]
  },
  {
   "cell_type": "code",
   "execution_count": null,
   "metadata": {
    "collapsed": true
   },
   "outputs": [],
   "source": [
    "%matplotlib inline\n",
    "# plot the value of K for KNN (x-axis) versus the cross-validated accuracy (y-axis)\n",
    "plt.plot(gamma_range, tune7_scores)\n",
    "plt.xlabel('Value of gamma for SVM Gaussian')\n",
    "plt.ylabel('Cross-Validated Accuracy')"
   ]
  },
  {
   "cell_type": "markdown",
   "metadata": {},
   "source": [
    "<b> Average accuracy and AUC </b>"
   ]
  },
  {
   "cell_type": "code",
   "execution_count": null,
   "metadata": {
    "collapsed": true
   },
   "outputs": [],
   "source": [
    "#10-fold cross-validation for SVM Gaussian\n",
    "#I used the default parameter\n",
    "m7_start = time.time()\n",
    "svm_rbf = svm.SVC(kernel='rbf')\n",
    "m7_scores = cross_val_score(svm_rbf, X, y, cv=10, scoring='accuracy')\n",
    "# use average accuracy as an estimate of out-of-sample accuracy\n",
    "print (\"SVM Gaussian average accuracy: %f\" %m7_scores.mean())\n",
    "m7_auc = cross_val_score(svm_rbf, X, y, cv=10, scoring='roc_auc')\n",
    "print (\"SVM Gaussian average AUC: %f\" %m7_auc.mean())\n",
    "m7_end = time.time()\n",
    "m7_time = m7_end - m7_start \n",
    "print (\"Computation time (in second): %f\" % m7_time)"
   ]
  },
  {
   "cell_type": "markdown",
   "metadata": {},
   "source": [
    "<u>Note:</u><br>\n",
    "Due to extremely long run time, this model was compiled on a different computer and the output was attached here. <br>\n",
    "SVM Gaussian average accuracy: 0.930431<br>\n",
    "SVM Gaussian average AUC: 0.633914<br>\n",
    "Computational time (in second): 69664.545000<br>"
   ]
  },
  {
   "cell_type": "markdown",
   "metadata": {},
   "source": [
    "<h3> Model 8: Ensemble Voting Classifier</h3>"
   ]
  },
  {
   "cell_type": "markdown",
   "metadata": {},
   "source": [
    "<b> Average accuracy and AUC </b>"
   ]
  },
  {
   "cell_type": "code",
   "execution_count": 34,
   "metadata": {
    "collapsed": false
   },
   "outputs": [
    {
     "name": "stdout",
     "output_type": "stream",
     "text": [
      "Voting Classifier average scores: 0.934380\n",
      "Voting Classifier AUC: 0.846406\n",
      "Computation time (in second): 51.156000\n"
     ]
    }
   ],
   "source": [
    "m8_start = time.time()\n",
    "clf1 = DecisionTreeClassifier(max_depth = 5)\n",
    "clf2 = RandomForestClassifier(n_estimators=14, max_depth=8)\n",
    "clf3 = BaggingClassifier(n_estimators=20, max_samples=1900)\n",
    "eclf = VotingClassifier(estimators=[('treeclf', clf1), ('rf', clf2), ('bag', clf3)], voting='soft')\n",
    "m8_scores = cross_val_score(eclf, X, y, cv=10, scoring='accuracy').mean()\n",
    "# use average accuracy as an estimate of out-of-sample accuracy\n",
    "print (\"Voting Classifier average scores: %f\" % m8_scores.mean())\n",
    "m8_auc = cross_val_score(eclf, X, y, cv=10, scoring='roc_auc')\n",
    "print (\"Voting Classifier AUC: %f\" % m8_auc.mean())\n",
    "m8_end = time.time()\n",
    "m8_time = m8_end - m8_start\n",
    "print (\"Computation time (in second): %f\" % m8_time)"
   ]
  },
  {
   "cell_type": "markdown",
   "metadata": {},
   "source": [
    "<h3> Compare the ROC Curves</h3>"
   ]
  },
  {
   "cell_type": "code",
   "execution_count": 29,
   "metadata": {
    "collapsed": false
   },
   "outputs": [
    {
     "name": "stdout",
     "output_type": "stream",
     "text": [
      "Gaussian Naive Bayes AUC:  0.71872021475\n",
      "Computation time: 0.079000\n",
      "Logistic Regression AUC:  0.681014635488\n",
      "Computation time: 1.574000\n",
      "Decision Tree AUC:  0.824038609957\n",
      "Computation time: 0.347000\n",
      "Bagging 1 AUC:  0.808001412568\n",
      "Computation time: 0.626000\n",
      "Bagging 2 AUC:  0.71752213558\n",
      "Computation time: 0.689000\n"
     ]
    }
   ],
   "source": [
    "start1 = time.time()\n",
    "gnb = GaussianNB()\n",
    "gnb.fit(X_train,y_train)\n",
    "gnb_y_pred_prob = gnb.predict_proba(X_test)[:, 1]\n",
    "gnb_fpr, gnb_tpr, gnb_thresholds = metrics.roc_curve(y_test, gnb_y_pred_prob)\n",
    "print 'Gaussian Naive Bayes AUC: ', metrics.roc_auc_score(y_test, gnb_y_pred_prob)\n",
    "end1 = time.time()\n",
    "run1 = end1 - start1\n",
    "print (\"Computation time: %f\" %run1 )\n",
    "\n",
    "start2 = time.time()\n",
    "logreg = LogisticRegression(C=1e9)\n",
    "logreg.fit(X_train,y_train)\n",
    "lr_y_pred_prob = logreg.predict_proba(X_test)[:, 1]\n",
    "lr_fpr, lr_tpr, lr_thresholds = metrics.roc_curve(y_test, lr_y_pred_prob)\n",
    "print 'Logistic Regression AUC: ', metrics.roc_auc_score(y_test, lr_y_pred_prob)\n",
    "end2 = time.time()\n",
    "run2 = end2 - start2\n",
    "print ('Computation time: %f' %run2)\n",
    "\n",
    "start3 = time.time()\n",
    "treeclf = DecisionTreeClassifier(max_depth = 5)\n",
    "treeclf.fit(X_train,y_train)\n",
    "ct_y_pred_prob = treeclf.predict_proba(X_test)[:, 1]\n",
    "ct_fpr, ct_tpr, ct_thresholds = metrics.roc_curve(y_test, ct_y_pred_prob)\n",
    "print 'Decision Tree AUC: ', metrics.roc_auc_score(y_test, ct_y_pred_prob)\n",
    "end3 = time.time()\n",
    "run3 = end3 - start3\n",
    "print ('Computation time: %f' %run3)\n",
    "\n",
    "start4a = time.time()\n",
    "bag = BaggingClassifier(n_estimators=20, max_samples=1900)\n",
    "bag.fit(X_train,y_train)\n",
    "bag1_y_pred_prob = bag.predict_proba(X_test)[:, 1]\n",
    "bag1_fpr, bag1_tpr, bag1_thresholds = metrics.roc_curve(y_test, bag1_y_pred_prob)\n",
    "print 'Bagging 1 AUC: ', metrics.roc_auc_score(y_test, bag1_y_pred_prob)\n",
    "end4a = time.time()\n",
    "run4a = end4a - start4a\n",
    "print ('Computation time: %f' %run4a)\n",
    "\n",
    "start4b = time.time()\n",
    "gnb = GaussianNB()\n",
    "bag2 = BaggingClassifier(base_estimator=gnb)\n",
    "bag2.fit(X_train,y_train)\n",
    "bag2_y_pred_prob = bag2.predict_proba(X_test)[:, 1]\n",
    "bag2_fpr, bag2_tpr, bag2_thresholds = metrics.roc_curve(y_test, bag2_y_pred_prob)\n",
    "print 'Bagging 2 AUC: ', metrics.roc_auc_score(y_test, bag2_y_pred_prob)\n",
    "end4b = time.time()\n",
    "run4b = end4b - start4b\n",
    "print ('Computation time: %f' %run4b)"
   ]
  },
  {
   "cell_type": "code",
   "execution_count": 32,
   "metadata": {
    "collapsed": false
   },
   "outputs": [
    {
     "name": "stdout",
     "output_type": "stream",
     "text": [
      "Random Forest AUC:  0.845532366923\n",
      "Computation time: 1.375000\n",
      "Knn AUC:  0.604142860609\n",
      "Computation time: 4.016000\n",
      "SVM Gaussian Kernel AUC:  0.631741122553\n",
      "Computation time: 9757.358000\n",
      "Voting Classifier AUC:  0.840463677069\n",
      "Computation time: 2.047000\n"
     ]
    }
   ],
   "source": [
    "start5 = time.time()\n",
    "rfc = RandomForestClassifier(n_estimators=14, max_depth=8)\n",
    "rfc.fit(X_train,y_train)\n",
    "rf_y_pred_prob = rfc.predict_proba(X_test)[:, 1]\n",
    "rf_fpr, rf_tpr, rf_thresholds = metrics.roc_curve(y_test, rf_y_pred_prob)\n",
    "print 'Random Forest AUC: ', metrics.roc_auc_score(y_test, rf_y_pred_prob)\n",
    "end5 = time.time()\n",
    "run5 = end5 - start5\n",
    "print ('Computation time: %f' %run5)\n",
    "\n",
    "start6 = time.time()\n",
    "knn = KNeighborsClassifier(n_neighbors=25 )\n",
    "knn.fit(X_train,y_train)\n",
    "knn_y_pred_prob = knn.predict_proba(X_test)[:, 1]\n",
    "knn_fpr, knn_tpr, knn_thresholds = metrics.roc_curve(y_test, knn_y_pred_prob)\n",
    "print 'Knn AUC: ', metrics.roc_auc_score(y_test, knn_y_pred_prob)\n",
    "end6 = time.time()\n",
    "run6 = end6 - start6\n",
    "print ('Computation time: %f' %run6)\n",
    "\n",
    "start7 = time.time()\n",
    "svm_rbf = svm.SVC(kernel='rbf',probability=True)\n",
    "svm_rbf.fit(X_train,y_train)\n",
    "svm2_y_pred_prob = svm_rbf.predict_proba(X_test)[:, 1]\n",
    "svm2_fpr, svm2_tpr, svm2_thresholds = metrics.roc_curve(y_test, svm2_y_pred_prob)\n",
    "print 'SVM Gaussian Kernel AUC: ', metrics.roc_auc_score(y_test, svm2_y_pred_prob)\n",
    "end7 = time.time()\n",
    "run7 = end7 - start7\n",
    "print ('Computation time: %f' %run7)\n",
    "\n",
    "start8 = time.time()\n",
    "clf1 = DecisionTreeClassifier(max_depth = 5)\n",
    "clf2 = RandomForestClassifier(n_estimators=14, max_depth=8)\n",
    "clf3 = BaggingClassifier(n_estimators=20, max_samples=1900)\n",
    "eclf = VotingClassifier(estimators=[('treeclf', clf1), ('rf', clf2), ('bag', clf3)], voting='soft')\n",
    "eclf.fit(X_train,y_train)\n",
    "vc_y_pred_prob = eclf.predict_proba(X_test)[:, 1]\n",
    "vc_fpr, vc_tpr, vc_thresholds = metrics.roc_curve(y_test, vc_y_pred_prob)\n",
    "print 'Voting Classifier AUC: ', metrics.roc_auc_score(y_test, vc_y_pred_prob)\n",
    "end8 = time.time()\n",
    "run8 = end8 - start8\n",
    "print ('Computation time: %f' %run8)"
   ]
  },
  {
   "cell_type": "code",
   "execution_count": 36,
   "metadata": {
    "collapsed": false
   },
   "outputs": [
    {
     "data": {
      "text/plain": [
       "<matplotlib.legend.Legend at 0x26ee6780>"
      ]
     },
     "execution_count": 36,
     "metadata": {},
     "output_type": "execute_result"
    },
    {
     "data": {
      "image/png": "[encoded data removed]",
      "text/plain": [
       "<matplotlib.figure.Figure at 0x28ba06a0>"
      ]
     },
     "metadata": {},
     "output_type": "display_data"
    }
   ],
   "source": [
    "%matplotlib inline\n",
    "plt.plot(gnb_fpr, gnb_tpr, 'blue', label ='Naive Bayes')\n",
    "plt.plot(lr_fpr, lr_tpr, 'cyan', label ='Logistic Regression')\n",
    "plt.plot(knn_fpr, knn_tpr, 'deeppink', label ='k-Nearest Neighbors')\n",
    "plt.plot(ct_fpr, ct_tpr, 'green', label = 'Decision Tree')\n",
    "plt.plot(svm2_fpr, svm2_tpr, 'red', label ='SVM Gaussian Kernel')\n",
    "plt.plot(bag1_fpr, bag1_tpr, 'yellow', label ='Bagging Tree clf')\n",
    "plt.plot(bag2_fpr, bag2_tpr, 'orange', label ='Bagging GNB')\n",
    "plt.plot(rf_fpr, rf_tpr, 'olive', label ='Random Forest')\n",
    "plt.plot(vc_fpr, vc_tpr, 'black' , label ='Voting Classifier')\n",
    "plt.xlim([0.0, 1.0])\n",
    "plt.ylim([0.0, 1.0])\n",
    "plt.xlabel('False Positive Rate (1 - Specificity)')\n",
    "plt.ylabel('True Positive Rate (Sensitivity)')\n",
    "plt.legend(bbox_to_anchor=(1, 1), loc=2, borderaxespad=0.)"
   ]
  },
  {
   "cell_type": "markdown",
   "metadata": {},
   "source": [
    "Random Forest has the greatest AUC! "
   ]
  },
  {
   "cell_type": "markdown",
   "metadata": {},
   "source": [
    "<h3> Overview of the Model Performance</h3>"
   ]
  },
  {
   "cell_type": "code",
   "execution_count": 13,
   "metadata": {
    "collapsed": false
   },
   "outputs": [
    {
     "name": "stdout",
     "output_type": "stream",
     "text": [
      "       Model        CV Accuracy  CV AUC   CV Time    AUC      Time  \n",
      "------------------- ----------- -------- --------- -------- --------\n",
      "               Null    0.930514      0.5                0.5         \n",
      "        Gaussian NB    0.929466 0.717931  2.899693  0.71872    0.079\n",
      "Logistic Regression    0.930805 0.676303  26.49575 0.681015    1.574\n",
      "      Decision Tree    0.933383 0.831738  7.848564 0.824038    0.347\n",
      "     Bagging (Tree)    0.932659 0.811993 14.602276 0.808001    0.626\n",
      "      Bagging (GNB)    0.929832 0.719633    16.261 0.717522    0.689\n",
      "      Rondom Forest    0.934048 0.851587 35.121206 0.845532    1.375\n",
      "                Knn    0.930722 0.609942 37.716885 0.604143    4.016\n",
      "       SVM Gaussian    0.930431 0.633914 69664.545 0.631741 9757.358\n",
      "  Voting Classifier     0.93438 0.846406    51.156 0.840464    2.047\n"
     ]
    }
   ],
   "source": [
    "arr = np.array([['Null', 0.930514 , 0.5, '', 0.5, ''],\n",
    "             ['Gaussian NB', 0.929466, 0.717931, 2.899693, 0.718720, 0.079],\n",
    "             ['Logistic Regression', 0.930805, 0.676303, 26.495750, 0.681015, 1.574],\n",
    "             ['Decision Tree', 0.933383, 0.831738, 7.848564, 0.824038, 0.347],\n",
    "             ['Bagging (Tree)', 0.932659, 0.811993, 14.602276, 0.808001, 0.626],\n",
    "             ['Bagging (GNB)', 0.929832, 0.719633, 16.261, 0.717522, 0.689],\n",
    "             ['Rondom Forest', 0.934048, 0.851587, 35.121206, 0.845532, 1.375],\n",
    "             ['Knn', 0.930722, 0.609942, 37.716885, 0.604143, 4.016],\n",
    "             ['SVM Gaussian', 0.930431, 0.633914, 69664.545, 0.631741, 9757.358],\n",
    "            ['Voting Classifier', 0.934380, 0.846406, 51.156, 0.840464, 2.047]])\n",
    "t = Table(arr, names=('Model', 'CV Accuracy', 'CV AUC', 'CV Time', 'AUC', 'Time'))\n",
    "print t"
   ]
  },
  {
   "cell_type": "markdown",
   "metadata": {},
   "source": [
    "Where the <i>AUC</i> and <i>Time</i> were obtained from one train-test-split evaluation."
   ]
  },
  {
   "cell_type": "markdown",
   "metadata": {},
   "source": [
    "<h2> Part2: Model Evaluation With feature selection </h2>\n",
    "<h3> Feature Importances </h3> <br>\n",
    "Since Random Forest had the best predictability, I used this model to compute the featue importances."
   ]
  },
  {
   "cell_type": "code",
   "execution_count": 148,
   "metadata": {
    "collapsed": false
   },
   "outputs": [
    {
     "data": {
      "text/html": [
       "<div>\n",
       "<table border=\"1\" class=\"dataframe\">\n",
       "  <thead>\n",
       "    <tr style=\"text-align: right;\">\n",
       "      <th></th>\n",
       "      <th>feature</th>\n",
       "      <th>importance</th>\n",
       "    </tr>\n",
       "  </thead>\n",
       "  <tbody>\n",
       "    <tr>\n",
       "      <th>9</th>\n",
       "      <td>NumberOfDependents</td>\n",
       "      <td>0.009875</td>\n",
       "    </tr>\n",
       "    <tr>\n",
       "      <th>7</th>\n",
       "      <td>NumberRealEstateLoansOrLines</td>\n",
       "      <td>0.014316</td>\n",
       "    </tr>\n",
       "    <tr>\n",
       "      <th>5</th>\n",
       "      <td>NumberOfOpenCreditLinesAndLoans</td>\n",
       "      <td>0.031539</td>\n",
       "    </tr>\n",
       "    <tr>\n",
       "      <th>1</th>\n",
       "      <td>age</td>\n",
       "      <td>0.032698</td>\n",
       "    </tr>\n",
       "    <tr>\n",
       "      <th>4</th>\n",
       "      <td>MonthlyIncome</td>\n",
       "      <td>0.034406</td>\n",
       "    </tr>\n",
       "    <tr>\n",
       "      <th>3</th>\n",
       "      <td>DebtRatio</td>\n",
       "      <td>0.048395</td>\n",
       "    </tr>\n",
       "    <tr>\n",
       "      <th>2</th>\n",
       "      <td>NumberOfTime30-59DaysPastDueNotWorse</td>\n",
       "      <td>0.151590</td>\n",
       "    </tr>\n",
       "    <tr>\n",
       "      <th>0</th>\n",
       "      <td>RevolvingUtilizationOfUnsecuredLines</td>\n",
       "      <td>0.187931</td>\n",
       "    </tr>\n",
       "    <tr>\n",
       "      <th>8</th>\n",
       "      <td>NumberOfTime60-89DaysPastDueNotWorse</td>\n",
       "      <td>0.194003</td>\n",
       "    </tr>\n",
       "    <tr>\n",
       "      <th>6</th>\n",
       "      <td>NumberOfTimes90DaysLate</td>\n",
       "      <td>0.295248</td>\n",
       "    </tr>\n",
       "  </tbody>\n",
       "</table>\n",
       "</div>"
      ],
      "text/plain": [
       "                                feature  importance\n",
       "9                    NumberOfDependents    0.009875\n",
       "7          NumberRealEstateLoansOrLines    0.014316\n",
       "5       NumberOfOpenCreditLinesAndLoans    0.031539\n",
       "1                                   age    0.032698\n",
       "4                         MonthlyIncome    0.034406\n",
       "3                             DebtRatio    0.048395\n",
       "2  NumberOfTime30-59DaysPastDueNotWorse    0.151590\n",
       "0  RevolvingUtilizationOfUnsecuredLines    0.187931\n",
       "8  NumberOfTime60-89DaysPastDueNotWorse    0.194003\n",
       "6               NumberOfTimes90DaysLate    0.295248"
      ]
     },
     "execution_count": 148,
     "metadata": {},
     "output_type": "execute_result"
    }
   ],
   "source": [
    "# compute feature importances\n",
    "rfc = RandomForestClassifier(n_estimators=14, max_depth=8)\n",
    "rfc.fit(X_train,y_train)\n",
    "pd.DataFrame({'feature':feature_cols, 'importance':rfc.feature_importances_}).sort('importance')"
   ]
  },
  {
   "cell_type": "markdown",
   "metadata": {},
   "source": [
    "It's interesting to see that all features had certain level of importances in model prediction. Reducing the number of features with feature selection may not produce better results."
   ]
  },
  {
   "cell_type": "markdown",
   "metadata": {
    "collapsed": true
   },
   "source": [
    "<h3> Select K best features </h3> <br>\n",
    "<b>Find the best value of K</b>"
   ]
  },
  {
   "cell_type": "code",
   "execution_count": 146,
   "metadata": {
    "collapsed": false
   },
   "outputs": [
    {
     "data": {
      "text/plain": [
       "<matplotlib.text.Text at 0x10a628410>"
      ]
     },
     "execution_count": 146,
     "metadata": {},
     "output_type": "execute_result"
    },
    {
     "data": {
      "image/png": "[encoded data removed]",
      "text/plain": [
       "<matplotlib.figure.Figure at 0x10c090ed0>"
      ]
     },
     "metadata": {},
     "output_type": "display_data"
    }
   ],
   "source": [
    "#find the best value of K with chi2\n",
    "#use random forest as the base estimator\n",
    "#we will use the default parameters\n",
    "x_range = (1,10)\n",
    "rfc = RandomForestClassifier()\n",
    "all_scores = []\n",
    "for i in x_range:\n",
    "    best_x = SelectKBest(chi2, k = i).fit_transform(X, y)\n",
    "    scores = cross_val_score(rfc, best_x, y, cv = 10, scoring = 'accuracy')\n",
    "    all_scores.append(scores.mean())\n",
    "    \n",
    "%matplotlib inline\n",
    "plt.plot(x_range, all_scores)\n",
    "plt.xlabel('Number of features')\n",
    "plt.ylabel('CV Accuracy')"
   ]
  },
  {
   "cell_type": "code",
   "execution_count": 147,
   "metadata": {
    "collapsed": false
   },
   "outputs": [
    {
     "data": {
      "text/plain": [
       "<matplotlib.text.Text at 0x10beb9350>"
      ]
     },
     "execution_count": 147,
     "metadata": {},
     "output_type": "execute_result"
    },
    {
     "data": {
      "image/png": "[encoded data removed]",
      "text/plain": [
       "<matplotlib.figure.Figure at 0x109ec31d0>"
      ]
     },
     "metadata": {},
     "output_type": "display_data"
    }
   ],
   "source": [
    "#find the best value of K with f_classif\n",
    "x_range = (1,10)\n",
    "rfc = RandomForestClassifier()\n",
    "all_scores = []\n",
    "for i in x_range:\n",
    "    best_x = SelectKBest(f_classif, k = i).fit_transform(X, y)\n",
    "    scores = cross_val_score(rfc, best_x, y, cv = 10, scoring = 'accuracy')\n",
    "    all_scores.append(scores.mean())\n",
    "    \n",
    "%matplotlib inline\n",
    "plt.plot(x_range, all_scores)\n",
    "plt.xlabel('Number of features')\n",
    "plt.ylabel('CV Accuracy')"
   ]
  },
  {
   "cell_type": "markdown",
   "metadata": {},
   "source": [
    "Both graph suggested that using the maximum number of features would yeild the best accuracy!"
   ]
  },
  {
   "cell_type": "markdown",
   "metadata": {},
   "source": [
    "<h3>Another appraoch: Removing features with low variance </h3><br> \n",
    "<b>Remove all features that are either one or zero (on or off) in more than 80% of the samples </b>"
   ]
  },
  {
   "cell_type": "code",
   "execution_count": 153,
   "metadata": {
    "collapsed": false
   },
   "outputs": [
    {
     "name": "stdout",
     "output_type": "stream",
     "text": [
      "(120269, 10)\n"
     ]
    }
   ],
   "source": [
    "sel = VarianceThreshold(threshold=(.8 * (1 - .8)))\n",
    "sel.fit_transform(X)\n",
    "print X.shape"
   ]
  },
  {
   "cell_type": "markdown",
   "metadata": {},
   "source": [
    "The shape of X stayed the same. No features was removed after all and all of their variance were above the threshold.<br>\n",
    "I think that it is reasonable to keep all features for model prediction. Although my plan was to proceed model evaluation with selected features, it wouldn't be necessary to go any further.  "
   ]
  },
  {
   "cell_type": "markdown",
   "metadata": {
    "collapsed": true
   },
   "source": [
    "<h2> Results </h2><br>\n",
    "Besides Gaussian NB, Bagging (with GNB as base estimator) and SVM Gaussian Kernel, all models had higher accuracies than the null model which was 0.930514. As far as the AUC measure, all models had greater AUC than the null model which was 0.5. Random Forest had the best predictability; its 10-fold cross-validation accuracy was 0.934048 and AUC was 0.851587. The cross-validation computation of all models except SVM Gaussian Kernel could be finished within a minute. The SVM model took nearly 20 hours to finish the 10-fold cross-validation, but its predictive performace was nearly the worst among all models. I also estimated the importance of each feature using the best model Random Forest. Results showed that each feature was making at least some contribution to model prediction, where the scores of feature importances varid from 0.009875 to 0.295248. After using the SelectKBest method to produce the <i>CV accuracy</i> vs. <i> number of selected features </i> plots, both plots suggested to keep the maximum number of features for the greatest accuracy. I also tried to remove features with variance lower than <i>0.8*(1-0.8)</i>, but none of the features was lower than this threshold. Therefore, I thought that it would be a good stopping point for my analysis and wouldn't proceed the model evaluations with model selection. "
   ]
  }
 ],
 "metadata": {
  "kernelspec": {
   "display_name": "Python 2",
   "language": "python",
   "name": "python2"
  },
  "language_info": {
   "codemirror_mode": {
    "name": "ipython",
    "version": 2
   },
   "file_extension": ".py",
   "mimetype": "text/x-python",
   "name": "python",
   "nbconvert_exporter": "python",
   "pygments_lexer": "ipython2",
   "version": "2.7.10"
  }
 },
 "nbformat": 4,
 "nbformat_minor": 0
}
