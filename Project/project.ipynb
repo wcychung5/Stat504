{
 "cells": [
  {
   "cell_type": "markdown",
   "metadata": {},
   "source": [
    "<h2> Personal Financial distress in the next two years</h2>"
   ]
  },
  {
   "cell_type": "markdown",
   "metadata": {},
   "source": [
    "<h3>Data Source and data description</h3><br>\n",
    "This dataset is originally posted on kaggle.com in 2011. It was collected from 150,000 borrowers who borrowed loans from banks in previous years. There are 11 variables and 150,000 observations in this dataset. The variables are defined as follows, <br><br>\n",
    "<b>response Variable</b>\n",
    "1. SeriousDlqin2yrs - Person experienced 90 days past due delinquency or worse (0 or 1) <br><br>\n",
    "<b>Independent Variables</b>\n",
    "2. RevolvingUtilizationOfUnsecuredLines - Total balance on credit cards and personal lines of credit except real estate and no installment debt like car loans divided by the sum of credit limits (integer) <br>\n",
    "3. Age - Age of borrower in years (integer) <br>\n",
    "4. NumberOfTime30-59DaysPastDueNotWorse - Number of times borrower has been 30-59 days past due but no worse in the last 2 years (integer)<br>\n",
    "5. DebtRatio - Monthly debt payments, alimony,living costs divided by monthy gross income (percentage)<br>\n",
    "6. MonthlyIncome - Monthly income (real) <br>\n",
    "7. NumberOfOpenCreditLinesAndLoans - Number of Open loans (installment like car loan or mortgage) and Lines of credit (e.g. credit cards) (integer) <br>\n",
    "8. NumberOfTimes90DaysLate - Number of times borrower has been 90 days or more past due (integer) <br>\n",
    "9. NumberRealEstateLoansOrLines - Number of mortgage and real estate loans including home equity lines of credit (integer)<br>\n",
    "10. NumberOfTime60-89DaysPastDueNotWorse - Number of times borrower has been 60-89 days past due but no worse in the last 2 years (integer) <br>\n",
    "11. NumberOfDependents - Number of dependents in family excluding themselves (spouse, children etc.) (integer)<br><br>\n",
    "where variables (2) to (11) are the independent variables, and variable (1) is the response variable. "
   ]
  },
  {
   "cell_type": "markdown",
   "metadata": {},
   "source": [
    "<b> The goal of the study was to find the variables and model that would most accurately predict whether a person would or would not experience financial distress in the next two years<br><br>\n",
    "<h3> Models that were used in this study: </h3>\n",
    "1. Gaussian Naive Bayes<br>\n",
    "2. Logistic Regression <br>\n",
    "3. Decision Tree <br>\n",
    "4. (a) Ensemble Bagging (Decision Tree)<br>\n",
    "(b) Ensemble Bagging (GNB)<br>\n",
    "5. Ensemble Random Forest<br>\n",
    "6. Knn <br>\n",
    "7. SVM Gassian Kernel <br>\n",
    "8. Ensemble Voting Machine<br>\n",
    "\n"
   ]
  },
  {
   "cell_type": "code",
   "execution_count": 40,
   "metadata": {
    "collapsed": false
   },
   "outputs": [],
   "source": [
    "import pandas as pd\n",
    "import numpy as np\n",
    "from sklearn.feature_selection import SelectKBest\n",
    "from sklearn.feature_selection import chi2\n",
    "from sklearn.feature_selection import f_classif\n",
    "from sklearn.cross_validation import train_test_split\n",
    "from sklearn.naive_bayes import GaussianNB\n",
    "from sklearn.cross_validation import cross_val_score\n",
    "from sklearn.neighbors import KNeighborsClassifier\n",
    "from sklearn import metrics\n",
    "import time\n",
    "import matplotlib.pyplot as plt\n",
    "from sklearn.linear_model import LogisticRegression\n",
    "from sklearn import svm\n",
    "from sklearn.tree import DecisionTreeClassifier\n",
    "import matplotlib.pyplot as plt\n",
    "from sklearn.ensemble import BaggingClassifier\n",
    "from sklearn.ensemble import RandomForestClassifier\n",
    "from sklearn.cross_validation import KFold\n",
    "import json\n",
    "from pprint import pprint\n",
    "import StringIO\n",
    "from IPython.display import Image\n",
    "from sklearn.feature_extraction.text import CountVectorizer\n",
    "#this module cannot be imported on a Mac, so model 8 Voting Classifier can only be reproduced on Windows or Linux\n",
    "#from sklearn.ensemble import VotingClassifier  \n",
    "import urllib\n",
    "from sklearn.naive_bayes import BernoulliNB\n",
    "import matplotlib.pyplot as plt\n",
    "from astropy.table import Table, Column"
   ]
  },
  {
   "cell_type": "code",
   "execution_count": 117,
   "metadata": {
    "collapsed": false,
    "scrolled": true
   },
   "outputs": [
    {
     "data": {
      "text/html": [
       "<div>\n",
       "<table border=\"1\" class=\"dataframe\">\n",
       "  <thead>\n",
       "    <tr style=\"text-align: right;\">\n",
       "      <th></th>\n",
       "      <th></th>\n",
       "      <th>SeriousDlqin2yrs</th>\n",
       "      <th>RevolvingUtilizationOfUnsecuredLines</th>\n",
       "      <th>age</th>\n",
       "      <th>NumberOfTime30-59DaysPastDueNotWorse</th>\n",
       "      <th>DebtRatio</th>\n",
       "      <th>MonthlyIncome</th>\n",
       "      <th>NumberOfOpenCreditLinesAndLoans</th>\n",
       "      <th>NumberOfTimes90DaysLate</th>\n",
       "      <th>NumberRealEstateLoansOrLines</th>\n",
       "      <th>NumberOfTime60-89DaysPastDueNotWorse</th>\n",
       "      <th>NumberOfDependents</th>\n",
       "    </tr>\n",
       "  </thead>\n",
       "  <tbody>\n",
       "    <tr>\n",
       "      <th>0</th>\n",
       "      <td>1</td>\n",
       "      <td>1</td>\n",
       "      <td>0.766127</td>\n",
       "      <td>45</td>\n",
       "      <td>2</td>\n",
       "      <td>0.802982</td>\n",
       "      <td>9120</td>\n",
       "      <td>13</td>\n",
       "      <td>0</td>\n",
       "      <td>6</td>\n",
       "      <td>0</td>\n",
       "      <td>2</td>\n",
       "    </tr>\n",
       "    <tr>\n",
       "      <th>1</th>\n",
       "      <td>2</td>\n",
       "      <td>0</td>\n",
       "      <td>0.957151</td>\n",
       "      <td>40</td>\n",
       "      <td>0</td>\n",
       "      <td>0.121876</td>\n",
       "      <td>2600</td>\n",
       "      <td>4</td>\n",
       "      <td>0</td>\n",
       "      <td>0</td>\n",
       "      <td>0</td>\n",
       "      <td>1</td>\n",
       "    </tr>\n",
       "    <tr>\n",
       "      <th>2</th>\n",
       "      <td>3</td>\n",
       "      <td>0</td>\n",
       "      <td>0.658180</td>\n",
       "      <td>38</td>\n",
       "      <td>1</td>\n",
       "      <td>0.085113</td>\n",
       "      <td>3042</td>\n",
       "      <td>2</td>\n",
       "      <td>1</td>\n",
       "      <td>0</td>\n",
       "      <td>0</td>\n",
       "      <td>0</td>\n",
       "    </tr>\n",
       "    <tr>\n",
       "      <th>3</th>\n",
       "      <td>4</td>\n",
       "      <td>0</td>\n",
       "      <td>0.233810</td>\n",
       "      <td>30</td>\n",
       "      <td>0</td>\n",
       "      <td>0.036050</td>\n",
       "      <td>3300</td>\n",
       "      <td>5</td>\n",
       "      <td>0</td>\n",
       "      <td>0</td>\n",
       "      <td>0</td>\n",
       "      <td>0</td>\n",
       "    </tr>\n",
       "    <tr>\n",
       "      <th>4</th>\n",
       "      <td>5</td>\n",
       "      <td>0</td>\n",
       "      <td>0.907239</td>\n",
       "      <td>49</td>\n",
       "      <td>1</td>\n",
       "      <td>0.024926</td>\n",
       "      <td>63588</td>\n",
       "      <td>7</td>\n",
       "      <td>0</td>\n",
       "      <td>1</td>\n",
       "      <td>0</td>\n",
       "      <td>0</td>\n",
       "    </tr>\n",
       "  </tbody>\n",
       "</table>\n",
       "</div>"
      ],
      "text/plain": [
       "      SeriousDlqin2yrs  RevolvingUtilizationOfUnsecuredLines  age  \\\n",
       "0  1                 1                              0.766127   45   \n",
       "1  2                 0                              0.957151   40   \n",
       "2  3                 0                              0.658180   38   \n",
       "3  4                 0                              0.233810   30   \n",
       "4  5                 0                              0.907239   49   \n",
       "\n",
       "   NumberOfTime30-59DaysPastDueNotWorse  DebtRatio  MonthlyIncome  \\\n",
       "0                                     2   0.802982           9120   \n",
       "1                                     0   0.121876           2600   \n",
       "2                                     1   0.085113           3042   \n",
       "3                                     0   0.036050           3300   \n",
       "4                                     1   0.024926          63588   \n",
       "\n",
       "   NumberOfOpenCreditLinesAndLoans  NumberOfTimes90DaysLate  \\\n",
       "0                               13                        0   \n",
       "1                                4                        0   \n",
       "2                                2                        1   \n",
       "3                                5                        0   \n",
       "4                                7                        0   \n",
       "\n",
       "   NumberRealEstateLoansOrLines  NumberOfTime60-89DaysPastDueNotWorse  \\\n",
       "0                             6                                     0   \n",
       "1                             0                                     0   \n",
       "2                             0                                     0   \n",
       "3                             0                                     0   \n",
       "4                             1                                     0   \n",
       "\n",
       "   NumberOfDependents  \n",
       "0                   2  \n",
       "1                   1  \n",
       "2                   0  \n",
       "3                   0  \n",
       "4                   0  "
      ]
     },
     "execution_count": 117,
     "metadata": {},
     "output_type": "execute_result"
    }
   ],
   "source": [
    "data = pd.read_csv('/Users/chungyanwan/Desktop/Fall 2015/Stat504/project/cs-training.csv')\n",
    "data.head()"
   ]
  },
  {
   "cell_type": "markdown",
   "metadata": {},
   "source": [
    "<b>Information about the data (some values are missing)</b>"
   ]
  },
  {
   "cell_type": "code",
   "execution_count": 118,
   "metadata": {
    "collapsed": false
   },
   "outputs": [
    {
     "name": "stdout",
     "output_type": "stream",
     "text": [
      "<class 'pandas.core.frame.DataFrame'>\n",
      "<class 'pandas.core.frame.DataFrame'>\n",
      "Int64Index: 150000 entries, 0 to 149999\n",
      "Data columns (total 12 columns):\n",
      "                                        150000 non-null int64\n",
      "SeriousDlqin2yrs                        150000 non-null int64\n",
      "RevolvingUtilizationOfUnsecuredLines    150000 non-null float64\n",
      "age                                     150000 non-null int64\n",
      "NumberOfTime30-59DaysPastDueNotWorse    150000 non-null int64\n",
      "DebtRatio                               150000 non-null float64\n",
      "MonthlyIncome                           120269 non-null float64\n",
      "NumberOfOpenCreditLinesAndLoans         150000 non-null int64\n",
      "NumberOfTimes90DaysLate                 150000 non-null int64\n",
      "NumberRealEstateLoansOrLines            150000 non-null int64\n",
      "NumberOfTime60-89DaysPastDueNotWorse    150000 non-null int64\n",
      "NumberOfDependents                      146076 non-null float64\n",
      "dtypes: float64(4), int64(8)\n",
      "memory usage: 14.9 MB\n"
     ]
    }
   ],
   "source": [
    "print type(data)\n",
    "data.info()"
   ]
  },
  {
   "cell_type": "code",
   "execution_count": 119,
   "metadata": {
    "collapsed": false
   },
   "outputs": [
    {
     "data": {
      "text/html": [
       "<div>\n",
       "<table border=\"1\" class=\"dataframe\">\n",
       "  <thead>\n",
       "    <tr style=\"text-align: right;\">\n",
       "      <th></th>\n",
       "      <th></th>\n",
       "      <th>SeriousDlqin2yrs</th>\n",
       "      <th>RevolvingUtilizationOfUnsecuredLines</th>\n",
       "      <th>age</th>\n",
       "      <th>NumberOfTime30-59DaysPastDueNotWorse</th>\n",
       "      <th>DebtRatio</th>\n",
       "      <th>MonthlyIncome</th>\n",
       "      <th>NumberOfOpenCreditLinesAndLoans</th>\n",
       "      <th>NumberOfTimes90DaysLate</th>\n",
       "      <th>NumberRealEstateLoansOrLines</th>\n",
       "      <th>NumberOfTime60-89DaysPastDueNotWorse</th>\n",
       "      <th>NumberOfDependents</th>\n",
       "    </tr>\n",
       "  </thead>\n",
       "  <tbody>\n",
       "    <tr>\n",
       "      <th>count</th>\n",
       "      <td>150000.000000</td>\n",
       "      <td>150000.000000</td>\n",
       "      <td>150000.000000</td>\n",
       "      <td>150000.000000</td>\n",
       "      <td>150000.000000</td>\n",
       "      <td>150000.000000</td>\n",
       "      <td>120269.000000</td>\n",
       "      <td>150000.000000</td>\n",
       "      <td>150000.000000</td>\n",
       "      <td>150000.000000</td>\n",
       "      <td>150000.000000</td>\n",
       "      <td>146076.000000</td>\n",
       "    </tr>\n",
       "    <tr>\n",
       "      <th>mean</th>\n",
       "      <td>75000.500000</td>\n",
       "      <td>0.066840</td>\n",
       "      <td>6.048438</td>\n",
       "      <td>52.295207</td>\n",
       "      <td>0.421033</td>\n",
       "      <td>353.005076</td>\n",
       "      <td>6670.221237</td>\n",
       "      <td>8.452760</td>\n",
       "      <td>0.265973</td>\n",
       "      <td>1.018240</td>\n",
       "      <td>0.240387</td>\n",
       "      <td>0.757222</td>\n",
       "    </tr>\n",
       "    <tr>\n",
       "      <th>std</th>\n",
       "      <td>43301.414527</td>\n",
       "      <td>0.249746</td>\n",
       "      <td>249.755371</td>\n",
       "      <td>14.771866</td>\n",
       "      <td>4.192781</td>\n",
       "      <td>2037.818523</td>\n",
       "      <td>14384.674215</td>\n",
       "      <td>5.145951</td>\n",
       "      <td>4.169304</td>\n",
       "      <td>1.129771</td>\n",
       "      <td>4.155179</td>\n",
       "      <td>1.115086</td>\n",
       "    </tr>\n",
       "    <tr>\n",
       "      <th>min</th>\n",
       "      <td>1.000000</td>\n",
       "      <td>0.000000</td>\n",
       "      <td>0.000000</td>\n",
       "      <td>0.000000</td>\n",
       "      <td>0.000000</td>\n",
       "      <td>0.000000</td>\n",
       "      <td>0.000000</td>\n",
       "      <td>0.000000</td>\n",
       "      <td>0.000000</td>\n",
       "      <td>0.000000</td>\n",
       "      <td>0.000000</td>\n",
       "      <td>0.000000</td>\n",
       "    </tr>\n",
       "    <tr>\n",
       "      <th>25%</th>\n",
       "      <td>37500.750000</td>\n",
       "      <td>0.000000</td>\n",
       "      <td>0.029867</td>\n",
       "      <td>41.000000</td>\n",
       "      <td>0.000000</td>\n",
       "      <td>0.175074</td>\n",
       "      <td>3400.000000</td>\n",
       "      <td>5.000000</td>\n",
       "      <td>0.000000</td>\n",
       "      <td>0.000000</td>\n",
       "      <td>0.000000</td>\n",
       "      <td>0.000000</td>\n",
       "    </tr>\n",
       "    <tr>\n",
       "      <th>50%</th>\n",
       "      <td>75000.500000</td>\n",
       "      <td>0.000000</td>\n",
       "      <td>0.154181</td>\n",
       "      <td>52.000000</td>\n",
       "      <td>0.000000</td>\n",
       "      <td>0.366508</td>\n",
       "      <td>5400.000000</td>\n",
       "      <td>8.000000</td>\n",
       "      <td>0.000000</td>\n",
       "      <td>1.000000</td>\n",
       "      <td>0.000000</td>\n",
       "      <td>0.000000</td>\n",
       "    </tr>\n",
       "    <tr>\n",
       "      <th>75%</th>\n",
       "      <td>112500.250000</td>\n",
       "      <td>0.000000</td>\n",
       "      <td>0.559046</td>\n",
       "      <td>63.000000</td>\n",
       "      <td>0.000000</td>\n",
       "      <td>0.868254</td>\n",
       "      <td>8249.000000</td>\n",
       "      <td>11.000000</td>\n",
       "      <td>0.000000</td>\n",
       "      <td>2.000000</td>\n",
       "      <td>0.000000</td>\n",
       "      <td>1.000000</td>\n",
       "    </tr>\n",
       "    <tr>\n",
       "      <th>max</th>\n",
       "      <td>150000.000000</td>\n",
       "      <td>1.000000</td>\n",
       "      <td>50708.000000</td>\n",
       "      <td>109.000000</td>\n",
       "      <td>98.000000</td>\n",
       "      <td>329664.000000</td>\n",
       "      <td>3008750.000000</td>\n",
       "      <td>58.000000</td>\n",
       "      <td>98.000000</td>\n",
       "      <td>54.000000</td>\n",
       "      <td>98.000000</td>\n",
       "      <td>20.000000</td>\n",
       "    </tr>\n",
       "  </tbody>\n",
       "</table>\n",
       "</div>"
      ],
      "text/plain": [
       "                      SeriousDlqin2yrs  RevolvingUtilizationOfUnsecuredLines  \\\n",
       "count  150000.000000     150000.000000                         150000.000000   \n",
       "mean    75000.500000          0.066840                              6.048438   \n",
       "std     43301.414527          0.249746                            249.755371   \n",
       "min         1.000000          0.000000                              0.000000   \n",
       "25%     37500.750000          0.000000                              0.029867   \n",
       "50%     75000.500000          0.000000                              0.154181   \n",
       "75%    112500.250000          0.000000                              0.559046   \n",
       "max    150000.000000          1.000000                          50708.000000   \n",
       "\n",
       "                 age  NumberOfTime30-59DaysPastDueNotWorse      DebtRatio  \\\n",
       "count  150000.000000                         150000.000000  150000.000000   \n",
       "mean       52.295207                              0.421033     353.005076   \n",
       "std        14.771866                              4.192781    2037.818523   \n",
       "min         0.000000                              0.000000       0.000000   \n",
       "25%        41.000000                              0.000000       0.175074   \n",
       "50%        52.000000                              0.000000       0.366508   \n",
       "75%        63.000000                              0.000000       0.868254   \n",
       "max       109.000000                             98.000000  329664.000000   \n",
       "\n",
       "        MonthlyIncome  NumberOfOpenCreditLinesAndLoans  \\\n",
       "count   120269.000000                    150000.000000   \n",
       "mean      6670.221237                         8.452760   \n",
       "std      14384.674215                         5.145951   \n",
       "min          0.000000                         0.000000   \n",
       "25%       3400.000000                         5.000000   \n",
       "50%       5400.000000                         8.000000   \n",
       "75%       8249.000000                        11.000000   \n",
       "max    3008750.000000                        58.000000   \n",
       "\n",
       "       NumberOfTimes90DaysLate  NumberRealEstateLoansOrLines  \\\n",
       "count            150000.000000                 150000.000000   \n",
       "mean                  0.265973                      1.018240   \n",
       "std                   4.169304                      1.129771   \n",
       "min                   0.000000                      0.000000   \n",
       "25%                   0.000000                      0.000000   \n",
       "50%                   0.000000                      1.000000   \n",
       "75%                   0.000000                      2.000000   \n",
       "max                  98.000000                     54.000000   \n",
       "\n",
       "       NumberOfTime60-89DaysPastDueNotWorse  NumberOfDependents  \n",
       "count                         150000.000000       146076.000000  \n",
       "mean                               0.240387            0.757222  \n",
       "std                                4.155179            1.115086  \n",
       "min                                0.000000            0.000000  \n",
       "25%                                0.000000            0.000000  \n",
       "50%                                0.000000            0.000000  \n",
       "75%                                0.000000            1.000000  \n",
       "max                               98.000000           20.000000  "
      ]
     },
     "execution_count": 119,
     "metadata": {},
     "output_type": "execute_result"
    }
   ],
   "source": [
    "data.describe()"
   ]
  },
  {
   "cell_type": "code",
   "execution_count": 120,
   "metadata": {
    "collapsed": false
   },
   "outputs": [
    {
     "data": {
      "text/plain": [
       "(120269, 11)"
      ]
     },
     "execution_count": 120,
     "metadata": {},
     "output_type": "execute_result"
    }
   ],
   "source": [
    "#drop any row that has missing values\n",
    "data = data.dropna()\n",
    "#drop the index column\n",
    "data = data.drop(data.columns[0], axis=1)\n",
    "data.shape"
   ]
  },
  {
   "cell_type": "markdown",
   "metadata": {},
   "source": [
    "<b>Graphical visualizations of the data </b>"
   ]
  },
  {
   "cell_type": "code",
   "execution_count": 45,
   "metadata": {
    "collapsed": false
   },
   "outputs": [
    {
     "data": {
      "text/plain": [
       "<matplotlib.text.Text at 0x109e00c50>"
      ]
     },
     "execution_count": 45,
     "metadata": {},
     "output_type": "execute_result"
    },
    {
     "data": {
      "image/png": "[encoded data removed]",
      "text/plain": [
       "<matplotlib.figure.Figure at 0x101c06ed0>"
      ]
     },
     "metadata": {},
     "output_type": "display_data"
    }
   ],
   "source": [
    "%matplotlib inline\n",
    "plt.hist(data[data['SeriousDlqin2yrs'] ==1]['age'])\n",
    "plt.title(\"Age of People who experienced serious financial destress\")\n",
    "plt.xlabel(\"Age\")\n",
    "plt.ylabel(\"Frequency\")"
   ]
  },
  {
   "cell_type": "code",
   "execution_count": 46,
   "metadata": {
    "collapsed": false
   },
   "outputs": [
    {
     "data": {
      "text/plain": [
       "<matplotlib.text.Text at 0x109fffd50>"
      ]
     },
     "execution_count": 46,
     "metadata": {},
     "output_type": "execute_result"
    },
    {
     "data": {
      "image/png": "[encoded data removed]",
      "text/plain": [
       "<matplotlib.figure.Figure at 0x109dfa290>"
      ]
     },
     "metadata": {},
     "output_type": "display_data"
    }
   ],
   "source": [
    "%matplotlib inline\n",
    "plt.hist(data[data['SeriousDlqin2yrs'] ==1]['NumberOfOpenCreditLinesAndLoans'])\n",
    "plt.title(\"Number of Open loans of People who experienced serious financial destress\")\n",
    "plt.xlabel(\"Number of Open loans\")\n",
    "plt.ylabel(\"Frequency\")"
   ]
  },
  {
   "cell_type": "code",
   "execution_count": 47,
   "metadata": {
    "collapsed": false
   },
   "outputs": [
    {
     "data": {
      "text/plain": [
       "<matplotlib.text.Text at 0x10bb37890>"
      ]
     },
     "execution_count": 47,
     "metadata": {},
     "output_type": "execute_result"
    },
    {
     "data": {
      "image/png": "[encoded data removed]",
      "text/plain": [
       "<matplotlib.figure.Figure at 0x10b1660d0>"
      ]
     },
     "metadata": {},
     "output_type": "display_data"
    }
   ],
   "source": [
    "%matplotlib inline\n",
    "plt.hist(data[data['SeriousDlqin2yrs'] ==1]['NumberOfDependents'])\n",
    "plt.title(\"Number Of Dependents of People who experienced serious financial destress\")\n",
    "plt.xlabel(\"Number Of Dependents\")\n",
    "plt.ylabel(\"Frequency\")\n",
    "#plt.xlim([0.0, 3000.0])"
   ]
  },
  {
   "cell_type": "markdown",
   "metadata": {},
   "source": [
    "<b> Set up subsets X and y, and split them into train and test<b>"
   ]
  },
  {
   "cell_type": "code",
   "execution_count": 48,
   "metadata": {
    "collapsed": false
   },
   "outputs": [],
   "source": [
    "X = data.drop('SeriousDlqin2yrs', axis=1)\n",
    "y = data['SeriousDlqin2yrs']\n",
    "X_train, X_test, y_train, y_test = train_test_split(X, y, random_state=1234567)"
   ]
  },
  {
   "cell_type": "markdown",
   "metadata": {},
   "source": [
    "<h2>Null Model</h2>"
   ]
  },
  {
   "cell_type": "code",
   "execution_count": 49,
   "metadata": {
    "collapsed": false
   },
   "outputs": [
    {
     "name": "stdout",
     "output_type": "stream",
     "text": [
      "Number of people who have financial distress: 8357\n",
      "Null model accuracy: 0.930514\n",
      "Null model AUC: 0.500000\n"
     ]
    }
   ],
   "source": [
    "#null model and its accuracy\n",
    "distress_y = np.count_nonzero(y)\n",
    "print 'Number of people who have financial distress: %d' %distress_y\n",
    "# total observation is 120269, and distress_y = 8357, so the null model is all zeros. \n",
    "null_ypred = np.ones(120269)\n",
    "null_score = 1 - 8357/120269.0\n",
    "print ('Null model accuracy: %f' %null_score)\n",
    "null_auc = metrics.roc_auc_score(y, null_ypred)\n",
    "print ('Null model AUC: %f' %null_auc)"
   ]
  },
  {
   "cell_type": "markdown",
   "metadata": {},
   "source": [
    "<h1>Part 1: Model Evaluation Using All Features</h1>"
   ]
  },
  {
   "cell_type": "markdown",
   "metadata": {},
   "source": [
    "<h2>Model 1: Gaussian Naive Bayes</h2>"
   ]
  },
  {
   "cell_type": "code",
   "execution_count": 50,
   "metadata": {
    "collapsed": false
   },
   "outputs": [
    {
     "name": "stdout",
     "output_type": "stream",
     "text": [
      "Gaussian NB average accracy: 0.929466\n",
      "Gaussian NB average AUC: 0.717931\n",
      "Computational time (in second): 2.899693\n"
     ]
    }
   ],
   "source": [
    "# 10-fold cross-validation for GaussianNB \n",
    "m1_start = time.time()\n",
    "gnb = GaussianNB()\n",
    "m1_scores = cross_val_score(gnb, X, y, cv=10, scoring='accuracy')\n",
    "# use average accuracy as an estimate of out-of-sample accuracy\n",
    "print (\"Gaussian NB average accracy: %f\" %m1_scores.mean())\n",
    "m1_auc = cross_val_score(gnb, X, y, cv=10, scoring='roc_auc')\n",
    "print (\"Gaussian NB average AUC: %f\" %m1_auc.mean())\n",
    "m1_end = time.time()\n",
    "m1_time = m1_end - m1_start \n",
    "print (\"Computation time (in second): %f\"\n",
    "      % m1_time)"
   ]
  },
  {
   "cell_type": "markdown",
   "metadata": {},
   "source": [
    "<h2> Model 2: Logistcl Regression </h2>"
   ]
  },
  {
   "cell_type": "code",
   "execution_count": 51,
   "metadata": {
    "collapsed": false
   },
   "outputs": [
    {
     "name": "stdout",
     "output_type": "stream",
     "text": [
      "Logistic regression average accracy: 0.930805\n",
      "Logistic regression average auc: 0.676303\n",
      "Computational time (in second): 26.495750\n"
     ]
    }
   ],
   "source": [
    "#10-fold cross-validation for logreg\n",
    "m2_start = time.time()\n",
    "logreg = LogisticRegression(C=1e9)\n",
    "m2_scores = cross_val_score(logreg, X, y, cv=10, scoring='accuracy')\n",
    "# use average accuracy as an estimate of out-of-sample accuracy\n",
    "print (\"Logistic regression average accracy: %f\" %m2_scores.mean())\n",
    "m2_auc = cross_val_score(logreg, X, y, cv=10, scoring='roc_auc')\n",
    "print (\"Logistic regression average auc: %f\" %m2_auc.mean())\n",
    "m2_end = time.time()\n",
    "m2_time = m2_end - m2_start \n",
    "print (\"Computation time (in second): %f\" % m2_time)"
   ]
  },
  {
   "cell_type": "markdown",
   "metadata": {},
   "source": [
    "<h2>Model 3: Decision Tree Classifier </h2>"
   ]
  },
  {
   "cell_type": "markdown",
   "metadata": {},
   "source": [
    "<b>Parameter tunning: max_depth </b>"
   ]
  },
  {
   "cell_type": "code",
   "execution_count": 52,
   "metadata": {
    "collapsed": false
   },
   "outputs": [
    {
     "name": "stdout",
     "output_type": "stream",
     "text": [
      "Computational time : 244.110826\n",
      "Index of the best score:\n"
     ]
    },
    {
     "data": {
      "text/plain": [
       "(array([4]),)"
      ]
     },
     "execution_count": 52,
     "metadata": {},
     "output_type": "execute_result"
    }
   ],
   "source": [
    "# search for an optimal value of max_depth for treeclf\n",
    "tune1_start = time.time()\n",
    "d_range = range(1,30)\n",
    "d_scores = []\n",
    "for d in d_range:\n",
    "    treeclf = DecisionTreeClassifier(max_depth=d)\n",
    "    scores = cross_val_score(treeclf, X, y, cv=10, scoring='accuracy')\n",
    "    d_scores.append(scores.mean())\n",
    "tune1_end = time.time()\n",
    "print \"Computation time : %f\" % (tune1_end - tune1_start)\n",
    "print \"Index of the best score:\" \n",
    "np.where(d_scores == max(d_scores))"
   ]
  },
  {
   "cell_type": "code",
   "execution_count": 53,
   "metadata": {
    "collapsed": false
   },
   "outputs": [
    {
     "data": {
      "text/plain": [
       "<matplotlib.text.Text at 0x10bc16490>"
      ]
     },
     "execution_count": 53,
     "metadata": {},
     "output_type": "execute_result"
    },
    {
     "data": {
      "image/png": "[encoded data removed]",
      "text/plain": [
       "<matplotlib.figure.Figure at 0x10395e4d0>"
      ]
     },
     "metadata": {},
     "output_type": "display_data"
    }
   ],
   "source": [
    "%matplotlib inline\n",
    "# plot the value of d for treeclf (x-axis) versus the cross-validated accuracy (y-axis)\n",
    "plt.plot(d_range, d_scores)\n",
    "plt.xlabel('Value of d for depth')\n",
    "plt.ylabel('Cross-Validated Accuracy')"
   ]
  },
  {
   "cell_type": "markdown",
   "metadata": {},
   "source": [
    "<b> Average accuracy and AUC </b>"
   ]
  },
  {
   "cell_type": "code",
   "execution_count": 54,
   "metadata": {
    "collapsed": false
   },
   "outputs": [
    {
     "name": "stdout",
     "output_type": "stream",
     "text": [
      "Decision Tree average accuracy: 0.933383\n",
      "Decision Tree averageAUC: 0.831738\n",
      "Computational time (in second): 7.638862\n"
     ]
    }
   ],
   "source": [
    "# 10-fold cross-validation for Decision Tree with the optimal max depth (previously found max_depth=4)\n",
    "m3_start = time.time()\n",
    "treeclf = DecisionTreeClassifier(max_depth = 5)\n",
    "m3_scores = cross_val_score(treeclf, X, y, cv=10, scoring='accuracy').mean()\n",
    "# use average accuracy as an estimate of out-of-sample accuracy\n",
    "print (\"Decision Tree average accuracy: %f\" % m3_scores.mean())\n",
    "m3_auc = cross_val_score(treeclf, X, y, cv=10, scoring='roc_auc')\n",
    "print (\"Decision Tree averageAUC: %f\" % m3_auc.mean())\n",
    "m3_end = time.time()\n",
    "m3_time = m3_end - m3_start\n",
    "print (\"Computation time (in second): %f\" % m3_time)"
   ]
  },
  {
   "cell_type": "markdown",
   "metadata": {},
   "source": [
    "<h2> Model 4.1: Ensemble Bagging (use Decision Tree as the base estimator)</h2>"
   ]
  },
  {
   "cell_type": "markdown",
   "metadata": {},
   "source": [
    "<b> Parameter tuning: n_estimator and max_samples </b>"
   ]
  },
  {
   "cell_type": "code",
   "execution_count": 81,
   "metadata": {
    "collapsed": false
   },
   "outputs": [
    {
     "name": "stdout",
     "output_type": "stream",
     "text": [
      "Computational time : 1347.007179\n",
      "Index of the best score: \n"
     ]
    },
    {
     "data": {
      "text/plain": [
       "(array([19]), array([18]))"
      ]
     },
     "execution_count": 81,
     "metadata": {},
     "output_type": "execute_result"
    }
   ],
   "source": [
    "# search for an optimal values of n_estimator and max_samples for bagging\n",
    "tune4_start = time.time()\n",
    "est_range = range(1,21)  \n",
    "sam_range = range(100,2001,100)\n",
    "tune4_scores = np.empty(shape=[20,20])\n",
    "i = 0\n",
    "for est in est_range:\n",
    "    for sam in sam_range:\n",
    "        bag = BaggingClassifier(n_estimators=est, max_samples=sam)\n",
    "        scores = cross_val_score(bag, X, y, cv=10, scoring='accuracy')\n",
    "        tune4_scores[est-1, i] = scores.mean()\n",
    "        i = i+1\n",
    "    i = 0\n",
    "tune4_end = time.time()\n",
    "print (\"Computation time : %f\" % (tune4_end - tune4_start))\n",
    "print \"Index of the best score: \"\n",
    "np.where(tune4_scores == tune4_scores.max())"
   ]
  },
  {
   "cell_type": "code",
   "execution_count": 82,
   "metadata": {
    "collapsed": false
   },
   "outputs": [
    {
     "data": {
      "text/plain": [
       "<matplotlib.legend.Legend at 0x10a5d60d0>"
      ]
     },
     "execution_count": 82,
     "metadata": {},
     "output_type": "execute_result"
    },
    {
     "data": {
      "image/png": "[encoded data removed]",
      "text/plain": [
       "<matplotlib.figure.Figure at 0x10a52e210>"
      ]
     },
     "metadata": {},
     "output_type": "display_data"
    }
   ],
   "source": [
    "%matplotlib inline\n",
    "# plot the value of max_samples for bagging (x-axis) versus the cross-validated accuracy (y-axis)\n",
    "# each line represents a different value of n_estimators\n",
    "plt.plot(sam_range, tune4_scores[0,:],'r', label ='n_est=1')\n",
    "plt.plot(sam_range, tune4_scores[4,:],'g',label = 'n_est=5')\n",
    "plt.plot(sam_range, tune4_scores[9,:],'b',label = 'n_est=10')\n",
    "plt.plot(sam_range, tune4_scores[14,:],'c', label ='n_est=15')\n",
    "plt.plot(sam_range, tune4_scores[19,:],'m',label = 'n_est=20')\n",
    "plt.xlabel('Value of Max_samples for Bagging')\n",
    "plt.ylabel('Cross-Validated Accuracy')\n",
    "plt.legend(bbox_to_anchor=(1, 1), loc=2, borderaxespad=0.)"
   ]
  },
  {
   "cell_type": "markdown",
   "metadata": {},
   "source": [
    "<b> Average accuracy and AUC </b>"
   ]
  },
  {
   "cell_type": "code",
   "execution_count": 84,
   "metadata": {
    "collapsed": false
   },
   "outputs": [
    {
     "name": "stdout",
     "output_type": "stream",
     "text": [
      "Bagging average acurracy: 0.932659\n",
      "Bagging average AUC: 0.811993\n",
      "Computation time (in second): 14.602276\n"
     ]
    }
   ],
   "source": [
    "# 10-fold cross-validation for Bagging using Decision Tree as the base estimator \n",
    "# previously found n_estimators=20, max_samples=1900\n",
    "m4a_start = time.time()\n",
    "bag = BaggingClassifier(n_estimators=20, max_samples=1900)\n",
    "m4a_scores = cross_val_score(bag, X, y, cv=10, scoring='accuracy').mean()\n",
    "# use average accuracy as an estimate of out-of-sample accuracy\n",
    "print (\"Bagging average acurracy: %f\" % m4a_scores.mean())\n",
    "m4a_auc = cross_val_score(bag, X, y, cv=10, scoring='roc_auc')\n",
    "print (\"Bagging average AUC: %f\" % m4a_auc.mean())\n",
    "m4a_end = time.time()\n",
    "m4a_time = m4a_end - m4a_start\n",
    "print (\"Computation time (in second): %f\" % m4a_time)"
   ]
  },
  {
   "cell_type": "markdown",
   "metadata": {},
   "source": [
    "<h2> Model 4.2: Ensemble Bagging (use Gaussian NB as the base estimator)</h2>"
   ]
  },
  {
   "cell_type": "markdown",
   "metadata": {},
   "source": [
    "<b> Parameter tuning: n_estimator and max_samples  <span style=\"color:red\">Error!!</span></b>"
   ]
  },
  {
   "cell_type": "code",
   "execution_count": 79,
   "metadata": {
    "collapsed": false
   },
   "outputs": [
    {
     "name": "stdout",
     "output_type": "stream",
     "text": [
      "Computational time : 565.843930\n",
      "Index of the best score: \n"
     ]
    },
    {
     "data": {
      "text/plain": [
       "(array([], dtype=int64), array([], dtype=int64))"
      ]
     },
     "execution_count": 79,
     "metadata": {},
     "output_type": "execute_result"
    }
   ],
   "source": [
    "# search for an optimal values of n_estimator and max_samples for bagging using GNB as the base estimator \n",
    "# the accuracy didn't look right! All of them are about zero???!!!\n",
    "tune4b_start = time.time()\n",
    "gnb = GaussianNB()\n",
    "est_range = range(1,21)  \n",
    "sam_range = range(100,2001,100)\n",
    "tune4b_scores = np.empty(shape=[20,20])\n",
    "i = 0\n",
    "for est in est_range:\n",
    "    for sam in sam_range:\n",
    "        bag = BaggingClassifier(base_estimator= gnb, n_estimators=est, max_samples=sam)\n",
    "        scores = cross_val_score(bag, X, y, cv=10, scoring='accuracy')\n",
    "        tune4_scores[est-1, i] = scores.mean()\n",
    "        i = i+1\n",
    "    i = 0\n",
    "tune4b_end = time.time()\n",
    "print (\"Computation time : %f\" % (tune4b_end - tune4b_start))\n",
    "print \"Index of the best score: \"\n",
    "np.where(tune4b_scores == tune4b_scores.max())"
   ]
  },
  {
   "cell_type": "code",
   "execution_count": 80,
   "metadata": {
    "collapsed": false
   },
   "outputs": [
    {
     "data": {
      "text/plain": [
       "array([[  0.00000000e+000,   0.00000000e+000,   1.52962724e-320,\n",
       "                      nan,   4.96010633e+180,   1.67494825e+243,\n",
       "          9.77824556e+199,   4.26137297e+257,   4.93080042e+151,\n",
       "          7.72490541e+228,   2.04746498e+161,   3.68777421e+180,\n",
       "          1.27422919e+161,   1.47715343e+248,   2.73061382e-153,\n",
       "          4.72094421e+164,   9.78377888e+199,   6.85610327e-140,\n",
       "          5.85097037e+170,   4.81440921e+199],\n",
       "       [  5.95505350e+228,   1.59602216e-147,   1.33856861e-152,\n",
       "          4.76660068e+180,   1.86681669e+280,   4.21509338e-149,\n",
       "          1.17453851e+165,   2.92297214e-014,   9.65483556e+199,\n",
       "          1.40060899e+166,   1.36052382e+248,   1.02262668e-259,\n",
       "          1.69201560e+190,   1.69201539e+190,   9.39459006e-154,\n",
       "          2.58304612e+161,   2.54834402e+161,   7.57881477e-096,\n",
       "          1.39837537e-076,   1.17453851e+165],\n",
       "       [  2.31462473e-152,   3.65093134e+233,   4.24819624e+180,\n",
       "          7.71481296e+140,   1.31101780e-259,   2.44046000e-152,\n",
       "          8.38966530e+242,   5.98157195e-154,   2.68904944e+161,\n",
       "          7.69972419e+218,   2.14597010e-259,   6.01347002e-154,\n",
       "          3.18543003e+160,   1.98678339e+161,   7.47013314e-114,\n",
       "          8.88767688e+252,   2.19625858e-153,   2.03781273e+180,\n",
       "          1.67791843e+243,   4.46041198e+217],\n",
       "       [  2.21208738e+214,   1.03360227e-259,   6.01347002e-154,\n",
       "          2.92224320e-014,   1.54742792e+262,   4.78104882e+180,\n",
       "          4.51794456e-095,   1.66751558e-071,   8.81947839e+199,\n",
       "          2.91114493e+257,   2.43894814e-154,   2.30908182e+251,\n",
       "          3.68622062e+228,   1.00394718e-089,   2.17234804e-153,\n",
       "          8.39779202e+217,   5.98147386e-154,   1.49915574e-152,\n",
       "          5.98151944e-154,   1.31101780e-259],\n",
       "       [  2.03479354e+180,   1.12314640e+219,   2.02886803e-110,\n",
       "          2.08806750e-115,   2.87631681e+161,   2.35173539e+251,\n",
       "          1.12207612e+184,   1.24079418e+224,   1.21906486e-152,\n",
       "          1.17453851e+165,   2.11691046e-110,   2.63551172e-144,\n",
       "          2.64522332e+185,   7.47551843e+247,   2.16559481e-027,\n",
       "          1.69222040e+195,   3.94966500e+180,   4.78104882e+180,\n",
       "          1.24078722e+224,   1.67439066e+243],\n",
       "       [  2.03502509e-110,   2.12406934e-314,   6.08589323e-190,\n",
       "          2.20789375e-314,   2.12407432e-314,   0.00000000e+000,\n",
       "          0.00000000e+000,   0.00000000e+000,   1.98705769e-100,\n",
       "          2.20789467e-314,   2.12407453e-314,   0.00000000e+000,\n",
       "          0.00000000e+000,   0.00000000e+000,   0.00000000e+000,\n",
       "          0.00000000e+000,   0.00000000e+000,   0.00000000e+000,\n",
       "          0.00000000e+000,   0.00000000e+000],\n",
       "       [  0.00000000e+000,   0.00000000e+000,   0.00000000e+000,\n",
       "          0.00000000e+000,   0.00000000e+000,   0.00000000e+000,\n",
       "          0.00000000e+000,   0.00000000e+000,   0.00000000e+000,\n",
       "         -7.55887674e+014,   2.20789546e-314,   2.12407447e-314,\n",
       "          0.00000000e+000,   0.00000000e+000,   0.00000000e+000,\n",
       "          0.00000000e+000,   0.00000000e+000,   0.00000000e+000,\n",
       "         -8.52595223e-011,   2.20789421e-314],\n",
       "       [  2.12407458e-314,   0.00000000e+000,   0.00000000e+000,\n",
       "          0.00000000e+000,   0.00000000e+000,   0.00000000e+000,\n",
       "          0.00000000e+000,   0.00000000e+000,   0.00000000e+000,\n",
       "          0.00000000e+000,  -4.57300542e+275,   2.20789542e-314,\n",
       "          2.12407440e-314,   0.00000000e+000,   0.00000000e+000,\n",
       "          0.00000000e+000,   0.00000000e+000,   0.00000000e+000,\n",
       "          0.00000000e+000,   0.00000000e+000],\n",
       "       [  0.00000000e+000,   0.00000000e+000,   0.00000000e+000,\n",
       "          0.00000000e+000,   0.00000000e+000,   0.00000000e+000,\n",
       "          0.00000000e+000,   0.00000000e+000,   0.00000000e+000,\n",
       "          0.00000000e+000,   0.00000000e+000,   0.00000000e+000,\n",
       "          0.00000000e+000,   0.00000000e+000,   0.00000000e+000,\n",
       "          0.00000000e+000,   0.00000000e+000,  -1.00321582e+127,\n",
       "          2.20789414e-314,   2.12407439e-314],\n",
       "       [  0.00000000e+000,   0.00000000e+000,   0.00000000e+000,\n",
       "          0.00000000e+000,   0.00000000e+000,   0.00000000e+000,\n",
       "          1.79955329e-048,   2.20345561e-314,   2.12407444e-314,\n",
       "          0.00000000e+000,   0.00000000e+000,   0.00000000e+000,\n",
       "          0.00000000e+000,   0.00000000e+000,   0.00000000e+000,\n",
       "          0.00000000e+000,   0.00000000e+000,   0.00000000e+000,\n",
       "          0.00000000e+000,   0.00000000e+000],\n",
       "       [  0.00000000e+000,   0.00000000e+000,   0.00000000e+000,\n",
       "          0.00000000e+000,  -1.39877970e+304,   2.20789506e-314,\n",
       "          2.12407448e-314,   0.00000000e+000,   0.00000000e+000,\n",
       "          0.00000000e+000,   0.00000000e+000,   0.00000000e+000,\n",
       "          0.00000000e+000,   0.00000000e+000,   0.00000000e+000,\n",
       "          0.00000000e+000,   0.00000000e+000,   0.00000000e+000,\n",
       "          0.00000000e+000,   0.00000000e+000],\n",
       "       [  0.00000000e+000,   0.00000000e+000,   0.00000000e+000,\n",
       "          0.00000000e+000,   0.00000000e+000,   0.00000000e+000,\n",
       "          0.00000000e+000,   0.00000000e+000,   0.00000000e+000,\n",
       "          0.00000000e+000,   0.00000000e+000,   0.00000000e+000,\n",
       "          0.00000000e+000,   0.00000000e+000,   0.00000000e+000,\n",
       "          0.00000000e+000,   0.00000000e+000,   0.00000000e+000,\n",
       "          0.00000000e+000,   0.00000000e+000],\n",
       "       [  0.00000000e+000,   0.00000000e+000,   0.00000000e+000,\n",
       "          0.00000000e+000,   0.00000000e+000,   0.00000000e+000,\n",
       "          0.00000000e+000,   0.00000000e+000,   0.00000000e+000,\n",
       "          6.01003748e+211,   2.20345675e-314,   2.12407435e-314,\n",
       "          0.00000000e+000,   0.00000000e+000,   0.00000000e+000,\n",
       "          0.00000000e+000,   0.00000000e+000,   0.00000000e+000,\n",
       "          0.00000000e+000,   0.00000000e+000],\n",
       "       [  0.00000000e+000,   0.00000000e+000,   0.00000000e+000,\n",
       "          0.00000000e+000,   0.00000000e+000,   0.00000000e+000,\n",
       "          0.00000000e+000,   0.00000000e+000,   0.00000000e+000,\n",
       "          0.00000000e+000,   0.00000000e+000,   0.00000000e+000,\n",
       "          0.00000000e+000,   6.79402758e+225,   2.20340960e-314,\n",
       "          2.12407434e-314,   3.08192256e+181,   2.20345743e-314,\n",
       "          2.12407436e-314,   0.00000000e+000],\n",
       "       [  0.00000000e+000,   0.00000000e+000,   0.00000000e+000,\n",
       "          0.00000000e+000,   0.00000000e+000,   0.00000000e+000,\n",
       "          0.00000000e+000,   0.00000000e+000,   0.00000000e+000,\n",
       "          0.00000000e+000,   0.00000000e+000,   0.00000000e+000,\n",
       "          0.00000000e+000,   0.00000000e+000,   0.00000000e+000,\n",
       "          0.00000000e+000,   0.00000000e+000,   0.00000000e+000,\n",
       "          0.00000000e+000,   0.00000000e+000],\n",
       "       [  0.00000000e+000,   0.00000000e+000,   0.00000000e+000,\n",
       "          0.00000000e+000,   0.00000000e+000,   0.00000000e+000,\n",
       "          0.00000000e+000,   0.00000000e+000,   0.00000000e+000,\n",
       "          0.00000000e+000,   0.00000000e+000,   0.00000000e+000,\n",
       "         -1.07675578e+222,   2.20967382e-314,   2.12407446e-314,\n",
       "          0.00000000e+000,   0.00000000e+000,   0.00000000e+000,\n",
       "          0.00000000e+000,   0.00000000e+000],\n",
       "       [  0.00000000e+000,   0.00000000e+000,   0.00000000e+000,\n",
       "          0.00000000e+000,   0.00000000e+000,   0.00000000e+000,\n",
       "          0.00000000e+000,   0.00000000e+000,   0.00000000e+000,\n",
       "          0.00000000e+000,   0.00000000e+000,   0.00000000e+000,\n",
       "          0.00000000e+000,   0.00000000e+000,   0.00000000e+000,\n",
       "          0.00000000e+000,   1.52110149e+163,   2.20789485e-314,\n",
       "          2.12407457e-314,   0.00000000e+000],\n",
       "       [  0.00000000e+000,   0.00000000e+000,   0.00000000e+000,\n",
       "          0.00000000e+000,   0.00000000e+000,  -2.53085227e-297,\n",
       "          2.20345614e-314,   2.12407455e-314,  -1.73458251e-113,\n",
       "          2.20340964e-314,   2.12407438e-314,   0.00000000e+000,\n",
       "          0.00000000e+000,   0.00000000e+000,   0.00000000e+000,\n",
       "          0.00000000e+000,   0.00000000e+000,   0.00000000e+000,\n",
       "          0.00000000e+000,   0.00000000e+000],\n",
       "       [  0.00000000e+000,   0.00000000e+000,   0.00000000e+000,\n",
       "          0.00000000e+000,   0.00000000e+000,   0.00000000e+000,\n",
       "          0.00000000e+000,   0.00000000e+000,   0.00000000e+000,\n",
       "          3.38662373e+156,   2.20789368e-314,   2.12407451e-314,\n",
       "          0.00000000e+000,   0.00000000e+000,   0.00000000e+000,\n",
       "          0.00000000e+000,   0.00000000e+000,   0.00000000e+000,\n",
       "          0.00000000e+000,   0.00000000e+000],\n",
       "       [  0.00000000e+000,   0.00000000e+000,   0.00000000e+000,\n",
       "          0.00000000e+000,   0.00000000e+000,   2.68156176e+154,\n",
       "          2.31420742e-314,   9.88131292e-323,   2.12326391e-314,\n",
       "          9.88131292e-324,   1.27319747e-313,   1.00128324e-307,\n",
       "          1.92211489e-315,   3.95252517e-323,   2.97079411e-313,\n",
       "          2.12407459e-314,   1.97626258e-323,   4.94065646e-324,\n",
       "          2.31420747e-314,   2.12199580e-314]])"
      ]
     },
     "execution_count": 80,
     "metadata": {},
     "output_type": "execute_result"
    }
   ],
   "source": [
    "tune4b_scores"
   ]
  },
  {
   "cell_type": "code",
   "execution_count": 22,
   "metadata": {
    "collapsed": false
   },
   "outputs": [
    {
     "data": {
      "text/plain": [
       "(0.8, 0.95)"
      ]
     },
     "execution_count": 22,
     "metadata": {},
     "output_type": "execute_result"
    },
    {
     "data": {
      "image/png": "[encoded data removed]",
      "text/plain": [
       "<matplotlib.figure.Figure at 0x109b22990>"
      ]
     },
     "metadata": {},
     "output_type": "display_data"
    }
   ],
   "source": [
    "%matplotlib inline\n",
    "# plot the value of max_samples for bagging (x-axis) versus the cross-validated accuracy (y-axis)\n",
    "# each line represents a different value of n_estimators\n",
    "plt.plot(sam_range, tune4b_scores[0,:],'r', label ='n_est=1')\n",
    "plt.plot(sam_range, tune4b_scores[4,:],'g',label = 'n_est=5')\n",
    "plt.plot(sam_range, tune4b_scores[9,:],'b',label = 'n_est=10')\n",
    "plt.plot(sam_range, tune4b_scores[14,:],'c', label ='n_est=15')\n",
    "plt.plot(sam_range, tune4b_scores[19,:],'m',label = 'n_est=20')\n",
    "plt.xlabel('Value of Max_samples for Bagging (GNB)')\n",
    "plt.ylabel('Cross-Validated Accuracy')\n",
    "plt.legend(bbox_to_anchor=(1, 1), loc=2, borderaxespad=0.)"
   ]
  },
  {
   "cell_type": "code",
   "execution_count": 85,
   "metadata": {
    "collapsed": false
   },
   "outputs": [
    {
     "name": "stdout",
     "output_type": "stream",
     "text": [
      "Bagging (GNB) average acurracy: 0.930514\n",
      "Bagging (GNB) average AUC: 0.722136\n",
      "Computation time (in second): 3.318390\n"
     ]
    }
   ],
   "source": [
    "# 10-fold cross-validation for Bagging using GNB as the base estimator \n",
    "m4b_start = time.time()\n",
    "gnb = GaussianNB()\n",
    "bag = BaggingClassifier(base_estimator=gnb, n_estimators=19, max_samples=19)\n",
    "m4b_scores = cross_val_score(bag, X, y, cv=10, scoring='accuracy').mean()\n",
    "# use average accuracy as an estimate of out-of-sample accuracy\n",
    "print (\"Bagging (GNB) average acurracy: %f\" % m4b_scores.mean())\n",
    "m4b_auc = cross_val_score(bag, X, y, cv=10, scoring='roc_auc')\n",
    "print (\"Bagging (GNB) average AUC: %f\" % m4b_auc.mean())\n",
    "m4b_end = time.time()\n",
    "m4b_time = m4b_end - m4b_start\n",
    "print (\"Computation time (in second): %f\" % m4b_time)"
   ]
  },
  {
   "cell_type": "markdown",
   "metadata": {},
   "source": [
    "<h3> Model 5: Ensemble Random Forest </h3>"
   ]
  },
  {
   "cell_type": "markdown",
   "metadata": {},
   "source": [
    "<b>Parameter tuning: n_estimator and max_depth</b>"
   ]
  },
  {
   "cell_type": "code",
   "execution_count": 96,
   "metadata": {
    "collapsed": false
   },
   "outputs": [
    {
     "name": "stdout",
     "output_type": "stream",
     "text": [
      "Computational time : 2282.234968\n",
      "Index of the best score: \n"
     ]
    },
    {
     "data": {
      "text/plain": [
       "(array([13]), array([7]))"
      ]
     },
     "execution_count": 96,
     "metadata": {},
     "output_type": "execute_result"
    }
   ],
   "source": [
    "# search for an optimal values of n_estimator and max_depth for Random Forest Classifier \n",
    "tune5_start = time.time()\n",
    "est_range = range(1,16)\n",
    "dep_range = range(1,16)\n",
    "tune5_scores = np.empty(shape=[15,15])\n",
    "for est in est_range:\n",
    "    for dep in dep_range:\n",
    "        rfc = RandomForestClassifier(n_estimators=est, max_depth=dep)\n",
    "        scores = cross_val_score(rfc, X, y, cv=10, scoring='accuracy')\n",
    "        tune5_scores[est-1, dep-1] = scores.mean()\n",
    "tune5_end = time.time()\n",
    "print (\"Computation time : %f\" % (tune5_end - tune5_start))\n",
    "print \"Index of the best score: \"\n",
    "np.where(tune5_scores == tune5_scores.max())"
   ]
  },
  {
   "cell_type": "code",
   "execution_count": 97,
   "metadata": {
    "collapsed": false
   },
   "outputs": [
    {
     "data": {
      "text/plain": [
       "<matplotlib.legend.Legend at 0x10b7719d0>"
      ]
     },
     "execution_count": 97,
     "metadata": {},
     "output_type": "execute_result"
    },
    {
     "data": {
      "image/png": "[encoded data removed]",
      "text/plain": [
       "<matplotlib.figure.Figure at 0x10a802e10>"
      ]
     },
     "metadata": {},
     "output_type": "display_data"
    }
   ],
   "source": [
    "%matplotlib inline\n",
    "# plot the value of max_samples for bagging (x-axis) versus the cross-validated accuracy (y-axis)\n",
    "# each line represents a different value of n_estimators\n",
    "plt.plot(dep_range, tune5_scores[0,:],'r', label ='n_est=1')\n",
    "plt.plot(dep_range, tune5_scores[4,:],'g',label = 'n_est=5')\n",
    "plt.plot(dep_range, tune5_scores[9,:],'b',label = 'n_est=10')\n",
    "plt.plot(dep_range, tune5_scores[14,:],'c', label ='n_est=15')\n",
    "plt.xlabel('Value of max_depth for Random Forest')\n",
    "plt.ylabel('Cross-Validated Accuracy')\n",
    "plt.legend(bbox_to_anchor=(1, 1), loc=2, borderaxespad=0.)"
   ]
  },
  {
   "cell_type": "markdown",
   "metadata": {},
   "source": [
    "<b>Average accurarcy and AUC </b>"
   ]
  },
  {
   "cell_type": "code",
   "execution_count": 98,
   "metadata": {
    "collapsed": false
   },
   "outputs": [
    {
     "name": "stdout",
     "output_type": "stream",
     "text": [
      "Bagging average scores: 0.930514\n",
      "Bagging AUC: 0.666655\n",
      "Computation time (in second): 8.071021\n"
     ]
    }
   ],
   "source": [
    "# 10-fold cross-validation for Bagging\n",
    "# previously found best n_estimator = 14, max_sample = 8\n",
    "m5_start = time.time()\n",
    "bag = BaggingClassifier(n_estimators=14, max_samples=8, max_features=1.0)\n",
    "m5_scores = cross_val_score(bag, X, y, cv=10, scoring='accuracy').mean()\n",
    "# use average accuracy as an estimate of out-of-sample accuracy\n",
    "print (\"Bagging average scores: %f\" % m5_scores.mean())\n",
    "m5_auc = cross_val_score(bag, X, y, cv=10, scoring='roc_auc')\n",
    "print (\"Bagging AUC: %f\" % m5_auc.mean())\n",
    "m5_end = time.time()\n",
    "m5_time = m5_end - m5_start\n",
    "print (\"Computation time (in second): %f\" % m5_time)"
   ]
  },
  {
   "cell_type": "markdown",
   "metadata": {},
   "source": [
    "<h3> Model 6: K Nearest Neighbor</h3>"
   ]
  },
  {
   "cell_type": "markdown",
   "metadata": {},
   "source": [
    "<b>Parameter tuning: k </b>"
   ]
  },
  {
   "cell_type": "code",
   "execution_count": 99,
   "metadata": {
    "collapsed": false
   },
   "outputs": [
    {
     "name": "stdout",
     "output_type": "stream",
     "text": [
      "Computation time: 2493.534561\n",
      "Index of the best score:\n"
     ]
    },
    {
     "data": {
      "text/plain": [
       "(array([24]),)"
      ]
     },
     "execution_count": 99,
     "metadata": {},
     "output_type": "execute_result"
    }
   ],
   "source": [
    "# search for an optimal value of K for KNN\n",
    "tune6_start = time.time()\n",
    "k_range = range(1, 140)\n",
    "tune6_scores = []\n",
    "for k in k_range:\n",
    "    knn = KNeighborsClassifier(n_neighbors=k)\n",
    "    scores = cross_val_score(knn, X, y, cv=10, scoring='accuracy')\n",
    "    tune6_scores.append(scores.mean())\n",
    "tune6_end = time.time()\n",
    "print (\"Computation time: %f\" % (tune6_end - tune6_start))\n",
    "print \"Index of the best score:\"\n",
    "np.where(tune6_scores == max(tune6_scores))"
   ]
  },
  {
   "cell_type": "code",
   "execution_count": 100,
   "metadata": {
    "collapsed": false
   },
   "outputs": [
    {
     "data": {
      "text/plain": [
       "(array([24]),)"
      ]
     },
     "execution_count": 100,
     "metadata": {},
     "output_type": "execute_result"
    },
    {
     "data": {
      "image/png": "[encoded data removed]",
      "text/plain": [
       "<matplotlib.figure.Figure at 0x10c466710>"
      ]
     },
     "metadata": {},
     "output_type": "display_data"
    }
   ],
   "source": [
    "%matplotlib inline\n",
    "# plot the value of K for KNN (x-axis) versus the cross-validated accuracy (y-axis)\n",
    "plt.plot(k_range, tune6_scores)\n",
    "plt.xlabel('Value of K for KNN')\n",
    "plt.ylabel('Cross-Validated Accuracy')\n",
    "np.where(tune6_scores == max(tune6_scores))"
   ]
  },
  {
   "cell_type": "markdown",
   "metadata": {},
   "source": [
    "<b>Average accurarcy and AUC </b>"
   ]
  },
  {
   "cell_type": "code",
   "execution_count": 101,
   "metadata": {
    "collapsed": false
   },
   "outputs": [
    {
     "name": "stdout",
     "output_type": "stream",
     "text": [
      "Knn average accuracy: 0.930722\n",
      "knn average AUC: 0.609942\n",
      "Computation time (in second): 37.716885\n"
     ]
    }
   ],
   "source": [
    "#previously found optimal k = 25\n",
    "m6_start = time.time()\n",
    "knn = KNeighborsClassifier(n_neighbors=25)\n",
    "m6_scores = cross_val_score(knn, X, y, cv=10, scoring='accuracy')\n",
    "# use average accuracy as an estimate of out-of-sample accuracy\n",
    "print (\"Knn average accuracy: %f\" %m6_scores.mean())\n",
    "m6_auc = cross_val_score(knn, X, y, cv=10, scoring='roc_auc')\n",
    "print (\"knn average AUC: %f\" %m6_auc.mean())\n",
    "m6_end = time.time()\n",
    "m6_time = m6_end - m6_start \n",
    "print (\"Computation time (in second): %f\" % m6_time)"
   ]
  },
  {
   "cell_type": "markdown",
   "metadata": {},
   "source": [
    "<h3> Model 7: SVM Gaussian Kernel </h3>"
   ]
  },
  {
   "cell_type": "markdown",
   "metadata": {},
   "source": [
    "<b> Parameter tuning: Gamma"
   ]
  },
  {
   "cell_type": "code",
   "execution_count": null,
   "metadata": {
    "collapsed": false
   },
   "outputs": [],
   "source": [
    "#this tuning hasn't been computed, it should take a LONG time\n",
    "tune7_start = time.time()\n",
    "gamma_range = [.1,1,5,10]\n",
    "tune7_scores = []\n",
    "for g in gamma_range:\n",
    "    svm_rbf = svm.SVC(kernel='rbf', gamma=g)\n",
    "    scores = cross_val_score(svm_rbf, X, y, cv=10, scoring='accuracy')\n",
    "    tune7_scores.append(scores.mean())\n",
    "tune7_end = time.time()\n",
    "print (\"Computation time: %f\"\n",
    "      % tune7_end - tune7_start)"
   ]
  },
  {
   "cell_type": "code",
   "execution_count": null,
   "metadata": {
    "collapsed": true
   },
   "outputs": [],
   "source": [
    "%matplotlib inline\n",
    "# plot the value of K for KNN (x-axis) versus the cross-validated accuracy (y-axis)\n",
    "plt.plot(gamma_range, tune7_scores)\n",
    "plt.xlabel('Value of gamma for SVM Gaussian')\n",
    "plt.ylabel('Cross-Validated Accuracy')"
   ]
  },
  {
   "cell_type": "markdown",
   "metadata": {},
   "source": [
    "<b>Average accurarcy and AUC </b>"
   ]
  },
  {
   "cell_type": "code",
   "execution_count": null,
   "metadata": {
    "collapsed": true
   },
   "outputs": [],
   "source": [
    "#10-fold cross-validation for SVM Gaussian\n",
    "#I used the default parameter\n",
    "m7_start = time.time()\n",
    "svm_rbf = svm.SVC(kernel='rbf')\n",
    "m7_scores = cross_val_score(svm_rbf, X, y, cv=10, scoring='accuracy')\n",
    "# use average accuracy as an estimate of out-of-sample accuracy\n",
    "print (\"SVM Gaussian average accuracy: %f\" %m7_scores.mean())\n",
    "m7_auc = cross_val_score(svm_rbf, X, y, cv=10, scoring='roc_auc')\n",
    "print (\"SVM Gaussian average AUC: %f\" %m7_auc.mean())\n",
    "m7_end = time.time()\n",
    "m7_time = m7_end - m7_start \n",
    "print (\"Computation time (in second): %f\" % m7_time)"
   ]
  },
  {
   "cell_type": "raw",
   "metadata": {},
   "source": [
    "#output getting from a different computer\n",
    "SVM Gaussian average accuracy: 0.930514\n",
    "SVM Gaussian average AUC: 0.499413 \n",
    "Computational time (in second): 32530.067046"
   ]
  },
  {
   "cell_type": "markdown",
   "metadata": {},
   "source": [
    "<h2> Model 8: Ensemble Voting Classifier</h2>"
   ]
  },
  {
   "cell_type": "markdown",
   "metadata": {},
   "source": [
    "<b>Average accurarcy and AUC</b>"
   ]
  },
  {
   "cell_type": "code",
   "execution_count": 8,
   "metadata": {
    "collapsed": false
   },
   "outputs": [
    {
     "name": "stdout",
     "output_type": "stream",
     "text": [
      "Voting Classifier average scores: 0.930664\n",
      "Voting Classifier AUC: 0.754522\n",
      "Computational time (in second): 85.602000\n"
     ]
    }
   ],
   "source": [
    "m8_start = time.time()\n",
    "clf1 = LogisticRegression(random_state=1)\n",
    "clf2 = RandomForestClassifier(random_state=1)\n",
    "clf3 = GaussianNB()\n",
    "eclf = VotingClassifier(estimators=[('lr', clf1), ('rf', clf2), ('gnb', clf3)], voting='soft')\n",
    "m8_scores = cross_val_score(eclf, X, y, cv=10, scoring='accuracy').mean()\n",
    "# use average accuracy as an estimate of out-of-sample accuracy\n",
    "print (\"Voting Classifier average scores: %f\" % m8_scores.mean())\n",
    "m8_auc = cross_val_score(eclf, X, y, cv=10, scoring='roc_auc')\n",
    "print (\"Voting Classifier AUC: %f\" % m8_auc.mean())\n",
    "m8_end = time.time()\n",
    "m8_time = m8_end - m8_start\n",
    "print (\"Computation time (in second): %f\" % m8_time)"
   ]
  },
  {
   "cell_type": "markdown",
   "metadata": {},
   "source": [
    "<h2> Compare the AUC, Computation Time, and ROC </h3>"
   ]
  },
  {
   "cell_type": "code",
   "execution_count": 7,
   "metadata": {
    "collapsed": false
   },
   "outputs": [
    {
     "name": "stdout",
     "output_type": "stream",
     "text": [
      "Gaussian Naive Bayes AUC:  0.716183181714\n",
      "Computational time: 0.108000\n",
      "Logistic Regression AUC:  0.636112690159\n",
      "Computational time: 1.541000\n",
      "Decision Tree AUC:  0.804537910471\n",
      "Computational time: 0.299000\n",
      "Bagging 1 AUC:  0.702322082049\n",
      "Computational time: 0.413000\n",
      "Bagging 2 AUC:  0.715067443105\n",
      "Computational time: 0.760000\n"
     ]
    }
   ],
   "source": [
    "start1 = time.time()\n",
    "gnb = GaussianNB()\n",
    "gnb.fit(X_train,y_train)\n",
    "gnb_y_pred_prob = gnb.predict_proba(X_test)[:, 1]\n",
    "gnb_fpr, gnb_tpr, gnb_thresholds = metrics.roc_curve(y_test, gnb_y_pred_prob)\n",
    "print 'Gaussian Naive Bayes AUC: ', metrics.roc_auc_score(y_test, gnb_y_pred_prob)\n",
    "end1 = time.time()\n",
    "run1 = end1 - start1\n",
    "print (\"Computation time: %f\" %run1 )\n",
    "\n",
    "start2 = time.time()\n",
    "logreg = LogisticRegression(C=1e9)\n",
    "logreg.fit(X_train,y_train)\n",
    "lr_y_pred_prob = logreg.predict_proba(X_test)[:, 1]\n",
    "lr_fpr, lr_tpr, lr_thresholds = metrics.roc_curve(y_test, lr_y_pred_prob)\n",
    "print 'Logistic Regression AUC: ', metrics.roc_auc_score(y_test, lr_y_pred_prob)\n",
    "end2 = time.time()\n",
    "run2 = end2 - start2\n",
    "print ('Computation time: %f' %run2)\n",
    "\n",
    "start3 = time.time()\n",
    "treeclf = DecisionTreeClassifier(max_depth = 4)\n",
    "treeclf.fit(X_train,y_train)\n",
    "ct_y_pred_prob = treeclf.predict_proba(X_test)[:, 1]\n",
    "ct_fpr, ct_tpr, ct_thresholds = metrics.roc_curve(y_test, ct_y_pred_prob)\n",
    "print 'Decision Tree AUC: ', metrics.roc_auc_score(y_test, ct_y_pred_prob)\n",
    "end3 = time.time()\n",
    "run3 = end3 - start3\n",
    "print ('Computation time: %f' %run3)\n",
    "\n",
    "start4a = time.time()\n",
    "bag = BaggingClassifier(n_estimators=19, max_samples=19)\n",
    "bag.fit(X_train,y_train)\n",
    "bag1_y_pred_prob = bag.predict_proba(X_test)[:, 1]\n",
    "bag1_fpr, bag1_tpr, bag1_thresholds = metrics.roc_curve(y_test, bag1_y_pred_prob)\n",
    "print 'Bagging 1 AUC: ', metrics.roc_auc_score(y_test, bag1_y_pred_prob)\n",
    "end4a = time.time()\n",
    "run4a = end4a - start4a\n",
    "print ('Computation time: %f' %run4a)\n",
    "\n",
    "start4b = time.time()\n",
    "gnb = GaussianNB()\n",
    "bag2 = BaggingClassifier(base_estimator=gnb)\n",
    "bag2.fit(X_train,y_train)\n",
    "bag2_y_pred_prob = bag2.predict_proba(X_test)[:, 1]\n",
    "bag2_fpr, bag2_tpr, bag2_thresholds = metrics.roc_curve(y_test, bag2_y_pred_prob)\n",
    "print 'Bagging 2 AUC: ', metrics.roc_auc_score(y_test, bag2_y_pred_prob)\n",
    "end4b = time.time()\n",
    "run4b = end4b - start4b\n",
    "print ('Computation time: %f' %run4b)"
   ]
  },
  {
   "cell_type": "code",
   "execution_count": 8,
   "metadata": {
    "collapsed": false
   },
   "outputs": [
    {
     "name": "stdout",
     "output_type": "stream",
     "text": [
      "Random Forest AUC:  0.835988175163\n",
      "Computational time: 0.554000\n",
      "Knn AUC:  0.555355126775\n",
      "Computational time: 3.579000\n",
      "SVM Gaussian Kernel AUC:  0.501177391837\n",
      "Computational time: 20375.881000\n"
     ]
    },
    {
     "ename": "NameError",
     "evalue": "name 'clf1' is not defined",
     "output_type": "error",
     "traceback": [
      "\u001b[1;31m---------------------------------------------------------------------------\u001b[0m",
      "\u001b[1;31mNameError\u001b[0m                                 Traceback (most recent call last)",
      "\u001b[1;32m<ipython-input-8-10c0e92f64c2>\u001b[0m in \u001b[0;36m<module>\u001b[1;34m()\u001b[0m\n\u001b[0;32m     30\u001b[0m \u001b[1;33m\u001b[0m\u001b[0m\n\u001b[0;32m     31\u001b[0m \u001b[0mstart8\u001b[0m \u001b[1;33m=\u001b[0m \u001b[0mtime\u001b[0m\u001b[1;33m.\u001b[0m\u001b[0mtime\u001b[0m\u001b[1;33m(\u001b[0m\u001b[1;33m)\u001b[0m\u001b[1;33m\u001b[0m\u001b[0m\n\u001b[1;32m---> 32\u001b[1;33m \u001b[0meclf\u001b[0m \u001b[1;33m=\u001b[0m \u001b[0mVotingClassifier\u001b[0m\u001b[1;33m(\u001b[0m\u001b[0mestimators\u001b[0m\u001b[1;33m=\u001b[0m\u001b[1;33m[\u001b[0m\u001b[1;33m(\u001b[0m\u001b[1;34m'lr'\u001b[0m\u001b[1;33m,\u001b[0m \u001b[0mclf1\u001b[0m\u001b[1;33m)\u001b[0m\u001b[1;33m,\u001b[0m \u001b[1;33m(\u001b[0m\u001b[1;34m'rf'\u001b[0m\u001b[1;33m,\u001b[0m \u001b[0mclf2\u001b[0m\u001b[1;33m)\u001b[0m\u001b[1;33m,\u001b[0m \u001b[1;33m(\u001b[0m\u001b[1;34m'gnb'\u001b[0m\u001b[1;33m,\u001b[0m \u001b[0mclf3\u001b[0m\u001b[1;33m)\u001b[0m\u001b[1;33m]\u001b[0m\u001b[1;33m,\u001b[0m \u001b[0mvoting\u001b[0m\u001b[1;33m=\u001b[0m\u001b[1;34m'soft'\u001b[0m\u001b[1;33m)\u001b[0m\u001b[1;33m\u001b[0m\u001b[0m\n\u001b[0m\u001b[0;32m     33\u001b[0m \u001b[0meclf\u001b[0m\u001b[1;33m.\u001b[0m\u001b[0mfit\u001b[0m\u001b[1;33m(\u001b[0m\u001b[0mX_train\u001b[0m\u001b[1;33m,\u001b[0m\u001b[0my_train\u001b[0m\u001b[1;33m)\u001b[0m\u001b[1;33m\u001b[0m\u001b[0m\n\u001b[0;32m     34\u001b[0m \u001b[0mvc_y_pred_prob\u001b[0m \u001b[1;33m=\u001b[0m \u001b[0meclf\u001b[0m\u001b[1;33m.\u001b[0m\u001b[0mpredict_proba\u001b[0m\u001b[1;33m(\u001b[0m\u001b[0mX_test\u001b[0m\u001b[1;33m)\u001b[0m\u001b[1;33m[\u001b[0m\u001b[1;33m:\u001b[0m\u001b[1;33m,\u001b[0m \u001b[1;36m1\u001b[0m\u001b[1;33m]\u001b[0m\u001b[1;33m\u001b[0m\u001b[0m\n",
      "\u001b[1;31mNameError\u001b[0m: name 'clf1' is not defined"
     ]
    }
   ],
   "source": [
    "#error fixed\n",
    "start5 = time.time()\n",
    "rfc = RandomForestClassifier(n_estimators=8, max_depth=4)\n",
    "rfc.fit(X_train,y_train)\n",
    "rf_y_pred_prob = rfc.predict_proba(X_test)[:, 1]\n",
    "rf_fpr, rf_tpr, rf_thresholds = metrics.roc_curve(y_test, rf_y_pred_prob)\n",
    "print 'Random Forest AUC: ', metrics.roc_auc_score(y_test, rf_y_pred_prob)\n",
    "end5 = time.time()\n",
    "run5 = end5 - start5\n",
    "print ('Computation time: %f' %run5)\n",
    "\n",
    "start6 = time.time()\n",
    "knn = KNeighborsClassifier(n_neighbors=135 )\n",
    "knn.fit(X_train,y_train)\n",
    "knn_y_pred_prob = knn.predict_proba(X_test)[:, 1]\n",
    "knn_fpr, knn_tpr, knn_thresholds = metrics.roc_curve(y_test, knn_y_pred_prob)\n",
    "print 'Knn AUC: ', metrics.roc_auc_score(y_test, knn_y_pred_prob)\n",
    "end6 = time.time()\n",
    "run6 = end6 - start6\n",
    "print ('Computation time: %f' %run6)\n",
    "\n",
    "start7 = time.time()\n",
    "svm_rbf = svm.SVC(kernel='rbf',probability=True)\n",
    "svm_rbf.fit(X_train,y_train)\n",
    "svm2_y_pred_prob = svm_rbf.predict_proba(X_test)[:, 1]\n",
    "svm2_fpr, svm2_tpr, svm2_thresholds = metrics.roc_curve(y_test, svm2_y_pred_prob)\n",
    "print 'SVM Gaussian Kernel AUC: ', metrics.roc_auc_score(y_test, svm2_y_pred_prob)\n",
    "end7 = time.time()\n",
    "run7 = end7 - start7\n",
    "print ('Computation time: %f' %run7)\n",
    "\n",
    "start8 = time.time()\n",
    "clf1 = LogisticRegression(random_state=1)\n",
    "clf2 = RandomForestClassifier(random_state=1)\n",
    "clf3 = GaussianNB()\n",
    "eclf = VotingClassifier(estimators=[('lr', clf1), ('rf', clf2), ('gnb', clf3)], voting='soft')\n",
    "eclf.fit(X_train,y_train)\n",
    "vc_y_pred_prob = eclf.predict_proba(X_test)[:, 1]\n",
    "vc_fpr, vc_tpr, vc_thresholds = metrics.roc_curve(y_test, vc_y_pred_prob)\n",
    "print 'Voting Classifier AUC: ', metrics.roc_auc_score(y_test, vc_y_pred_prob)\n",
    "end8 = time.time()\n",
    "run8 = end8 - start8\n",
    "print ('Computation time: %f' %run8)"
   ]
  },
  {
   "cell_type": "code",
   "execution_count": 20,
   "metadata": {
    "collapsed": false
   },
   "outputs": [
    {
     "data": {
      "text/plain": [
       "<matplotlib.legend.Legend at 0x2d6e60f0>"
      ]
     },
     "execution_count": 20,
     "metadata": {},
     "output_type": "execute_result"
    },
    {
     "data": {
      "image/png": "[encoded data removed]",
      "text/plain": [
       "<matplotlib.figure.Figure at 0x2c55cb00>"
      ]
     },
     "metadata": {},
     "output_type": "display_data"
    }
   ],
   "source": [
    "%matplotlib inline\n",
    "plt.plot(gnb_fpr, gnb_tpr, 'blue', label ='Naive Bayes')\n",
    "plt.plot(lr_fpr, lr_tpr, 'cyan', label ='Logistic Regression')\n",
    "plt.plot(knn_fpr, knn_tpr, 'deeppink', label ='k-Nearest Neighbors')\n",
    "plt.plot(ct_fpr, ct_tpr, 'purple', label = 'Decision Tree')\n",
    "plt.plot(svm2_fpr, svm2_tpr, 'red', label ='SVM Gaussian Kernel')\n",
    "plt.plot(bag1_fpr, bag1_tpr, 'yellow', label ='Bagging Tree clf')\n",
    "plt.plot(bag2_fpr, bag2_tpr, 'brown', label ='Bagging GNB')\n",
    "plt.plot(rf_fpr, rf_tpr, 'olive', label ='Random Forest')\n",
    "plt.plot(vc_fpr, vc_tpr, 'black' , label ='Voting Classifier')\n",
    "plt.xlim([0.0, 1.0])\n",
    "plt.ylim([0.0, 1.0])\n",
    "plt.xlabel('False Positive Rate (1 - Specificity)')\n",
    "plt.ylabel('True Positive Rate (Sensitivity)')\n",
    "plt.legend(bbox_to_anchor=(1, 1), loc=2, borderaxespad=0.)"
   ]
  },
  {
   "cell_type": "markdown",
   "metadata": {},
   "source": [
    "<b> It looks like Random Forest has the greatest AUC! </b>"
   ]
  },
  {
   "cell_type": "code",
   "execution_count": 5,
   "metadata": {
    "collapsed": false
   },
   "outputs": [
    {
     "name": "stdout",
     "output_type": "stream",
     "text": [
      "       Model        CV Accuracy  CV AUC       AUC       Computation Time\n",
      "------------------- ----------- -------- -------------- ----------------\n",
      "               Null    0.930514      0.5                                \n",
      "        Gaussian NB     0.92945 0.718049 0.716183181714   0.108000040054\n",
      "Logistic Regression    0.930622 0.636503 0.636112690159    1.54099988937\n",
      "      Decision Tree    0.932959 0.815798 0.804537910471   0.299000024796\n",
      "     Bagging (Tree)    0.930664 0.753579 0.702322082049   0.413000106812\n",
      "      Bagging (GNB)    0.929491 0.716806 0.715067443105   0.759999990463\n",
      "      Rondom Forest    0.930514 0.547731 0.835988175163   0.554000139236\n",
      "                Knn    0.930381  0.50587 0.555355126775    3.57899999619\n",
      "       SVM Gaussian    0.930514 0.499413 0.501177391837        20375.881\n",
      "  Voting Classifier    0.930664 0.754522 0.791764273171    3.24900007248\n"
     ]
    }
   ],
   "source": [
    "arr = np.array([['Null', 0.930514 ,0.5, '',''],\n",
    "             ['Gaussian NB', 0.929450, 0.718049, 0.716183181714, 0.108000040054],\n",
    "             ['Logistic Regression', 0.930622, 0.636503, 0.636112690159, 1.54099988937],\n",
    "             ['Decision Tree', 0.932959, 0.815798, 0.804537910471, 0.299000024796],\n",
    "             ['Bagging (Tree)', 0.930664, 0.753579, 0.702322082049, 0.413000106812],\n",
    "             ['Bagging (GNB)', 0.929491, 0.716806,0.715067443105, 0.759999990463],\n",
    "             ['Rondom Forest', 0.930514, 0.547731, 0.835988175163,0.554000139236],\n",
    "             ['Knn', 0.930381, 0.505870, 0.555355126775, 3.57899999619],\n",
    "             ['SVM Gaussian', 0.930514, 0.499413, 0.501177391837, 20375.881],\n",
    "            ['Voting Classifier', 0.930664, 0.754522, 0.791764273171, 3.24900007248]])\n",
    "t = Table(arr, names=('Model', 'CV Accuracy', 'CV AUC', 'AUC', 'Computation Time'))\n",
    "print t"
   ]
  },
  {
   "cell_type": "markdown",
   "metadata": {
    "collapsed": true
   },
   "source": [
    "<h1> Part2: Model Evaluation With feature selection </h2>\n",
    "<h3> Select K best features </h3>\n",
    "<b>Find the best value of K</b>"
   ]
  },
  {
   "cell_type": "code",
   "execution_count": 103,
   "metadata": {
    "collapsed": false
   },
   "outputs": [
    {
     "data": {
      "text/plain": [
       "<matplotlib.text.Text at 0x10a381dd0>"
      ]
     },
     "execution_count": 103,
     "metadata": {},
     "output_type": "execute_result"
    },
    {
     "data": {
      "image/png": "[encoded data removed]",
      "text/plain": [
       "<matplotlib.figure.Figure at 0x10a55bcd0>"
      ]
     },
     "metadata": {},
     "output_type": "display_data"
    }
   ],
   "source": [
    "#find the best value of K with chi2\n",
    "x_range = (1,10)\n",
    "gnb = GaussianNB()\n",
    "all_scores = []\n",
    "for i in x_range:\n",
    "    best_x = SelectKBest(chi2, k = i).fit_transform(X, y)\n",
    "    scores = cross_val_score(gnb, best_x, y, cv = 10, scoring = 'accuracy')\n",
    "    all_scores.append(scores.mean())\n",
    "    \n",
    "%matplotlib inline\n",
    "plt.plot(x_range, all_scores)\n",
    "plt.xlabel('Number of features')\n",
    "plt.ylabel('CV Accuracy')"
   ]
  },
  {
   "cell_type": "code",
   "execution_count": 105,
   "metadata": {
    "collapsed": false
   },
   "outputs": [
    {
     "data": {
      "text/plain": [
       "<matplotlib.text.Text at 0x10be59150>"
      ]
     },
     "execution_count": 105,
     "metadata": {},
     "output_type": "execute_result"
    },
    {
     "data": {
      "image/png": "[encoded data removed]",
      "text/plain": [
       "<matplotlib.figure.Figure at 0x10be17210>"
      ]
     },
     "metadata": {},
     "output_type": "display_data"
    }
   ],
   "source": [
    "#find the best value of K with f_classif\n",
    "x_range = (1,10)\n",
    "gnb = GaussianNB()\n",
    "all_scores = []\n",
    "for i in x_range:\n",
    "    best_x = SelectKBest(f_classif, k = i).fit_transform(X, y)\n",
    "    scores = cross_val_score(gnb, best_x, y, cv = 10, scoring = 'accuracy')\n",
    "    all_scores.append(scores.mean())\n",
    "    \n",
    "%matplotlib inline\n",
    "plt.plot(x_range, all_scores)\n",
    "plt.xlabel('Number of features')\n",
    "plt.ylabel('CV Accuracy')"
   ]
  },
  {
   "cell_type": "markdown",
   "metadata": {},
   "source": [
    "Both graphs suggest that using the least number of featues will yeild the best accuracy"
   ]
  },
  {
   "cell_type": "code",
   "execution_count": 107,
   "metadata": {
    "collapsed": false
   },
   "outputs": [],
   "source": [
    "X_new = SelectKBest(chi2, k=1).fit_transform(X, y)"
   ]
  },
  {
   "cell_type": "markdown",
   "metadata": {},
   "source": [
    "<h2> Model 1: Gaussian NB"
   ]
  },
  {
   "cell_type": "code",
   "execution_count": 113,
   "metadata": {
    "collapsed": false
   },
   "outputs": [
    {
     "name": "stdout",
     "output_type": "stream",
     "text": [
      "Gaussian NB average accracy: 0.930514\n",
      "Gaussian NB average AUC: 0.528596\n",
      "Computation time (in second): 1.037929\n"
     ]
    }
   ],
   "source": [
    "# 10-fold cross-validation for GaussianNB \n",
    "m1_start = time.time()\n",
    "gnb = GaussianNB()\n",
    "m1_scores = cross_val_score(gnb, X_new, y, cv=10, scoring='accuracy')\n",
    "# use average accuracy as an estimate of out-of-sample accuracy\n",
    "print (\"Gaussian NB average accracy: %f\" %m1_scores.mean())\n",
    "m1_auc = cross_val_score(gnb, X_new, y, cv=10, scoring='roc_auc')\n",
    "print (\"Gaussian NB average AUC: %f\" %m1_auc.mean())\n",
    "m1_end = time.time()\n",
    "m1_time = m1_end - m1_start \n",
    "print (\"Computation time (in second): %f\"\n",
    "      % m1_time)"
   ]
  },
  {
   "cell_type": "markdown",
   "metadata": {},
   "source": [
    "<h2> Model 2: Logistcl Regression </h2>"
   ]
  },
  {
   "cell_type": "code",
   "execution_count": 114,
   "metadata": {
    "collapsed": false
   },
   "outputs": [
    {
     "name": "stdout",
     "output_type": "stream",
     "text": [
      "Logistic regression average accracy: 0.930514\n",
      "Logistic regression average auc: 0.576061\n",
      "Computation time (in second): 5.741642\n"
     ]
    }
   ],
   "source": [
    "#10-fold cross-validation for logreg\n",
    "m2_start = time.time()\n",
    "logreg = LogisticRegression(C=1e9)\n",
    "m2_scores = cross_val_score(logreg, X_new, y, cv=10, scoring='accuracy')\n",
    "# use average accuracy as an estimate of out-of-sample accuracy\n",
    "print (\"Logistic regression average accracy: %f\" %m2_scores.mean())\n",
    "m2_auc = cross_val_score(logreg, X_new, y, cv=10, scoring='roc_auc')\n",
    "print (\"Logistic regression average auc: %f\" %m2_auc.mean())\n",
    "m2_end = time.time()\n",
    "m2_time = m2_end - m2_start \n",
    "print (\"Computation time (in second): %f\" % m2_time)"
   ]
  },
  {
   "cell_type": "markdown",
   "metadata": {},
   "source": [
    "<h2>Model 3: Decision Tree Classifier </h2>"
   ]
  },
  {
   "cell_type": "code",
   "execution_count": 110,
   "metadata": {
    "collapsed": false
   },
   "outputs": [
    {
     "name": "stdout",
     "output_type": "stream",
     "text": [
      "Computational time : 73.539042\n",
      "Index of the best score:\n"
     ]
    },
    {
     "data": {
      "text/plain": [
       "(array([0, 1, 2]),)"
      ]
     },
     "execution_count": 110,
     "metadata": {},
     "output_type": "execute_result"
    }
   ],
   "source": [
    "# search for an optimal value of max_depth for treeclf\n",
    "tune1_start = time.time()\n",
    "d_range = range(1,30)\n",
    "d_scores = []\n",
    "for d in d_range:\n",
    "    treeclf = DecisionTreeClassifier(max_depth=d)\n",
    "    scores = cross_val_score(treeclf, X_new, y, cv=10, scoring='accuracy')\n",
    "    d_scores.append(scores.mean())\n",
    "tune1_end = time.time()\n",
    "print \"Computation time : %f\" % (tune1_end - tune1_start)\n",
    "print \"Index of the best score:\"\n",
    "np.where(d_scores == max(d_scores))"
   ]
  },
  {
   "cell_type": "code",
   "execution_count": 111,
   "metadata": {
    "collapsed": false
   },
   "outputs": [
    {
     "data": {
      "text/plain": [
       "<matplotlib.text.Text at 0x10bf6d890>"
      ]
     },
     "execution_count": 111,
     "metadata": {},
     "output_type": "execute_result"
    },
    {
     "data": {
      "image/png": "[encoded data removed]",
      "text/plain": [
       "<matplotlib.figure.Figure at 0x10a0b1090>"
      ]
     },
     "metadata": {},
     "output_type": "display_data"
    }
   ],
   "source": [
    "%matplotlib inline\n",
    "# plot the value of d for treeclf (x-axis) versus the cross-validated accuracy (y-axis)\n",
    "plt.plot(d_range, d_scores)\n",
    "plt.xlabel('Value of d for depth')\n",
    "plt.ylabel('Cross-Validated Accuracy')"
   ]
  },
  {
   "cell_type": "markdown",
   "metadata": {},
   "source": [
    "<b> Average accuracy and AUC </b>"
   ]
  },
  {
   "cell_type": "code",
   "execution_count": 115,
   "metadata": {
    "collapsed": false
   },
   "outputs": [
    {
     "name": "stdout",
     "output_type": "stream",
     "text": [
      "Decision Tree average accuracy: 0.930514\n",
      "Decision Tree averageAUC: 0.576133\n",
      "Computation time (in second): 1.973863\n"
     ]
    }
   ],
   "source": [
    "# 10-fold cross-validation for Decision Tree with the optimal max depth (previously found max_depth=1,2,3)\n",
    "m3_start = time.time()\n",
    "treeclf = DecisionTreeClassifier(max_depth = 2)\n",
    "m3_scores = cross_val_score(treeclf, X_new, y, cv=10, scoring='accuracy').mean()\n",
    "# use average accuracy as an estimate of out-of-sample accuracy\n",
    "print (\"Decision Tree average accuracy: %f\" % m3_scores.mean())\n",
    "m3_auc = cross_val_score(treeclf, X_new, y, cv=10, scoring='roc_auc')\n",
    "print (\"Decision Tree averageAUC: %f\" % m3_auc.mean())\n",
    "m3_end = time.time()\n",
    "m3_time = m3_end - m3_start\n",
    "print (\"Computation time (in second): %f\" % m3_time)"
   ]
  },
  {
   "cell_type": "code",
   "execution_count": 17,
   "metadata": {
    "collapsed": false
   },
   "outputs": [
    {
     "name": "stdout",
     "output_type": "stream",
     "text": [
      "       Model        CV Accuracy  CV AUC  CV Accuracy2 CV AUC2 \n",
      "------------------- ----------- -------- ------------ --------\n",
      "               Null    0.930514      0.5     0.930514      0.5\n",
      "        Gaussian NB     0.92945 0.718049     0.930514 0.528596\n",
      "Logistic Regression    0.930622 0.636503     0.930514 0.576061\n",
      "      Decision Tree    0.932959 0.815798     0.930514 0.587392\n"
     ]
    }
   ],
   "source": [
    "arr = np.array([['Null', 0.930514 ,0.5, 0.930514 ,0.5],\n",
    "             ['Gaussian NB', 0.929450, 0.718049, 0.930514, 0.528596],\n",
    "             ['Logistic Regression', 0.930622, 0.636503, 0.930514, 0.576061],\n",
    "             ['Decision Tree', 0.932959, 0.815798, 0.930514,0.587392]])\n",
    "t = Table(arr, names=('Model', 'CV Accuracy', 'CV AUC', 'CV Accuracy2','CV AUC2'))\n",
    "print t"
   ]
  }
 ],
 "metadata": {
  "kernelspec": {
   "display_name": "Python 2",
   "language": "python",
   "name": "python2"
  },
  "language_info": {
   "codemirror_mode": {
    "name": "ipython",
    "version": 2
   },
   "file_extension": ".py",
   "mimetype": "text/x-python",
   "name": "python",
   "nbconvert_exporter": "python",
   "pygments_lexer": "ipython2",
   "version": "2.7.10"
  }
 },
 "nbformat": 4,
 "nbformat_minor": 0
}
